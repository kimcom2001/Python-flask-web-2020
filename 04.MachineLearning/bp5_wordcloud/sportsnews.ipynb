{
 "metadata": {
  "language_info": {
   "codemirror_mode": {
    "name": "ipython",
    "version": 3
   },
   "file_extension": ".py",
   "mimetype": "text/x-python",
   "name": "python",
   "nbconvert_exporter": "python",
   "pygments_lexer": "ipython3",
   "version": "3.8.5-final"
  },
  "orig_nbformat": 2,
  "kernelspec": {
   "name": "python3",
   "display_name": "Python 3",
   "language": "python"
  }
 },
 "nbformat": 4,
 "nbformat_minor": 2,
 "cells": [
  {
   "source": [
    "# 네이버 스포츠뉴스 최신뉴스 크롤링"
   ],
   "cell_type": "markdown",
   "metadata": {}
  },
  {
   "cell_type": "code",
   "execution_count": 1,
   "metadata": {},
   "outputs": [],
   "source": [
    "import requests, time\n",
    "from selenium import webdriver\n",
    "from selenium.webdriver.common.keys import Keys"
   ]
  },
  {
   "cell_type": "code",
   "execution_count": 2,
   "metadata": {},
   "outputs": [],
   "source": [
    "driver = webdriver.Chrome('./chromedriver')\n",
    "url = 'https://sports.news.naver.com/wfootball/news/index.nhn?isphoto=N'\n",
    "driver.get(url)\n",
    "time.sleep(1)"
   ]
  },
  {
   "cell_type": "code",
   "execution_count": 3,
   "metadata": {},
   "outputs": [],
   "source": [
    "while True:\n",
    "    page = driver.find_element_by_id('_pageList')\n",
    "    try:\n",
    "        next = page.find_element_by_class_name('next')\n",
    "        if next:\n",
    "            next.click()\n",
    "    except:\n",
    "        break"
   ]
  },
  {
   "cell_type": "code",
   "execution_count": 4,
   "metadata": {},
   "outputs": [
    {
     "output_type": "execute_result",
     "data": {
      "text/plain": [
       "7"
      ]
     },
     "metadata": {},
     "execution_count": 4
    }
   ],
   "source": [
    "page = driver.find_element_by_id('_pageList')\n",
    "try:\n",
    "    atags = page.find_elements_by_tag_name('a')\n",
    "    numPage = int(atags[-1].text)\n",
    "except:\n",
    "    numPage=1\n",
    "numPage"
   ]
  },
  {
   "cell_type": "code",
   "execution_count": 10,
   "metadata": {},
   "outputs": [
    {
     "output_type": "execute_result",
     "data": {
      "text/plain": [
       "7"
      ]
     },
     "metadata": {},
     "execution_count": 10
    }
   ],
   "source": [
    "page = driver.find_element_by_id('_pageList')\n",
    "atags = page.find_elements_by_tag_name('a')\n",
    "numPage = int(atags[-1].text)\n",
    "numPage"
   ]
  },
  {
   "cell_type": "code",
   "execution_count": 12,
   "metadata": {},
   "outputs": [
    {
     "output_type": "execute_result",
     "data": {
      "text/plain": [
       "20"
      ]
     },
     "metadata": {},
     "execution_count": 12
    }
   ],
   "source": [
    "news = driver.find_element_by_css_selector('.news_list')\n",
    "ul = news.find_element_by_tag_name('ul')\n",
    "lis = ul.find_elements_by_tag_name('li')\n",
    "len(lis)"
   ]
  },
  {
   "cell_type": "code",
   "execution_count": 13,
   "metadata": {},
   "outputs": [
    {
     "output_type": "stream",
     "name": "stdout",
     "text": [
      "[S크립트] '5경기 무패' 웨스트햄, 32점으로 EPL 반환점 역대 최다 승점\n",
      "벼랑 끝 램파드의 자신감 \"압박감? 내가 조절할 수 있어\"\n",
      "포르투갈 벤피카서 선수 5명 포함한 17명 코로나19 확진\n",
      "신트트라위던, 이승우 1월 이적 계속 추진\n",
      "‘뒤통수 가격 퇴장’ 메시, 2경기 출전정지 징계\n",
      "AS로마의 '코미디 축구', 1분 간 2명 퇴장에 이어 황당한 6명 교체\n",
      "'나는 못했지만' 네빌, '은퇴' 루니 향한 조언...:\"시메오네 같은 감독이 되라\"\n",
      "토트넘 비니시우스 “모우라, 훌륭한 영어 선생님”\n",
      "'김민재 영입설' 토트넘, '레알 CB' 밀리탕 관심...뮌헨과 경쟁\n",
      "몰라보게 몸 키운 ‘엘 니뇨’ 토레스, 코치로 새 삶\n",
      "‘뒤통수 때린’ 메시, 2경기 출전 정지… 바르사는 항소\n",
      "“레알 떠나고 싶어요”… 외데가르드, 구단에 이적 요청\n",
      "\"레스터전 패배→첼시 경질 준비\"...램파드, 감독직 잃을 '진짜' 위기\n",
      "'상위권' 솔샤르 감독, \"모든 경기 집중...우승 트로피 거머쥘 수 있길\"\n",
      "29세 영국 청년, 벨기에 프로축구 1부팀 사령탑으로\n",
      "알라바, 레알 이적 확정 아니다... 獨언론, “4~5월에 결정”\n",
      "[EPL 특집] EPL 역사상 최다 득점자는 누구? TOP 5\n",
      "1070억 사나이의 굴욕… 하베르츠 평점 4점 '폭탄'\n",
      "35세 만주키치, AC 밀란과 6개월 계약…'불혹' 즐라탄과 호흡\n",
      "지단 \"아자르 부활 1분도 의심한 적 없다\"\n"
     ]
    }
   ],
   "source": [
    "for li in lis:\n",
    "    text = li.find_element_by_css_selector('.text')\n",
    "    title = text.find_element_by_tag_name('span').text\n",
    "    print(title)"
   ]
  },
  {
   "cell_type": "code",
   "execution_count": 14,
   "metadata": {},
   "outputs": [
    {
     "output_type": "execute_result",
     "data": {
      "text/plain": [
       "6"
      ]
     },
     "metadata": {},
     "execution_count": 14
    }
   ],
   "source": [
    "page = driver.find_element_by_id('_pageList')\n",
    "atags = page.find_elements_by_tag_name('a')\n",
    "len(atags)"
   ]
  },
  {
   "cell_type": "code",
   "execution_count": 15,
   "metadata": {},
   "outputs": [],
   "source": [
    "menus = driver.find_elements_by_class_name('main_menu_item')\n",
    "events = []\n",
    "for i in range(1, len(menus)-4):\n",
    "    event = menus[i].find_element_by_tag_name('a').get_attribute('href')\n",
    "    events.append(event.split('/')[3])"
   ]
  },
  {
   "cell_type": "code",
   "execution_count": 16,
   "metadata": {},
   "outputs": [
    {
     "output_type": "execute_result",
     "data": {
      "text/plain": [
       "['kbaseball',\n",
       " 'wbaseball',\n",
       " 'kfootball',\n",
       " 'wfootball',\n",
       " 'basketball',\n",
       " 'volleyball',\n",
       " 'golf',\n",
       " 'general']"
      ]
     },
     "metadata": {},
     "execution_count": 16
    }
   ],
   "source": [
    "events"
   ]
  },
  {
   "cell_type": "code",
   "execution_count": 17,
   "metadata": {},
   "outputs": [
    {
     "output_type": "stream",
     "name": "stdout",
     "text": [
      "kbaseball: 1, 2, \n",
      "wbaseball: 1, 2, 3, \n",
      "kfootball: 1, 2, \n",
      "wfootball: 1, 2, 3, 4, 5, 6, 7, \n",
      "basketball: 1, 2, \n",
      "volleyball: 1, \n",
      "golf: 1, 2, 3, \n",
      "general: 1, 2, \n"
     ]
    }
   ],
   "source": [
    "base_url = 'https://sports.news.naver.com/'\n",
    "option_url = '/news/index.nhn?isphoto=N&page='\n",
    "title_list = []\n",
    "for event in events:\n",
    "    print(event, end=': 1, ')\n",
    "    url = f'{base_url}{event}{option_url}{i}'\n",
    "    driver.get(url)\n",
    "    time.sleep(1)\n",
    "    news = driver.find_element_by_css_selector('.news_list')\n",
    "    ul = news.find_element_by_tag_name('ul')\n",
    "    lis = ul.find_elements_by_tag_name('li')\n",
    "    for li in lis:\n",
    "        text = li.find_element_by_css_selector('.text')\n",
    "        title = text.find_element_by_tag_name('span').text\n",
    "        title_list.append(title)\n",
    "\n",
    "    while True:\n",
    "        page = driver.find_element_by_id('_pageList')\n",
    "        try:\n",
    "            next = page.find_element_by_class_name('next')\n",
    "            if next:\n",
    "                next.click()\n",
    "        except:\n",
    "            break\n",
    "\n",
    "    page = driver.find_element_by_id('_pageList')\n",
    "    try:\n",
    "        atags = page.find_elements_by_tag_name('a')\n",
    "        numPage = int(atags[-1].text)\n",
    "    except:\n",
    "        numPage=1\n",
    "\n",
    "    for i in range(2, numPage+1):\n",
    "        print(i, end=', ')\n",
    "        url = f'{base_url}{event}{option_url}{i}'\n",
    "        driver.get(url)\n",
    "        time.sleep(1)\n",
    "        news = driver.find_element_by_css_selector('.news_list')\n",
    "        ul = news.find_element_by_tag_name('ul')\n",
    "        lis = ul.find_elements_by_tag_name('li')\n",
    "        for li in lis:\n",
    "            text = li.find_element_by_css_selector('.text')\n",
    "            title = text.find_element_by_tag_name('span').text\n",
    "            title_list.append(title)\n",
    "    print()"
   ]
  },
  {
   "cell_type": "code",
   "execution_count": 18,
   "metadata": {},
   "outputs": [
    {
     "output_type": "execute_result",
     "data": {
      "text/plain": [
       "383"
      ]
     },
     "metadata": {},
     "execution_count": 18
    }
   ],
   "source": [
    "len(title_list)"
   ]
  },
  {
   "cell_type": "code",
   "execution_count": 19,
   "metadata": {},
   "outputs": [],
   "source": [
    "title_str = ' '.join(title for title in title_list)"
   ]
  },
  {
   "cell_type": "code",
   "execution_count": 20,
   "metadata": {},
   "outputs": [],
   "source": [
    "file = open('./sports.txt', 'w', encoding='utf-8')\n",
    "file.write(title_str)\n",
    "file.close()"
   ]
  },
  {
   "cell_type": "code",
   "execution_count": null,
   "metadata": {},
   "outputs": [],
   "source": []
  }
 ]
}