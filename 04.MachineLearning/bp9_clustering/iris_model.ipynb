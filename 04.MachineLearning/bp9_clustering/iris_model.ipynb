{
 "metadata": {
  "language_info": {
   "codemirror_mode": {
    "name": "ipython",
    "version": 3
   },
   "file_extension": ".py",
   "mimetype": "text/x-python",
   "name": "python",
   "nbconvert_exporter": "python",
   "pygments_lexer": "ipython3",
   "version": "3.8.5-final"
  },
  "orig_nbformat": 2,
  "kernelspec": {
   "name": "python3",
   "display_name": "Python 3",
   "language": "python"
  }
 },
 "nbformat": 4,
 "nbformat_minor": 2,
 "cells": [
  {
   "source": [
    "# Iris 모델"
   ],
   "cell_type": "markdown",
   "metadata": {}
  },
  {
   "cell_type": "code",
   "execution_count": 1,
   "metadata": {},
   "outputs": [],
   "source": [
    "import pandas as pd \n",
    "import joblib"
   ]
  },
  {
   "cell_type": "code",
   "execution_count": 2,
   "metadata": {},
   "outputs": [],
   "source": [
    "from sklearn.preprocessing import StandardScaler, MinMaxScaler\n",
    "from sklearn.linear_model import LogisticRegression\n",
    "from sklearn.svm import SVC\n",
    "from sklearn.ensemble import RandomForestClassifier\n",
    "from sklearn.tree import DecisionTreeClassifier\n",
    "from sklearn.model_selection import GridSearchCV\n",
    "from sklearn.metrics import accuracy_score"
   ]
  },
  {
   "source": [
    "### 데이터셋"
   ],
   "cell_type": "markdown",
   "metadata": {}
  },
  {
   "cell_type": "code",
   "execution_count": 3,
   "metadata": {},
   "outputs": [
    {
     "output_type": "execute_result",
     "data": {
      "text/plain": [
       "   sepal length (cm)  sepal width (cm)  petal length (cm)  petal width (cm)  \\\n",
       "0                5.1               3.3                1.7               0.5   \n",
       "1                6.1               3.0                4.9               1.8   \n",
       "2                5.1               3.4                1.5               0.2   \n",
       "3                5.1               3.5                1.4               0.3   \n",
       "4                5.2               3.4                1.4               0.2   \n",
       "\n",
       "   target  \n",
       "0       0  \n",
       "1       2  \n",
       "2       0  \n",
       "3       0  \n",
       "4       0  "
      ],
      "text/html": "<div>\n<style scoped>\n    .dataframe tbody tr th:only-of-type {\n        vertical-align: middle;\n    }\n\n    .dataframe tbody tr th {\n        vertical-align: top;\n    }\n\n    .dataframe thead th {\n        text-align: right;\n    }\n</style>\n<table border=\"1\" class=\"dataframe\">\n  <thead>\n    <tr style=\"text-align: right;\">\n      <th></th>\n      <th>sepal length (cm)</th>\n      <th>sepal width (cm)</th>\n      <th>petal length (cm)</th>\n      <th>petal width (cm)</th>\n      <th>target</th>\n    </tr>\n  </thead>\n  <tbody>\n    <tr>\n      <th>0</th>\n      <td>5.1</td>\n      <td>3.3</td>\n      <td>1.7</td>\n      <td>0.5</td>\n      <td>0</td>\n    </tr>\n    <tr>\n      <th>1</th>\n      <td>6.1</td>\n      <td>3.0</td>\n      <td>4.9</td>\n      <td>1.8</td>\n      <td>2</td>\n    </tr>\n    <tr>\n      <th>2</th>\n      <td>5.1</td>\n      <td>3.4</td>\n      <td>1.5</td>\n      <td>0.2</td>\n      <td>0</td>\n    </tr>\n    <tr>\n      <th>3</th>\n      <td>5.1</td>\n      <td>3.5</td>\n      <td>1.4</td>\n      <td>0.3</td>\n      <td>0</td>\n    </tr>\n    <tr>\n      <th>4</th>\n      <td>5.2</td>\n      <td>3.4</td>\n      <td>1.4</td>\n      <td>0.2</td>\n      <td>0</td>\n    </tr>\n  </tbody>\n</table>\n</div>"
     },
     "metadata": {},
     "execution_count": 3
    }
   ],
   "source": [
    "df_train = pd.read_csv('../static/data/iris_train.csv')\n",
    "df_train.head()"
   ]
  },
  {
   "cell_type": "code",
   "execution_count": 4,
   "metadata": {},
   "outputs": [
    {
     "output_type": "execute_result",
     "data": {
      "text/plain": [
       "((112, 4), (112,))"
      ]
     },
     "metadata": {},
     "execution_count": 4
    }
   ],
   "source": [
    "y_train = df_train.target.values\n",
    "scaler = MinMaxScaler()\n",
    "X_train = scaler.fit_transform(df_train.drop(columns='target', axis=1))\n",
    "X_train.shape, y_train.shape"
   ]
  },
  {
   "cell_type": "code",
   "execution_count": 5,
   "metadata": {},
   "outputs": [
    {
     "output_type": "execute_result",
     "data": {
      "text/plain": [
       "((38, 4), (38,))"
      ]
     },
     "metadata": {},
     "execution_count": 5
    }
   ],
   "source": [
    "df_test = pd.read_csv('../static/data/iris_test.csv')\n",
    "y_test = df_test.target.values\n",
    "X_test = scaler.fit_transform(df_test.drop(columns='target', axis=1))\n",
    "X_test.shape, y_test.shape"
   ]
  },
  {
   "cell_type": "code",
   "execution_count": 6,
   "metadata": {},
   "outputs": [
    {
     "output_type": "execute_result",
     "data": {
      "text/plain": [
       "{'C': 1.0,\n",
       " 'class_weight': None,\n",
       " 'dual': False,\n",
       " 'fit_intercept': True,\n",
       " 'intercept_scaling': 1,\n",
       " 'l1_ratio': None,\n",
       " 'max_iter': 100,\n",
       " 'multi_class': 'auto',\n",
       " 'n_jobs': None,\n",
       " 'penalty': 'l2',\n",
       " 'random_state': None,\n",
       " 'solver': 'lbfgs',\n",
       " 'tol': 0.0001,\n",
       " 'verbose': 0,\n",
       " 'warm_start': False}"
      ]
     },
     "metadata": {},
     "execution_count": 6
    }
   ],
   "source": [
    "lr_clf = LogisticRegression()\n",
    "lr_clf.get_params()"
   ]
  },
  {
   "cell_type": "code",
   "execution_count": 7,
   "metadata": {},
   "outputs": [],
   "source": [
    "params = {\n",
    "    'C': [3, 4, 5, 6, 7]\n",
    "}"
   ]
  },
  {
   "cell_type": "code",
   "execution_count": 8,
   "metadata": {},
   "outputs": [
    {
     "output_type": "stream",
     "name": "stdout",
     "text": [
      "최고 평균 정확도: 0.9739\n최적 파라미터: {'C': 4}\n"
     ]
    }
   ],
   "source": [
    "grid_cv = GridSearchCV(lr_clf, param_grid=params, scoring='accuracy', cv=5)\n",
    "grid_cv.fit(X_train, y_train)\n",
    "print(f'최고 평균 정확도: {grid_cv.best_score_:.4f}')\n",
    "print('최적 파라미터:', grid_cv.best_params_)"
   ]
  },
  {
   "cell_type": "code",
   "execution_count": 9,
   "metadata": {},
   "outputs": [
    {
     "output_type": "execute_result",
     "data": {
      "text/plain": [
       "0.9210526315789473"
      ]
     },
     "metadata": {},
     "execution_count": 9
    }
   ],
   "source": [
    "best_lr = grid_cv.best_estimator_\n",
    "pred = best_lr.predict(X_test)\n",
    "accuracy_score(y_test, pred)"
   ]
  },
  {
   "cell_type": "code",
   "execution_count": 10,
   "metadata": {},
   "outputs": [
    {
     "output_type": "execute_result",
     "data": {
      "text/plain": [
       "['../static/model/iris_lr.pkl']"
      ]
     },
     "metadata": {},
     "execution_count": 10
    }
   ],
   "source": [
    "joblib.dump(best_lr, '../static/model/iris_lr.pkl')"
   ]
  },
  {
   "source": [
    "### 2. SVM"
   ],
   "cell_type": "markdown",
   "metadata": {}
  },
  {
   "cell_type": "code",
   "execution_count": 11,
   "metadata": {},
   "outputs": [
    {
     "output_type": "execute_result",
     "data": {
      "text/plain": [
       "{'C': 1.0,\n",
       " 'break_ties': False,\n",
       " 'cache_size': 200,\n",
       " 'class_weight': None,\n",
       " 'coef0': 0.0,\n",
       " 'decision_function_shape': 'ovr',\n",
       " 'degree': 3,\n",
       " 'gamma': 'scale',\n",
       " 'kernel': 'rbf',\n",
       " 'max_iter': -1,\n",
       " 'probability': False,\n",
       " 'random_state': None,\n",
       " 'shrinking': True,\n",
       " 'tol': 0.001,\n",
       " 'verbose': False}"
      ]
     },
     "metadata": {},
     "execution_count": 11
    }
   ],
   "source": [
    "sv_clf = SVC()\n",
    "sv_clf.get_params()"
   ]
  },
  {
   "cell_type": "code",
   "execution_count": 12,
   "metadata": {},
   "outputs": [],
   "source": [
    "params = {\n",
    "    'C' : [2, 3, 4, 5, 6, 7]\n",
    "}"
   ]
  },
  {
   "cell_type": "code",
   "execution_count": 13,
   "metadata": {},
   "outputs": [
    {
     "output_type": "stream",
     "name": "stdout",
     "text": [
      "최고 평균 정확도: 0.9826\n최적 파라미터: {'C': 3}\n"
     ]
    }
   ],
   "source": [
    "grid_cv = GridSearchCV(sv_clf, param_grid=params, scoring='accuracy', cv=5)\n",
    "grid_cv.fit(X_train, y_train)\n",
    "print(f'최고 평균 정확도: {grid_cv.best_score_:.4f}')\n",
    "print('최적 파라미터:', grid_cv.best_params_)"
   ]
  },
  {
   "cell_type": "code",
   "execution_count": 14,
   "metadata": {},
   "outputs": [
    {
     "output_type": "execute_result",
     "data": {
      "text/plain": [
       "0.9210526315789473"
      ]
     },
     "metadata": {},
     "execution_count": 14
    }
   ],
   "source": [
    "best_sv = grid_cv.best_estimator_\n",
    "pred = best_sv.predict(X_test)\n",
    "accuracy_score(y_test, pred)"
   ]
  },
  {
   "cell_type": "code",
   "execution_count": 15,
   "metadata": {},
   "outputs": [
    {
     "output_type": "execute_result",
     "data": {
      "text/plain": [
       "['../static/model/iris_sv.pkl']"
      ]
     },
     "metadata": {},
     "execution_count": 15
    }
   ],
   "source": [
    "joblib.dump(best_sv, '../static/model/iris_sv.pkl')"
   ]
  },
  {
   "source": [
    "### 3. Random Forest"
   ],
   "cell_type": "markdown",
   "metadata": {}
  },
  {
   "cell_type": "code",
   "execution_count": 16,
   "metadata": {},
   "outputs": [
    {
     "output_type": "execute_result",
     "data": {
      "text/plain": [
       "{'bootstrap': True,\n",
       " 'ccp_alpha': 0.0,\n",
       " 'class_weight': None,\n",
       " 'criterion': 'gini',\n",
       " 'max_depth': None,\n",
       " 'max_features': 'auto',\n",
       " 'max_leaf_nodes': None,\n",
       " 'max_samples': None,\n",
       " 'min_impurity_decrease': 0.0,\n",
       " 'min_impurity_split': None,\n",
       " 'min_samples_leaf': 1,\n",
       " 'min_samples_split': 2,\n",
       " 'min_weight_fraction_leaf': 0.0,\n",
       " 'n_estimators': 100,\n",
       " 'n_jobs': None,\n",
       " 'oob_score': False,\n",
       " 'random_state': None,\n",
       " 'verbose': 0,\n",
       " 'warm_start': False}"
      ]
     },
     "metadata": {},
     "execution_count": 16
    }
   ],
   "source": [
    "rf_clf = RandomForestClassifier()\n",
    "rf_clf.get_params()"
   ]
  },
  {
   "cell_type": "code",
   "execution_count": 17,
   "metadata": {},
   "outputs": [],
   "source": [
    "params = {\n",
    "    'max_depth': [1, 5, 7, 10],\n",
    "    'min_samples_split': [3, 4, 5]\n",
    "}"
   ]
  },
  {
   "cell_type": "code",
   "execution_count": 18,
   "metadata": {},
   "outputs": [
    {
     "output_type": "stream",
     "name": "stdout",
     "text": [
      "최고 평균 정확도: 0.9826\n최적 파라미터: {'max_depth': 10, 'min_samples_split': 3}\n"
     ]
    }
   ],
   "source": [
    "grid_cv = GridSearchCV(rf_clf, param_grid=params, scoring='accuracy', cv=5)\n",
    "grid_cv.fit(X_train, y_train)\n",
    "print(f'최고 평균 정확도: {grid_cv.best_score_:.4f}')\n",
    "print('최적 파라미터:', grid_cv.best_params_)"
   ]
  },
  {
   "cell_type": "code",
   "execution_count": 19,
   "metadata": {},
   "outputs": [
    {
     "output_type": "execute_result",
     "data": {
      "text/plain": [
       "0.9210526315789473"
      ]
     },
     "metadata": {},
     "execution_count": 19
    }
   ],
   "source": [
    "best_rf = grid_cv.best_estimator_\n",
    "pred = best_rf.predict(X_test)\n",
    "accuracy_score(y_test, pred)"
   ]
  },
  {
   "cell_type": "code",
   "execution_count": 20,
   "metadata": {},
   "outputs": [
    {
     "output_type": "execute_result",
     "data": {
      "text/plain": [
       "['../static/model/iris_rf.pkl']"
      ]
     },
     "metadata": {},
     "execution_count": 20
    }
   ],
   "source": [
    "joblib.dump(best_rf, '../static/model/iris_rf.pkl')"
   ]
  },
  {
   "source": [
    "### PCA"
   ],
   "cell_type": "markdown",
   "metadata": {}
  },
  {
   "cell_type": "code",
   "execution_count": 21,
   "metadata": {},
   "outputs": [],
   "source": [
    "from sklearn.decomposition import PCA\n",
    "\n",
    "pca = PCA(n_components=2)"
   ]
  },
  {
   "cell_type": "code",
   "execution_count": 22,
   "metadata": {},
   "outputs": [],
   "source": [
    "df_total = pd.concat([df_train, df_test])\n",
    "df = df_total.iloc[:, :-1]"
   ]
  },
  {
   "cell_type": "code",
   "execution_count": 24,
   "metadata": {},
   "outputs": [
    {
     "output_type": "stream",
     "name": "stdout",
     "text": [
      "(150, 2)\n"
     ]
    }
   ],
   "source": [
    "scaler = StandardScaler()\n",
    "X_scaled = scaler.fit_transform(df.values)\n",
    "\n",
    "pca_array = pca.fit_transform(X_scaled)\n",
    "print(pca_array.shape)"
   ]
  },
  {
   "cell_type": "code",
   "execution_count": 50,
   "metadata": {},
   "outputs": [
    {
     "output_type": "execute_result",
     "data": {
      "text/plain": [
       "0     0\n",
       "1     2\n",
       "2     0\n",
       "3     0\n",
       "4     0\n",
       "     ..\n",
       "33    2\n",
       "34    0\n",
       "35    2\n",
       "36    0\n",
       "37    2\n",
       "Name: target, Length: 150, dtype: int64"
      ]
     },
     "metadata": {},
     "execution_count": 50
    }
   ],
   "source": [
    "df_total.iloc[:, -1]"
   ]
  },
  {
   "cell_type": "code",
   "execution_count": 25,
   "metadata": {},
   "outputs": [],
   "source": [
    "df_PC = pd.DataFrame(pca_array, columns=['pca_x', 'pca_y'])\n",
    "df_PC['target'] = df_total.iloc[:, -1].values"
   ]
  },
  {
   "cell_type": "code",
   "execution_count": 27,
   "metadata": {},
   "outputs": [],
   "source": [
    "import matplotlib.pyplot as plt\n",
    "%matplotlib inline"
   ]
  },
  {
   "cell_type": "code",
   "execution_count": 28,
   "metadata": {},
   "outputs": [
    {
     "output_type": "display_data",
     "data": {
      "text/plain": "<Figure size 432x288 with 1 Axes>",
      "image/svg+xml": "<?xml version=\"1.0\" encoding=\"utf-8\" standalone=\"no\"?>\r\n<!DOCTYPE svg PUBLIC \"-//W3C//DTD SVG 1.1//EN\"\r\n  \"http://www.w3.org/Graphics/SVG/1.1/DTD/svg11.dtd\">\r\n<!-- Created with matplotlib (https://matplotlib.org/) -->\r\n<svg height=\"277.314375pt\" version=\"1.1\" viewBox=\"0 0 384.620312 277.314375\" width=\"384.620312pt\" xmlns=\"http://www.w3.org/2000/svg\" xmlns:xlink=\"http://www.w3.org/1999/xlink\">\r\n <metadata>\r\n  <rdf:RDF xmlns:cc=\"http://creativecommons.org/ns#\" xmlns:dc=\"http://purl.org/dc/elements/1.1/\" xmlns:rdf=\"http://www.w3.org/1999/02/22-rdf-syntax-ns#\">\r\n   <cc:Work>\r\n    <dc:type rdf:resource=\"http://purl.org/dc/dcmitype/StillImage\"/>\r\n    <dc:date>2021-01-20T23:51:45.390500</dc:date>\r\n    <dc:format>image/svg+xml</dc:format>\r\n    <dc:creator>\r\n     <cc:Agent>\r\n      <dc:title>Matplotlib v3.3.2, https://matplotlib.org/</dc:title>\r\n     </cc:Agent>\r\n    </dc:creator>\r\n   </cc:Work>\r\n  </rdf:RDF>\r\n </metadata>\r\n <defs>\r\n  <style type=\"text/css\">*{stroke-linecap:butt;stroke-linejoin:round;}</style>\r\n </defs>\r\n <g id=\"figure_1\">\r\n  <g id=\"patch_1\">\r\n   <path d=\"M 0 277.314375 \r\nL 384.620312 277.314375 \r\nL 384.620312 0 \r\nL 0 0 \r\nz\r\n\" style=\"fill:none;\"/>\r\n  </g>\r\n  <g id=\"axes_1\">\r\n   <g id=\"patch_2\">\r\n    <path d=\"M 42.620313 239.758125 \r\nL 377.420313 239.758125 \r\nL 377.420313 22.318125 \r\nL 42.620313 22.318125 \r\nz\r\n\" style=\"fill:#ffffff;\"/>\r\n   </g>\r\n   <g id=\"PathCollection_1\">\r\n    <defs>\r\n     <path d=\"M -3 3 \r\nL 3 3 \r\nL 3 -3 \r\nL -3 -3 \r\nz\r\n\" id=\"mcdb90d968d\" style=\"stroke:#1f77b4;\"/>\r\n    </defs>\r\n    <g clip-path=\"url(#pcd255bed9e)\">\r\n     <use style=\"fill:#1f77b4;stroke:#1f77b4;\" x=\"105.639784\" xlink:href=\"#mcdb90d968d\" y=\"128.467341\"/>\r\n     <use style=\"fill:#1f77b4;stroke:#1f77b4;\" x=\"88.081285\" xlink:href=\"#mcdb90d968d\" y=\"121.681756\"/>\r\n     <use style=\"fill:#1f77b4;stroke:#1f77b4;\" x=\"87.048967\" xlink:href=\"#mcdb90d968d\" y=\"113.539985\"/>\r\n     <use style=\"fill:#1f77b4;stroke:#1f77b4;\" x=\"89.589201\" xlink:href=\"#mcdb90d968d\" y=\"120.040558\"/>\r\n     <use style=\"fill:#1f77b4;stroke:#1f77b4;\" x=\"86.374523\" xlink:href=\"#mcdb90d968d\" y=\"131.293138\"/>\r\n     <use style=\"fill:#1f77b4;stroke:#1f77b4;\" x=\"65.811257\" xlink:href=\"#mcdb90d968d\" y=\"65.245271\"/>\r\n     <use style=\"fill:#1f77b4;stroke:#1f77b4;\" x=\"79.395182\" xlink:href=\"#mcdb90d968d\" y=\"89.887062\"/>\r\n     <use style=\"fill:#1f77b4;stroke:#1f77b4;\" x=\"103.666414\" xlink:href=\"#mcdb90d968d\" y=\"218.153441\"/>\r\n     <use style=\"fill:#1f77b4;stroke:#1f77b4;\" x=\"86.186741\" xlink:href=\"#mcdb90d968d\" y=\"76.718646\"/>\r\n     <use style=\"fill:#1f77b4;stroke:#1f77b4;\" x=\"85.093398\" xlink:href=\"#mcdb90d968d\" y=\"94.694912\"/>\r\n     <use style=\"fill:#1f77b4;stroke:#1f77b4;\" x=\"83.454397\" xlink:href=\"#mcdb90d968d\" y=\"32.201761\"/>\r\n     <use style=\"fill:#1f77b4;stroke:#1f77b4;\" x=\"94.011427\" xlink:href=\"#mcdb90d968d\" y=\"122.670624\"/>\r\n     <use style=\"fill:#1f77b4;stroke:#1f77b4;\" x=\"82.240922\" xlink:href=\"#mcdb90d968d\" y=\"115.284235\"/>\r\n     <use style=\"fill:#1f77b4;stroke:#1f77b4;\" x=\"68.877858\" xlink:href=\"#mcdb90d968d\" y=\"149.368139\"/>\r\n     <use style=\"fill:#1f77b4;stroke:#1f77b4;\" x=\"100.855356\" xlink:href=\"#mcdb90d968d\" y=\"116.500532\"/>\r\n     <use style=\"fill:#1f77b4;stroke:#1f77b4;\" x=\"77.070674\" xlink:href=\"#mcdb90d968d\" y=\"107.691741\"/>\r\n     <use style=\"fill:#1f77b4;stroke:#1f77b4;\" x=\"101.643195\" xlink:href=\"#mcdb90d968d\" y=\"79.627667\"/>\r\n     <use style=\"fill:#1f77b4;stroke:#1f77b4;\" x=\"91.069173\" xlink:href=\"#mcdb90d968d\" y=\"148.6686\"/>\r\n     <use style=\"fill:#1f77b4;stroke:#1f77b4;\" x=\"84.923305\" xlink:href=\"#mcdb90d968d\" y=\"123.37448\"/>\r\n     <use style=\"fill:#1f77b4;stroke:#1f77b4;\" x=\"86.175677\" xlink:href=\"#mcdb90d968d\" y=\"139.263323\"/>\r\n     <use style=\"fill:#1f77b4;stroke:#1f77b4;\" x=\"70.193665\" xlink:href=\"#mcdb90d968d\" y=\"109.71063\"/>\r\n     <use style=\"fill:#1f77b4;stroke:#1f77b4;\" x=\"94.311795\" xlink:href=\"#mcdb90d968d\" y=\"107.146781\"/>\r\n     <use style=\"fill:#1f77b4;stroke:#1f77b4;\" x=\"92.786999\" xlink:href=\"#mcdb90d968d\" y=\"76.512541\"/>\r\n     <use style=\"fill:#1f77b4;stroke:#1f77b4;\" x=\"81.595231\" xlink:href=\"#mcdb90d968d\" y=\"153.746771\"/>\r\n     <use style=\"fill:#1f77b4;stroke:#1f77b4;\" x=\"86.629258\" xlink:href=\"#mcdb90d968d\" y=\"62.784475\"/>\r\n     <use style=\"fill:#1f77b4;stroke:#1f77b4;\" x=\"76.843884\" xlink:href=\"#mcdb90d968d\" y=\"145.931165\"/>\r\n     <use style=\"fill:#1f77b4;stroke:#1f77b4;\" x=\"77.326218\" xlink:href=\"#mcdb90d968d\" y=\"90.161701\"/>\r\n     <use style=\"fill:#1f77b4;stroke:#1f77b4;\" x=\"87.350144\" xlink:href=\"#mcdb90d968d\" y=\"148.994765\"/>\r\n     <use style=\"fill:#1f77b4;stroke:#1f77b4;\" x=\"92.520391\" xlink:href=\"#mcdb90d968d\" y=\"156.587259\"/>\r\n     <use style=\"fill:#1f77b4;stroke:#1f77b4;\" x=\"80.257408\" xlink:href=\"#mcdb90d968d\" y=\"126.708401\"/>\r\n     <use style=\"fill:#1f77b4;stroke:#1f77b4;\" x=\"64.903286\" xlink:href=\"#mcdb90d968d\" y=\"167.224344\"/>\r\n     <use style=\"fill:#1f77b4;stroke:#1f77b4;\" x=\"98.978501\" xlink:href=\"#mcdb90d968d\" y=\"154.791483\"/>\r\n     <use style=\"fill:#1f77b4;stroke:#1f77b4;\" x=\"104.993284\" xlink:href=\"#mcdb90d968d\" y=\"115.951255\"/>\r\n     <use style=\"fill:#1f77b4;stroke:#1f77b4;\" x=\"74.25288\" xlink:href=\"#mcdb90d968d\" y=\"52.025329\"/>\r\n     <use style=\"fill:#1f77b4;stroke:#1f77b4;\" x=\"79.831771\" xlink:href=\"#mcdb90d968d\" y=\"172.91801\"/>\r\n     <use style=\"fill:#1f77b4;stroke:#1f77b4;\" x=\"88.251378\" xlink:href=\"#mcdb90d968d\" y=\"93.002188\"/>\r\n     <use style=\"fill:#1f77b4;stroke:#1f77b4;\" x=\"78.3518\" xlink:href=\"#mcdb90d968d\" y=\"144.289968\"/>\r\n     <use style=\"fill:#1f77b4;stroke:#1f77b4;\" x=\"93.081439\" xlink:href=\"#mcdb90d968d\" y=\"157.953818\"/>\r\n     <use style=\"fill:#1f77b4;stroke:#1f77b4;\" x=\"57.838494\" xlink:href=\"#mcdb90d968d\" y=\"114.668741\"/>\r\n     <use style=\"fill:#1f77b4;stroke:#1f77b4;\" x=\"85.643382\" xlink:href=\"#mcdb90d968d\" y=\"158.606147\"/>\r\n     <use style=\"fill:#1f77b4;stroke:#1f77b4;\" x=\"83.301993\" xlink:href=\"#mcdb90d968d\" y=\"144.135389\"/>\r\n     <use style=\"fill:#1f77b4;stroke:#1f77b4;\" x=\"85.207601\" xlink:href=\"#mcdb90d968d\" y=\"126.553822\"/>\r\n     <use style=\"fill:#1f77b4;stroke:#1f77b4;\" x=\"83.329938\" xlink:href=\"#mcdb90d968d\" y=\"113.86615\"/>\r\n     <use style=\"fill:#1f77b4;stroke:#1f77b4;\" x=\"89.714469\" xlink:href=\"#mcdb90d968d\" y=\"89.354792\"/>\r\n     <use style=\"fill:#1f77b4;stroke:#1f77b4;\" x=\"88.137983\" xlink:href=\"#mcdb90d968d\" y=\"112.1219\"/>\r\n     <use style=\"fill:#1f77b4;stroke:#1f77b4;\" x=\"86.215494\" xlink:href=\"#mcdb90d968d\" y=\"97.42803\"/>\r\n     <use style=\"fill:#1f77b4;stroke:#1f77b4;\" x=\"75.080424\" xlink:href=\"#mcdb90d968d\" y=\"165.102404\"/>\r\n     <use style=\"fill:#1f77b4;stroke:#1f77b4;\" x=\"98.348202\" xlink:href=\"#mcdb90d968d\" y=\"114.151162\"/>\r\n     <use style=\"fill:#1f77b4;stroke:#1f77b4;\" x=\"89.561257\" xlink:href=\"#mcdb90d968d\" y=\"150.309798\"/>\r\n     <use style=\"fill:#1f77b4;stroke:#1f77b4;\" x=\"74.360347\" xlink:href=\"#mcdb90d968d\" y=\"129.870736\"/>\r\n    </g>\r\n   </g>\r\n   <g id=\"PathCollection_2\">\r\n    <defs>\r\n     <path d=\"M 0 -3 \r\nL -3 3 \r\nL 3 3 \r\nz\r\n\" id=\"md8ecd78233\" style=\"stroke:#ff7f0e;\"/>\r\n    </defs>\r\n    <g clip-path=\"url(#pcd255bed9e)\">\r\n     <use style=\"fill:#ff7f0e;stroke:#ff7f0e;\" x=\"247.672877\" xlink:href=\"#md8ecd78233\" y=\"129.25252\"/>\r\n     <use style=\"fill:#ff7f0e;stroke:#ff7f0e;\" x=\"263.292686\" xlink:href=\"#md8ecd78233\" y=\"149.468469\"/>\r\n     <use style=\"fill:#ff7f0e;stroke:#ff7f0e;\" x=\"263.945922\" xlink:href=\"#md8ecd78233\" y=\"115.998059\"/>\r\n     <use style=\"fill:#ff7f0e;stroke:#ff7f0e;\" x=\"298.529815\" xlink:href=\"#md8ecd78233\" y=\"97.933431\"/>\r\n     <use style=\"fill:#ff7f0e;stroke:#ff7f0e;\" x=\"290.031495\" xlink:href=\"#md8ecd78233\" y=\"120.713229\"/>\r\n     <use style=\"fill:#ff7f0e;stroke:#ff7f0e;\" x=\"256.752344\" xlink:href=\"#md8ecd78233\" y=\"161.665024\"/>\r\n     <use style=\"fill:#ff7f0e;stroke:#ff7f0e;\" x=\"214.964238\" xlink:href=\"#md8ecd78233\" y=\"189.433135\"/>\r\n     <use style=\"fill:#ff7f0e;stroke:#ff7f0e;\" x=\"362.202131\" xlink:href=\"#md8ecd78233\" y=\"130.976121\"/>\r\n     <use style=\"fill:#ff7f0e;stroke:#ff7f0e;\" x=\"281.674514\" xlink:href=\"#md8ecd78233\" y=\"94.104076\"/>\r\n     <use style=\"fill:#ff7f0e;stroke:#ff7f0e;\" x=\"309.636941\" xlink:href=\"#md8ecd78233\" y=\"60.528297\"/>\r\n     <use style=\"fill:#ff7f0e;stroke:#ff7f0e;\" x=\"311.895288\" xlink:href=\"#md8ecd78233\" y=\"34.421212\"/>\r\n     <use style=\"fill:#ff7f0e;stroke:#ff7f0e;\" x=\"298.671964\" xlink:href=\"#md8ecd78233\" y=\"99.523103\"/>\r\n     <use style=\"fill:#ff7f0e;stroke:#ff7f0e;\" x=\"288.868901\" xlink:href=\"#md8ecd78233\" y=\"99.415733\"/>\r\n     <use style=\"fill:#ff7f0e;stroke:#ff7f0e;\" x=\"274.864345\" xlink:href=\"#md8ecd78233\" y=\"164.825042\"/>\r\n     <use style=\"fill:#ff7f0e;stroke:#ff7f0e;\" x=\"275.448331\" xlink:href=\"#md8ecd78233\" y=\"92.080871\"/>\r\n     <use style=\"fill:#ff7f0e;stroke:#ff7f0e;\" x=\"289.823185\" xlink:href=\"#md8ecd78233\" y=\"110.821152\"/>\r\n     <use style=\"fill:#ff7f0e;stroke:#ff7f0e;\" x=\"317.967578\" xlink:href=\"#md8ecd78233\" y=\"36.999751\"/>\r\n     <use style=\"fill:#ff7f0e;stroke:#ff7f0e;\" x=\"244.657045\" xlink:href=\"#md8ecd78233\" y=\"132.534915\"/>\r\n     <use style=\"fill:#ff7f0e;stroke:#ff7f0e;\" x=\"306.910413\" xlink:href=\"#md8ecd78233\" y=\"110.831526\"/>\r\n     <use style=\"fill:#ff7f0e;stroke:#ff7f0e;\" x=\"318.448992\" xlink:href=\"#md8ecd78233\" y=\"122.036896\"/>\r\n     <use style=\"fill:#ff7f0e;stroke:#ff7f0e;\" x=\"341.542349\" xlink:href=\"#md8ecd78233\" y=\"116.323403\"/>\r\n     <use style=\"fill:#ff7f0e;stroke:#ff7f0e;\" x=\"259.635491\" xlink:href=\"#md8ecd78233\" y=\"174.65522\"/>\r\n     <use style=\"fill:#ff7f0e;stroke:#ff7f0e;\" x=\"290.166098\" xlink:href=\"#md8ecd78233\" y=\"117.310774\"/>\r\n     <use style=\"fill:#ff7f0e;stroke:#ff7f0e;\" x=\"290.836214\" xlink:href=\"#md8ecd78233\" y=\"116.115802\"/>\r\n     <use style=\"fill:#ff7f0e;stroke:#ff7f0e;\" x=\"254.521942\" xlink:href=\"#md8ecd78233\" y=\"157.50287\"/>\r\n     <use style=\"fill:#ff7f0e;stroke:#ff7f0e;\" x=\"264.84042\" xlink:href=\"#md8ecd78233\" y=\"105.991978\"/>\r\n     <use style=\"fill:#ff7f0e;stroke:#ff7f0e;\" x=\"245.523598\" xlink:href=\"#md8ecd78233\" y=\"152.798073\"/>\r\n     <use style=\"fill:#ff7f0e;stroke:#ff7f0e;\" x=\"286.056922\" xlink:href=\"#md8ecd78233\" y=\"138.569435\"/>\r\n     <use style=\"fill:#ff7f0e;stroke:#ff7f0e;\" x=\"296.977755\" xlink:href=\"#md8ecd78233\" y=\"157.968103\"/>\r\n     <use style=\"fill:#ff7f0e;stroke:#ff7f0e;\" x=\"270.015803\" xlink:href=\"#md8ecd78233\" y=\"148.004914\"/>\r\n     <use style=\"fill:#ff7f0e;stroke:#ff7f0e;\" x=\"311.770829\" xlink:href=\"#md8ecd78233\" y=\"116.0856\"/>\r\n     <use style=\"fill:#ff7f0e;stroke:#ff7f0e;\" x=\"272.69305\" xlink:href=\"#md8ecd78233\" y=\"121.674716\"/>\r\n     <use style=\"fill:#ff7f0e;stroke:#ff7f0e;\" x=\"296.550629\" xlink:href=\"#md8ecd78233\" y=\"92.799417\"/>\r\n     <use style=\"fill:#ff7f0e;stroke:#ff7f0e;\" x=\"336.596483\" xlink:href=\"#md8ecd78233\" y=\"99.919801\"/>\r\n     <use style=\"fill:#ff7f0e;stroke:#ff7f0e;\" x=\"297.384102\" xlink:href=\"#md8ecd78233\" y=\"108.911373\"/>\r\n     <use style=\"fill:#ff7f0e;stroke:#ff7f0e;\" x=\"289.775951\" xlink:href=\"#md8ecd78233\" y=\"138.24327\"/>\r\n     <use style=\"fill:#ff7f0e;stroke:#ff7f0e;\" x=\"334.250767\" xlink:href=\"#md8ecd78233\" y=\"102.007224\"/>\r\n     <use style=\"fill:#ff7f0e;stroke:#ff7f0e;\" x=\"255.383358\" xlink:href=\"#md8ecd78233\" y=\"143.345587\"/>\r\n     <use style=\"fill:#ff7f0e;stroke:#ff7f0e;\" x=\"252.334446\" xlink:href=\"#md8ecd78233\" y=\"142.476779\"/>\r\n     <use style=\"fill:#ff7f0e;stroke:#ff7f0e;\" x=\"276.769954\" xlink:href=\"#md8ecd78233\" y=\"147.243476\"/>\r\n     <use style=\"fill:#ff7f0e;stroke:#ff7f0e;\" x=\"242.864832\" xlink:href=\"#md8ecd78233\" y=\"130.996769\"/>\r\n     <use style=\"fill:#ff7f0e;stroke:#ff7f0e;\" x=\"259.818137\" xlink:href=\"#md8ecd78233\" y=\"194.80927\"/>\r\n     <use style=\"fill:#ff7f0e;stroke:#ff7f0e;\" x=\"289.242847\" xlink:href=\"#md8ecd78233\" y=\"106.607472\"/>\r\n     <use style=\"fill:#ff7f0e;stroke:#ff7f0e;\" x=\"270.205186\" xlink:href=\"#md8ecd78233\" y=\"122.172467\"/>\r\n     <use style=\"fill:#ff7f0e;stroke:#ff7f0e;\" x=\"268.640572\" xlink:href=\"#md8ecd78233\" y=\"133.373521\"/>\r\n     <use style=\"fill:#ff7f0e;stroke:#ff7f0e;\" x=\"294.358806\" xlink:href=\"#md8ecd78233\" y=\"94.331506\"/>\r\n     <use style=\"fill:#ff7f0e;stroke:#ff7f0e;\" x=\"254.521942\" xlink:href=\"#md8ecd78233\" y=\"157.50287\"/>\r\n     <use style=\"fill:#ff7f0e;stroke:#ff7f0e;\" x=\"291.730711\" xlink:href=\"#md8ecd78233\" y=\"106.109721\"/>\r\n     <use style=\"fill:#ff7f0e;stroke:#ff7f0e;\" x=\"276.139655\" xlink:href=\"#md8ecd78233\" y=\"106.603155\"/>\r\n     <use style=\"fill:#ff7f0e;stroke:#ff7f0e;\" x=\"265.271193\" xlink:href=\"#md8ecd78233\" y=\"94.202812\"/>\r\n    </g>\r\n   </g>\r\n   <g id=\"PathCollection_3\">\r\n    <defs>\r\n     <path d=\"M 0 3 \r\nC 0.795609 3 1.55874 2.683901 2.12132 2.12132 \r\nC 2.683901 1.55874 3 0.795609 3 0 \r\nC 3 -0.795609 2.683901 -1.55874 2.12132 -2.12132 \r\nC 1.55874 -2.683901 0.795609 -3 0 -3 \r\nC -0.795609 -3 -1.55874 -2.683901 -2.12132 -2.12132 \r\nC -2.683901 -1.55874 -3 -0.795609 -3 0 \r\nC -3 0.795609 -2.683901 1.55874 -2.12132 2.12132 \r\nC -1.55874 2.683901 -0.795609 3 0 3 \r\nz\r\n\" id=\"m6ab6c51be6\" style=\"stroke:#2ca02c;\"/>\r\n    </defs>\r\n    <g clip-path=\"url(#pcd255bed9e)\">\r\n     <use style=\"fill:#2ca02c;stroke:#2ca02c;\" x=\"258.678351\" xlink:href=\"#m6ab6c51be6\" y=\"108.822092\"/>\r\n     <use style=\"fill:#2ca02c;stroke:#2ca02c;\" x=\"220.429718\" xlink:href=\"#m6ab6c51be6\" y=\"147.081344\"/>\r\n     <use style=\"fill:#2ca02c;stroke:#2ca02c;\" x=\"251.715891\" xlink:href=\"#m6ab6c51be6\" y=\"99.691453\"/>\r\n     <use style=\"fill:#2ca02c;stroke:#2ca02c;\" x=\"201.17633\" xlink:href=\"#m6ab6c51be6\" y=\"138.341087\"/>\r\n     <use style=\"fill:#2ca02c;stroke:#2ca02c;\" x=\"200.087314\" xlink:href=\"#m6ab6c51be6\" y=\"139.759172\"/>\r\n     <use style=\"fill:#2ca02c;stroke:#2ca02c;\" x=\"231.75257\" xlink:href=\"#m6ab6c51be6\" y=\"133.981462\"/>\r\n     <use style=\"fill:#2ca02c;stroke:#2ca02c;\" x=\"218.649378\" xlink:href=\"#m6ab6c51be6\" y=\"133.977145\"/>\r\n     <use style=\"fill:#2ca02c;stroke:#2ca02c;\" x=\"248.852351\" xlink:href=\"#m6ab6c51be6\" y=\"182.825453\"/>\r\n     <use style=\"fill:#2ca02c;stroke:#2ca02c;\" x=\"228.26114\" xlink:href=\"#m6ab6c51be6\" y=\"147.046825\"/>\r\n     <use style=\"fill:#2ca02c;stroke:#2ca02c;\" x=\"203.148779\" xlink:href=\"#m6ab6c51be6\" y=\"189.461598\"/>\r\n     <use style=\"fill:#2ca02c;stroke:#2ca02c;\" x=\"213.439313\" xlink:href=\"#m6ab6c51be6\" y=\"168.219945\"/>\r\n     <use style=\"fill:#2ca02c;stroke:#2ca02c;\" x=\"216.988249\" xlink:href=\"#m6ab6c51be6\" y=\"196.573348\"/>\r\n     <use style=\"fill:#2ca02c;stroke:#2ca02c;\" x=\"214.125629\" xlink:href=\"#m6ab6c51be6\" y=\"138.900737\"/>\r\n     <use style=\"fill:#2ca02c;stroke:#2ca02c;\" x=\"224.722348\" xlink:href=\"#m6ab6c51be6\" y=\"196.955356\"/>\r\n     <use style=\"fill:#2ca02c;stroke:#2ca02c;\" x=\"249.680816\" xlink:href=\"#m6ab6c51be6\" y=\"155.095917\"/>\r\n     <use style=\"fill:#2ca02c;stroke:#2ca02c;\" x=\"229.858834\" xlink:href=\"#m6ab6c51be6\" y=\"139.996975\"/>\r\n     <use style=\"fill:#2ca02c;stroke:#2ca02c;\" x=\"259.455126\" xlink:href=\"#m6ab6c51be6\" y=\"134.493904\"/>\r\n     <use style=\"fill:#2ca02c;stroke:#2ca02c;\" x=\"233.186908\" xlink:href=\"#m6ab6c51be6\" y=\"109.624683\"/>\r\n     <use style=\"fill:#2ca02c;stroke:#2ca02c;\" x=\"243.018724\" xlink:href=\"#m6ab6c51be6\" y=\"130.441436\"/>\r\n     <use style=\"fill:#2ca02c;stroke:#2ca02c;\" x=\"218.071449\" xlink:href=\"#m6ab6c51be6\" y=\"100.335149\"/>\r\n     <use style=\"fill:#2ca02c;stroke:#2ca02c;\" x=\"191.094786\" xlink:href=\"#m6ab6c51be6\" y=\"229.874489\"/>\r\n     <use style=\"fill:#2ca02c;stroke:#2ca02c;\" x=\"197.779686\" xlink:href=\"#m6ab6c51be6\" y=\"189.839289\"/>\r\n     <use style=\"fill:#2ca02c;stroke:#2ca02c;\" x=\"209.44786\" xlink:href=\"#m6ab6c51be6\" y=\"153.800713\"/>\r\n     <use style=\"fill:#2ca02c;stroke:#2ca02c;\" x=\"208.687965\" xlink:href=\"#m6ab6c51be6\" y=\"160.404339\"/>\r\n     <use style=\"fill:#2ca02c;stroke:#2ca02c;\" x=\"194.592952\" xlink:href=\"#m6ab6c51be6\" y=\"170.822629\"/>\r\n     <use style=\"fill:#2ca02c;stroke:#2ca02c;\" x=\"250.400084\" xlink:href=\"#m6ab6c51be6\" y=\"139.348962\"/>\r\n     <use style=\"fill:#2ca02c;stroke:#2ca02c;\" x=\"178.490808\" xlink:href=\"#m6ab6c51be6\" y=\"206.376144\"/>\r\n     <use style=\"fill:#2ca02c;stroke:#2ca02c;\" x=\"258.338165\" xlink:href=\"#m6ab6c51be6\" y=\"166.181228\"/>\r\n     <use style=\"fill:#2ca02c;stroke:#2ca02c;\" x=\"204.855541\" xlink:href=\"#m6ab6c51be6\" y=\"179.850215\"/>\r\n     <use style=\"fill:#2ca02c;stroke:#2ca02c;\" x=\"232.597915\" xlink:href=\"#m6ab6c51be6\" y=\"138.527364\"/>\r\n     <use style=\"fill:#2ca02c;stroke:#2ca02c;\" x=\"210.565629\" xlink:href=\"#m6ab6c51be6\" y=\"173.092011\"/>\r\n     <use style=\"fill:#2ca02c;stroke:#2ca02c;\" x=\"216.048118\" xlink:href=\"#m6ab6c51be6\" y=\"153.594608\"/>\r\n     <use style=\"fill:#2ca02c;stroke:#2ca02c;\" x=\"257.883776\" xlink:href=\"#m6ab6c51be6\" y=\"191.681453\"/>\r\n     <use style=\"fill:#2ca02c;stroke:#2ca02c;\" x=\"233.946802\" xlink:href=\"#m6ab6c51be6\" y=\"103.021057\"/>\r\n     <use style=\"fill:#2ca02c;stroke:#2ca02c;\" x=\"240.393039\" xlink:href=\"#m6ab6c51be6\" y=\"112.791335\"/>\r\n     <use style=\"fill:#2ca02c;stroke:#2ca02c;\" x=\"194.938274\" xlink:href=\"#m6ab6c51be6\" y=\"147.883935\"/>\r\n     <use style=\"fill:#2ca02c;stroke:#2ca02c;\" x=\"207.809668\" xlink:href=\"#m6ab6c51be6\" y=\"142.286185\"/>\r\n     <use style=\"fill:#2ca02c;stroke:#2ca02c;\" x=\"172.231545\" xlink:href=\"#m6ab6c51be6\" y=\"200.201736\"/>\r\n     <use style=\"fill:#2ca02c;stroke:#2ca02c;\" x=\"207.996642\" xlink:href=\"#m6ab6c51be6\" y=\"145.882054\"/>\r\n     <use style=\"fill:#2ca02c;stroke:#2ca02c;\" x=\"174.215058\" xlink:href=\"#m6ab6c51be6\" y=\"188.77757\"/>\r\n     <use style=\"fill:#2ca02c;stroke:#2ca02c;\" x=\"264.551795\" xlink:href=\"#m6ab6c51be6\" y=\"119.370816\"/>\r\n     <use style=\"fill:#2ca02c;stroke:#2ca02c;\" x=\"211.041227\" xlink:href=\"#m6ab6c51be6\" y=\"163.309043\"/>\r\n     <use style=\"fill:#2ca02c;stroke:#2ca02c;\" x=\"249.062261\" xlink:href=\"#m6ab6c51be6\" y=\"112.310592\"/>\r\n     <use style=\"fill:#2ca02c;stroke:#2ca02c;\" x=\"233.504285\" xlink:href=\"#m6ab6c51be6\" y=\"116.955229\"/>\r\n     <use style=\"fill:#2ca02c;stroke:#2ca02c;\" x=\"240.336341\" xlink:href=\"#m6ab6c51be6\" y=\"122.351191\"/>\r\n     <use style=\"fill:#2ca02c;stroke:#2ca02c;\" x=\"204.550037\" xlink:href=\"#m6ab6c51be6\" y=\"160.953616\"/>\r\n     <use style=\"fill:#2ca02c;stroke:#2ca02c;\" x=\"197.17814\" xlink:href=\"#m6ab6c51be6\" y=\"169.908351\"/>\r\n     <use style=\"fill:#2ca02c;stroke:#2ca02c;\" x=\"225.436609\" xlink:href=\"#m6ab6c51be6\" y=\"137.366909\"/>\r\n     <use style=\"fill:#2ca02c;stroke:#2ca02c;\" x=\"227.846568\" xlink:href=\"#m6ab6c51be6\" y=\"130.711757\"/>\r\n     <use style=\"fill:#2ca02c;stroke:#2ca02c;\" x=\"210.785683\" xlink:href=\"#m6ab6c51be6\" y=\"180.839083\"/>\r\n    </g>\r\n   </g>\r\n   <g id=\"matplotlib.axis_1\">\r\n    <g id=\"xtick_1\">\r\n     <g id=\"line2d_1\">\r\n      <defs>\r\n       <path d=\"M 0 0 \r\nL 0 3.5 \r\n\" id=\"m3a6fef7fbf\" style=\"stroke:#000000;stroke-width:0.8;\"/>\r\n      </defs>\r\n      <g>\r\n       <use style=\"stroke:#000000;stroke-width:0.8;\" x=\"46.55159\" xlink:href=\"#m3a6fef7fbf\" y=\"239.758125\"/>\r\n      </g>\r\n     </g>\r\n     <g id=\"text_1\">\r\n      <!-- −3 -->\r\n      <g transform=\"translate(39.180496 254.356562)scale(0.1 -0.1)\">\r\n       <defs>\r\n        <path d=\"M 10.59375 35.5 \r\nL 73.1875 35.5 \r\nL 73.1875 27.203125 \r\nL 10.59375 27.203125 \r\nz\r\n\" id=\"DejaVuSans-8722\"/>\r\n        <path d=\"M 40.578125 39.3125 \r\nQ 47.65625 37.796875 51.625 33 \r\nQ 55.609375 28.21875 55.609375 21.1875 \r\nQ 55.609375 10.40625 48.1875 4.484375 \r\nQ 40.765625 -1.421875 27.09375 -1.421875 \r\nQ 22.515625 -1.421875 17.65625 -0.515625 \r\nQ 12.796875 0.390625 7.625 2.203125 \r\nL 7.625 11.71875 \r\nQ 11.71875 9.328125 16.59375 8.109375 \r\nQ 21.484375 6.890625 26.8125 6.890625 \r\nQ 36.078125 6.890625 40.9375 10.546875 \r\nQ 45.796875 14.203125 45.796875 21.1875 \r\nQ 45.796875 27.640625 41.28125 31.265625 \r\nQ 36.765625 34.90625 28.71875 34.90625 \r\nL 20.21875 34.90625 \r\nL 20.21875 43.015625 \r\nL 29.109375 43.015625 \r\nQ 36.375 43.015625 40.234375 45.921875 \r\nQ 44.09375 48.828125 44.09375 54.296875 \r\nQ 44.09375 59.90625 40.109375 62.90625 \r\nQ 36.140625 65.921875 28.71875 65.921875 \r\nQ 24.65625 65.921875 20.015625 65.03125 \r\nQ 15.375 64.15625 9.8125 62.3125 \r\nL 9.8125 71.09375 \r\nQ 15.4375 72.65625 20.34375 73.4375 \r\nQ 25.25 74.21875 29.59375 74.21875 \r\nQ 40.828125 74.21875 47.359375 69.109375 \r\nQ 53.90625 64.015625 53.90625 55.328125 \r\nQ 53.90625 49.265625 50.4375 45.09375 \r\nQ 46.96875 40.921875 40.578125 39.3125 \r\nz\r\n\" id=\"DejaVuSans-51\"/>\r\n       </defs>\r\n       <use xlink:href=\"#DejaVuSans-8722\"/>\r\n       <use x=\"83.789062\" xlink:href=\"#DejaVuSans-51\"/>\r\n      </g>\r\n     </g>\r\n    </g>\r\n    <g id=\"xtick_2\">\r\n     <g id=\"line2d_2\">\r\n      <g>\r\n       <use style=\"stroke:#000000;stroke-width:0.8;\" x=\"96.569934\" xlink:href=\"#m3a6fef7fbf\" y=\"239.758125\"/>\r\n      </g>\r\n     </g>\r\n     <g id=\"text_2\">\r\n      <!-- −2 -->\r\n      <g transform=\"translate(89.19884 254.356562)scale(0.1 -0.1)\">\r\n       <defs>\r\n        <path d=\"M 19.1875 8.296875 \r\nL 53.609375 8.296875 \r\nL 53.609375 0 \r\nL 7.328125 0 \r\nL 7.328125 8.296875 \r\nQ 12.9375 14.109375 22.625 23.890625 \r\nQ 32.328125 33.6875 34.8125 36.53125 \r\nQ 39.546875 41.84375 41.421875 45.53125 \r\nQ 43.3125 49.21875 43.3125 52.78125 \r\nQ 43.3125 58.59375 39.234375 62.25 \r\nQ 35.15625 65.921875 28.609375 65.921875 \r\nQ 23.96875 65.921875 18.8125 64.3125 \r\nQ 13.671875 62.703125 7.8125 59.421875 \r\nL 7.8125 69.390625 \r\nQ 13.765625 71.78125 18.9375 73 \r\nQ 24.125 74.21875 28.421875 74.21875 \r\nQ 39.75 74.21875 46.484375 68.546875 \r\nQ 53.21875 62.890625 53.21875 53.421875 \r\nQ 53.21875 48.921875 51.53125 44.890625 \r\nQ 49.859375 40.875 45.40625 35.40625 \r\nQ 44.1875 33.984375 37.640625 27.21875 \r\nQ 31.109375 20.453125 19.1875 8.296875 \r\nz\r\n\" id=\"DejaVuSans-50\"/>\r\n       </defs>\r\n       <use xlink:href=\"#DejaVuSans-8722\"/>\r\n       <use x=\"83.789062\" xlink:href=\"#DejaVuSans-50\"/>\r\n      </g>\r\n     </g>\r\n    </g>\r\n    <g id=\"xtick_3\">\r\n     <g id=\"line2d_3\">\r\n      <g>\r\n       <use style=\"stroke:#000000;stroke-width:0.8;\" x=\"146.588277\" xlink:href=\"#m3a6fef7fbf\" y=\"239.758125\"/>\r\n      </g>\r\n     </g>\r\n     <g id=\"text_3\">\r\n      <!-- −1 -->\r\n      <g transform=\"translate(139.217184 254.356562)scale(0.1 -0.1)\">\r\n       <defs>\r\n        <path d=\"M 12.40625 8.296875 \r\nL 28.515625 8.296875 \r\nL 28.515625 63.921875 \r\nL 10.984375 60.40625 \r\nL 10.984375 69.390625 \r\nL 28.421875 72.90625 \r\nL 38.28125 72.90625 \r\nL 38.28125 8.296875 \r\nL 54.390625 8.296875 \r\nL 54.390625 0 \r\nL 12.40625 0 \r\nz\r\n\" id=\"DejaVuSans-49\"/>\r\n       </defs>\r\n       <use xlink:href=\"#DejaVuSans-8722\"/>\r\n       <use x=\"83.789062\" xlink:href=\"#DejaVuSans-49\"/>\r\n      </g>\r\n     </g>\r\n    </g>\r\n    <g id=\"xtick_4\">\r\n     <g id=\"line2d_4\">\r\n      <g>\r\n       <use style=\"stroke:#000000;stroke-width:0.8;\" x=\"196.606621\" xlink:href=\"#m3a6fef7fbf\" y=\"239.758125\"/>\r\n      </g>\r\n     </g>\r\n     <g id=\"text_4\">\r\n      <!-- 0 -->\r\n      <g transform=\"translate(193.425371 254.356562)scale(0.1 -0.1)\">\r\n       <defs>\r\n        <path d=\"M 31.78125 66.40625 \r\nQ 24.171875 66.40625 20.328125 58.90625 \r\nQ 16.5 51.421875 16.5 36.375 \r\nQ 16.5 21.390625 20.328125 13.890625 \r\nQ 24.171875 6.390625 31.78125 6.390625 \r\nQ 39.453125 6.390625 43.28125 13.890625 \r\nQ 47.125 21.390625 47.125 36.375 \r\nQ 47.125 51.421875 43.28125 58.90625 \r\nQ 39.453125 66.40625 31.78125 66.40625 \r\nz\r\nM 31.78125 74.21875 \r\nQ 44.046875 74.21875 50.515625 64.515625 \r\nQ 56.984375 54.828125 56.984375 36.375 \r\nQ 56.984375 17.96875 50.515625 8.265625 \r\nQ 44.046875 -1.421875 31.78125 -1.421875 \r\nQ 19.53125 -1.421875 13.0625 8.265625 \r\nQ 6.59375 17.96875 6.59375 36.375 \r\nQ 6.59375 54.828125 13.0625 64.515625 \r\nQ 19.53125 74.21875 31.78125 74.21875 \r\nz\r\n\" id=\"DejaVuSans-48\"/>\r\n       </defs>\r\n       <use xlink:href=\"#DejaVuSans-48\"/>\r\n      </g>\r\n     </g>\r\n    </g>\r\n    <g id=\"xtick_5\">\r\n     <g id=\"line2d_5\">\r\n      <g>\r\n       <use style=\"stroke:#000000;stroke-width:0.8;\" x=\"246.624965\" xlink:href=\"#m3a6fef7fbf\" y=\"239.758125\"/>\r\n      </g>\r\n     </g>\r\n     <g id=\"text_5\">\r\n      <!-- 1 -->\r\n      <g transform=\"translate(243.443715 254.356562)scale(0.1 -0.1)\">\r\n       <use xlink:href=\"#DejaVuSans-49\"/>\r\n      </g>\r\n     </g>\r\n    </g>\r\n    <g id=\"xtick_6\">\r\n     <g id=\"line2d_6\">\r\n      <g>\r\n       <use style=\"stroke:#000000;stroke-width:0.8;\" x=\"296.643309\" xlink:href=\"#m3a6fef7fbf\" y=\"239.758125\"/>\r\n      </g>\r\n     </g>\r\n     <g id=\"text_6\">\r\n      <!-- 2 -->\r\n      <g transform=\"translate(293.462059 254.356562)scale(0.1 -0.1)\">\r\n       <use xlink:href=\"#DejaVuSans-50\"/>\r\n      </g>\r\n     </g>\r\n    </g>\r\n    <g id=\"xtick_7\">\r\n     <g id=\"line2d_7\">\r\n      <g>\r\n       <use style=\"stroke:#000000;stroke-width:0.8;\" x=\"346.661652\" xlink:href=\"#m3a6fef7fbf\" y=\"239.758125\"/>\r\n      </g>\r\n     </g>\r\n     <g id=\"text_7\">\r\n      <!-- 3 -->\r\n      <g transform=\"translate(343.480402 254.356562)scale(0.1 -0.1)\">\r\n       <use xlink:href=\"#DejaVuSans-51\"/>\r\n      </g>\r\n     </g>\r\n    </g>\r\n    <g id=\"text_8\">\r\n     <!-- PCA 1 -->\r\n     <g transform=\"translate(195.323438 268.034687)scale(0.1 -0.1)\">\r\n      <defs>\r\n       <path d=\"M 19.671875 64.796875 \r\nL 19.671875 37.40625 \r\nL 32.078125 37.40625 \r\nQ 38.96875 37.40625 42.71875 40.96875 \r\nQ 46.484375 44.53125 46.484375 51.125 \r\nQ 46.484375 57.671875 42.71875 61.234375 \r\nQ 38.96875 64.796875 32.078125 64.796875 \r\nz\r\nM 9.8125 72.90625 \r\nL 32.078125 72.90625 \r\nQ 44.34375 72.90625 50.609375 67.359375 \r\nQ 56.890625 61.8125 56.890625 51.125 \r\nQ 56.890625 40.328125 50.609375 34.8125 \r\nQ 44.34375 29.296875 32.078125 29.296875 \r\nL 19.671875 29.296875 \r\nL 19.671875 0 \r\nL 9.8125 0 \r\nz\r\n\" id=\"DejaVuSans-80\"/>\r\n       <path d=\"M 64.40625 67.28125 \r\nL 64.40625 56.890625 \r\nQ 59.421875 61.53125 53.78125 63.8125 \r\nQ 48.140625 66.109375 41.796875 66.109375 \r\nQ 29.296875 66.109375 22.65625 58.46875 \r\nQ 16.015625 50.828125 16.015625 36.375 \r\nQ 16.015625 21.96875 22.65625 14.328125 \r\nQ 29.296875 6.6875 41.796875 6.6875 \r\nQ 48.140625 6.6875 53.78125 8.984375 \r\nQ 59.421875 11.28125 64.40625 15.921875 \r\nL 64.40625 5.609375 \r\nQ 59.234375 2.09375 53.4375 0.328125 \r\nQ 47.65625 -1.421875 41.21875 -1.421875 \r\nQ 24.65625 -1.421875 15.125 8.703125 \r\nQ 5.609375 18.84375 5.609375 36.375 \r\nQ 5.609375 53.953125 15.125 64.078125 \r\nQ 24.65625 74.21875 41.21875 74.21875 \r\nQ 47.75 74.21875 53.53125 72.484375 \r\nQ 59.328125 70.75 64.40625 67.28125 \r\nz\r\n\" id=\"DejaVuSans-67\"/>\r\n       <path d=\"M 34.1875 63.1875 \r\nL 20.796875 26.90625 \r\nL 47.609375 26.90625 \r\nz\r\nM 28.609375 72.90625 \r\nL 39.796875 72.90625 \r\nL 67.578125 0 \r\nL 57.328125 0 \r\nL 50.6875 18.703125 \r\nL 17.828125 18.703125 \r\nL 11.1875 0 \r\nL 0.78125 0 \r\nz\r\n\" id=\"DejaVuSans-65\"/>\r\n       <path id=\"DejaVuSans-32\"/>\r\n      </defs>\r\n      <use xlink:href=\"#DejaVuSans-80\"/>\r\n      <use x=\"60.302734\" xlink:href=\"#DejaVuSans-67\"/>\r\n      <use x=\"130.126953\" xlink:href=\"#DejaVuSans-65\"/>\r\n      <use x=\"198.535156\" xlink:href=\"#DejaVuSans-32\"/>\r\n      <use x=\"230.322266\" xlink:href=\"#DejaVuSans-49\"/>\r\n     </g>\r\n    </g>\r\n   </g>\r\n   <g id=\"matplotlib.axis_2\">\r\n    <g id=\"ytick_1\">\r\n     <g id=\"line2d_8\">\r\n      <defs>\r\n       <path d=\"M 0 0 \r\nL -3.5 0 \r\n\" id=\"mb40dcbba58\" style=\"stroke:#000000;stroke-width:0.8;\"/>\r\n      </defs>\r\n      <g>\r\n       <use style=\"stroke:#000000;stroke-width:0.8;\" x=\"42.620313\" xlink:href=\"#mb40dcbba58\" y=\"205.664057\"/>\r\n      </g>\r\n     </g>\r\n     <g id=\"text_9\">\r\n      <!-- −2 -->\r\n      <g transform=\"translate(20.878125 209.463275)scale(0.1 -0.1)\">\r\n       <use xlink:href=\"#DejaVuSans-8722\"/>\r\n       <use x=\"83.789062\" xlink:href=\"#DejaVuSans-50\"/>\r\n      </g>\r\n     </g>\r\n    </g>\r\n    <g id=\"ytick_2\">\r\n     <g id=\"line2d_9\">\r\n      <g>\r\n       <use style=\"stroke:#000000;stroke-width:0.8;\" x=\"42.620313\" xlink:href=\"#mb40dcbba58\" y=\"168.649169\"/>\r\n      </g>\r\n     </g>\r\n     <g id=\"text_10\">\r\n      <!-- −1 -->\r\n      <g transform=\"translate(20.878125 172.448387)scale(0.1 -0.1)\">\r\n       <use xlink:href=\"#DejaVuSans-8722\"/>\r\n       <use x=\"83.789062\" xlink:href=\"#DejaVuSans-49\"/>\r\n      </g>\r\n     </g>\r\n    </g>\r\n    <g id=\"ytick_3\">\r\n     <g id=\"line2d_10\">\r\n      <g>\r\n       <use style=\"stroke:#000000;stroke-width:0.8;\" x=\"42.620313\" xlink:href=\"#mb40dcbba58\" y=\"131.634281\"/>\r\n      </g>\r\n     </g>\r\n     <g id=\"text_11\">\r\n      <!-- 0 -->\r\n      <g transform=\"translate(29.257813 135.433499)scale(0.1 -0.1)\">\r\n       <use xlink:href=\"#DejaVuSans-48\"/>\r\n      </g>\r\n     </g>\r\n    </g>\r\n    <g id=\"ytick_4\">\r\n     <g id=\"line2d_11\">\r\n      <g>\r\n       <use style=\"stroke:#000000;stroke-width:0.8;\" x=\"42.620313\" xlink:href=\"#mb40dcbba58\" y=\"94.619393\"/>\r\n      </g>\r\n     </g>\r\n     <g id=\"text_12\">\r\n      <!-- 1 -->\r\n      <g transform=\"translate(29.257813 98.418611)scale(0.1 -0.1)\">\r\n       <use xlink:href=\"#DejaVuSans-49\"/>\r\n      </g>\r\n     </g>\r\n    </g>\r\n    <g id=\"ytick_5\">\r\n     <g id=\"line2d_12\">\r\n      <g>\r\n       <use style=\"stroke:#000000;stroke-width:0.8;\" x=\"42.620313\" xlink:href=\"#mb40dcbba58\" y=\"57.604505\"/>\r\n      </g>\r\n     </g>\r\n     <g id=\"text_13\">\r\n      <!-- 2 -->\r\n      <g transform=\"translate(29.257813 61.403723)scale(0.1 -0.1)\">\r\n       <use xlink:href=\"#DejaVuSans-50\"/>\r\n      </g>\r\n     </g>\r\n    </g>\r\n    <g id=\"text_14\">\r\n     <!-- PCA 2 -->\r\n     <g transform=\"translate(14.798438 145.735)rotate(-90)scale(0.1 -0.1)\">\r\n      <use xlink:href=\"#DejaVuSans-80\"/>\r\n      <use x=\"60.302734\" xlink:href=\"#DejaVuSans-67\"/>\r\n      <use x=\"130.126953\" xlink:href=\"#DejaVuSans-65\"/>\r\n      <use x=\"198.535156\" xlink:href=\"#DejaVuSans-32\"/>\r\n      <use x=\"230.322266\" xlink:href=\"#DejaVuSans-50\"/>\r\n     </g>\r\n    </g>\r\n   </g>\r\n   <g id=\"patch_3\">\r\n    <path d=\"M 42.620313 239.758125 \r\nL 42.620313 22.318125 \r\n\" style=\"fill:none;stroke:#000000;stroke-linecap:square;stroke-linejoin:miter;stroke-width:0.8;\"/>\r\n   </g>\r\n   <g id=\"patch_4\">\r\n    <path d=\"M 377.420313 239.758125 \r\nL 377.420313 22.318125 \r\n\" style=\"fill:none;stroke:#000000;stroke-linecap:square;stroke-linejoin:miter;stroke-width:0.8;\"/>\r\n   </g>\r\n   <g id=\"patch_5\">\r\n    <path d=\"M 42.620313 239.758125 \r\nL 377.420313 239.758125 \r\n\" style=\"fill:none;stroke:#000000;stroke-linecap:square;stroke-linejoin:miter;stroke-width:0.8;\"/>\r\n   </g>\r\n   <g id=\"patch_6\">\r\n    <path d=\"M 42.620313 22.318125 \r\nL 377.420313 22.318125 \r\n\" style=\"fill:none;stroke:#000000;stroke-linecap:square;stroke-linejoin:miter;stroke-width:0.8;\"/>\r\n   </g>\r\n   <g id=\"text_15\">\r\n    <!-- Original Data Visualization by 2 PCA Components -->\r\n    <g transform=\"translate(61.830625 16.318125)scale(0.12 -0.12)\">\r\n     <defs>\r\n      <path d=\"M 39.40625 66.21875 \r\nQ 28.65625 66.21875 22.328125 58.203125 \r\nQ 16.015625 50.203125 16.015625 36.375 \r\nQ 16.015625 22.609375 22.328125 14.59375 \r\nQ 28.65625 6.59375 39.40625 6.59375 \r\nQ 50.140625 6.59375 56.421875 14.59375 \r\nQ 62.703125 22.609375 62.703125 36.375 \r\nQ 62.703125 50.203125 56.421875 58.203125 \r\nQ 50.140625 66.21875 39.40625 66.21875 \r\nz\r\nM 39.40625 74.21875 \r\nQ 54.734375 74.21875 63.90625 63.9375 \r\nQ 73.09375 53.65625 73.09375 36.375 \r\nQ 73.09375 19.140625 63.90625 8.859375 \r\nQ 54.734375 -1.421875 39.40625 -1.421875 \r\nQ 24.03125 -1.421875 14.8125 8.828125 \r\nQ 5.609375 19.09375 5.609375 36.375 \r\nQ 5.609375 53.65625 14.8125 63.9375 \r\nQ 24.03125 74.21875 39.40625 74.21875 \r\nz\r\n\" id=\"DejaVuSans-79\"/>\r\n      <path d=\"M 41.109375 46.296875 \r\nQ 39.59375 47.171875 37.8125 47.578125 \r\nQ 36.03125 48 33.890625 48 \r\nQ 26.265625 48 22.1875 43.046875 \r\nQ 18.109375 38.09375 18.109375 28.8125 \r\nL 18.109375 0 \r\nL 9.078125 0 \r\nL 9.078125 54.6875 \r\nL 18.109375 54.6875 \r\nL 18.109375 46.1875 \r\nQ 20.953125 51.171875 25.484375 53.578125 \r\nQ 30.03125 56 36.53125 56 \r\nQ 37.453125 56 38.578125 55.875 \r\nQ 39.703125 55.765625 41.0625 55.515625 \r\nz\r\n\" id=\"DejaVuSans-114\"/>\r\n      <path d=\"M 9.421875 54.6875 \r\nL 18.40625 54.6875 \r\nL 18.40625 0 \r\nL 9.421875 0 \r\nz\r\nM 9.421875 75.984375 \r\nL 18.40625 75.984375 \r\nL 18.40625 64.59375 \r\nL 9.421875 64.59375 \r\nz\r\n\" id=\"DejaVuSans-105\"/>\r\n      <path d=\"M 45.40625 27.984375 \r\nQ 45.40625 37.75 41.375 43.109375 \r\nQ 37.359375 48.484375 30.078125 48.484375 \r\nQ 22.859375 48.484375 18.828125 43.109375 \r\nQ 14.796875 37.75 14.796875 27.984375 \r\nQ 14.796875 18.265625 18.828125 12.890625 \r\nQ 22.859375 7.515625 30.078125 7.515625 \r\nQ 37.359375 7.515625 41.375 12.890625 \r\nQ 45.40625 18.265625 45.40625 27.984375 \r\nz\r\nM 54.390625 6.78125 \r\nQ 54.390625 -7.171875 48.1875 -13.984375 \r\nQ 42 -20.796875 29.203125 -20.796875 \r\nQ 24.46875 -20.796875 20.265625 -20.09375 \r\nQ 16.0625 -19.390625 12.109375 -17.921875 \r\nL 12.109375 -9.1875 \r\nQ 16.0625 -11.328125 19.921875 -12.34375 \r\nQ 23.78125 -13.375 27.78125 -13.375 \r\nQ 36.625 -13.375 41.015625 -8.765625 \r\nQ 45.40625 -4.15625 45.40625 5.171875 \r\nL 45.40625 9.625 \r\nQ 42.625 4.78125 38.28125 2.390625 \r\nQ 33.9375 0 27.875 0 \r\nQ 17.828125 0 11.671875 7.65625 \r\nQ 5.515625 15.328125 5.515625 27.984375 \r\nQ 5.515625 40.671875 11.671875 48.328125 \r\nQ 17.828125 56 27.875 56 \r\nQ 33.9375 56 38.28125 53.609375 \r\nQ 42.625 51.21875 45.40625 46.390625 \r\nL 45.40625 54.6875 \r\nL 54.390625 54.6875 \r\nz\r\n\" id=\"DejaVuSans-103\"/>\r\n      <path d=\"M 54.890625 33.015625 \r\nL 54.890625 0 \r\nL 45.90625 0 \r\nL 45.90625 32.71875 \r\nQ 45.90625 40.484375 42.875 44.328125 \r\nQ 39.84375 48.1875 33.796875 48.1875 \r\nQ 26.515625 48.1875 22.3125 43.546875 \r\nQ 18.109375 38.921875 18.109375 30.90625 \r\nL 18.109375 0 \r\nL 9.078125 0 \r\nL 9.078125 54.6875 \r\nL 18.109375 54.6875 \r\nL 18.109375 46.1875 \r\nQ 21.34375 51.125 25.703125 53.5625 \r\nQ 30.078125 56 35.796875 56 \r\nQ 45.21875 56 50.046875 50.171875 \r\nQ 54.890625 44.34375 54.890625 33.015625 \r\nz\r\n\" id=\"DejaVuSans-110\"/>\r\n      <path d=\"M 34.28125 27.484375 \r\nQ 23.390625 27.484375 19.1875 25 \r\nQ 14.984375 22.515625 14.984375 16.5 \r\nQ 14.984375 11.71875 18.140625 8.90625 \r\nQ 21.296875 6.109375 26.703125 6.109375 \r\nQ 34.1875 6.109375 38.703125 11.40625 \r\nQ 43.21875 16.703125 43.21875 25.484375 \r\nL 43.21875 27.484375 \r\nz\r\nM 52.203125 31.203125 \r\nL 52.203125 0 \r\nL 43.21875 0 \r\nL 43.21875 8.296875 \r\nQ 40.140625 3.328125 35.546875 0.953125 \r\nQ 30.953125 -1.421875 24.3125 -1.421875 \r\nQ 15.921875 -1.421875 10.953125 3.296875 \r\nQ 6 8.015625 6 15.921875 \r\nQ 6 25.140625 12.171875 29.828125 \r\nQ 18.359375 34.515625 30.609375 34.515625 \r\nL 43.21875 34.515625 \r\nL 43.21875 35.40625 \r\nQ 43.21875 41.609375 39.140625 45 \r\nQ 35.0625 48.390625 27.6875 48.390625 \r\nQ 23 48.390625 18.546875 47.265625 \r\nQ 14.109375 46.140625 10.015625 43.890625 \r\nL 10.015625 52.203125 \r\nQ 14.9375 54.109375 19.578125 55.046875 \r\nQ 24.21875 56 28.609375 56 \r\nQ 40.484375 56 46.34375 49.84375 \r\nQ 52.203125 43.703125 52.203125 31.203125 \r\nz\r\n\" id=\"DejaVuSans-97\"/>\r\n      <path d=\"M 9.421875 75.984375 \r\nL 18.40625 75.984375 \r\nL 18.40625 0 \r\nL 9.421875 0 \r\nz\r\n\" id=\"DejaVuSans-108\"/>\r\n      <path d=\"M 19.671875 64.796875 \r\nL 19.671875 8.109375 \r\nL 31.59375 8.109375 \r\nQ 46.6875 8.109375 53.6875 14.9375 \r\nQ 60.6875 21.78125 60.6875 36.53125 \r\nQ 60.6875 51.171875 53.6875 57.984375 \r\nQ 46.6875 64.796875 31.59375 64.796875 \r\nz\r\nM 9.8125 72.90625 \r\nL 30.078125 72.90625 \r\nQ 51.265625 72.90625 61.171875 64.09375 \r\nQ 71.09375 55.28125 71.09375 36.53125 \r\nQ 71.09375 17.671875 61.125 8.828125 \r\nQ 51.171875 0 30.078125 0 \r\nL 9.8125 0 \r\nz\r\n\" id=\"DejaVuSans-68\"/>\r\n      <path d=\"M 18.3125 70.21875 \r\nL 18.3125 54.6875 \r\nL 36.8125 54.6875 \r\nL 36.8125 47.703125 \r\nL 18.3125 47.703125 \r\nL 18.3125 18.015625 \r\nQ 18.3125 11.328125 20.140625 9.421875 \r\nQ 21.96875 7.515625 27.59375 7.515625 \r\nL 36.8125 7.515625 \r\nL 36.8125 0 \r\nL 27.59375 0 \r\nQ 17.1875 0 13.234375 3.875 \r\nQ 9.28125 7.765625 9.28125 18.015625 \r\nL 9.28125 47.703125 \r\nL 2.6875 47.703125 \r\nL 2.6875 54.6875 \r\nL 9.28125 54.6875 \r\nL 9.28125 70.21875 \r\nz\r\n\" id=\"DejaVuSans-116\"/>\r\n      <path d=\"M 28.609375 0 \r\nL 0.78125 72.90625 \r\nL 11.078125 72.90625 \r\nL 34.1875 11.53125 \r\nL 57.328125 72.90625 \r\nL 67.578125 72.90625 \r\nL 39.796875 0 \r\nz\r\n\" id=\"DejaVuSans-86\"/>\r\n      <path d=\"M 44.28125 53.078125 \r\nL 44.28125 44.578125 \r\nQ 40.484375 46.53125 36.375 47.5 \r\nQ 32.28125 48.484375 27.875 48.484375 \r\nQ 21.1875 48.484375 17.84375 46.4375 \r\nQ 14.5 44.390625 14.5 40.28125 \r\nQ 14.5 37.15625 16.890625 35.375 \r\nQ 19.28125 33.59375 26.515625 31.984375 \r\nL 29.59375 31.296875 \r\nQ 39.15625 29.25 43.1875 25.515625 \r\nQ 47.21875 21.78125 47.21875 15.09375 \r\nQ 47.21875 7.46875 41.1875 3.015625 \r\nQ 35.15625 -1.421875 24.609375 -1.421875 \r\nQ 20.21875 -1.421875 15.453125 -0.5625 \r\nQ 10.6875 0.296875 5.421875 2 \r\nL 5.421875 11.28125 \r\nQ 10.40625 8.6875 15.234375 7.390625 \r\nQ 20.0625 6.109375 24.8125 6.109375 \r\nQ 31.15625 6.109375 34.5625 8.28125 \r\nQ 37.984375 10.453125 37.984375 14.40625 \r\nQ 37.984375 18.0625 35.515625 20.015625 \r\nQ 33.0625 21.96875 24.703125 23.78125 \r\nL 21.578125 24.515625 \r\nQ 13.234375 26.265625 9.515625 29.90625 \r\nQ 5.8125 33.546875 5.8125 39.890625 \r\nQ 5.8125 47.609375 11.28125 51.796875 \r\nQ 16.75 56 26.8125 56 \r\nQ 31.78125 56 36.171875 55.265625 \r\nQ 40.578125 54.546875 44.28125 53.078125 \r\nz\r\n\" id=\"DejaVuSans-115\"/>\r\n      <path d=\"M 8.5 21.578125 \r\nL 8.5 54.6875 \r\nL 17.484375 54.6875 \r\nL 17.484375 21.921875 \r\nQ 17.484375 14.15625 20.5 10.265625 \r\nQ 23.53125 6.390625 29.59375 6.390625 \r\nQ 36.859375 6.390625 41.078125 11.03125 \r\nQ 45.3125 15.671875 45.3125 23.6875 \r\nL 45.3125 54.6875 \r\nL 54.296875 54.6875 \r\nL 54.296875 0 \r\nL 45.3125 0 \r\nL 45.3125 8.40625 \r\nQ 42.046875 3.421875 37.71875 1 \r\nQ 33.40625 -1.421875 27.6875 -1.421875 \r\nQ 18.265625 -1.421875 13.375 4.4375 \r\nQ 8.5 10.296875 8.5 21.578125 \r\nz\r\nM 31.109375 56 \r\nz\r\n\" id=\"DejaVuSans-117\"/>\r\n      <path d=\"M 5.515625 54.6875 \r\nL 48.1875 54.6875 \r\nL 48.1875 46.484375 \r\nL 14.40625 7.171875 \r\nL 48.1875 7.171875 \r\nL 48.1875 0 \r\nL 4.296875 0 \r\nL 4.296875 8.203125 \r\nL 38.09375 47.515625 \r\nL 5.515625 47.515625 \r\nz\r\n\" id=\"DejaVuSans-122\"/>\r\n      <path d=\"M 30.609375 48.390625 \r\nQ 23.390625 48.390625 19.1875 42.75 \r\nQ 14.984375 37.109375 14.984375 27.296875 \r\nQ 14.984375 17.484375 19.15625 11.84375 \r\nQ 23.34375 6.203125 30.609375 6.203125 \r\nQ 37.796875 6.203125 41.984375 11.859375 \r\nQ 46.1875 17.53125 46.1875 27.296875 \r\nQ 46.1875 37.015625 41.984375 42.703125 \r\nQ 37.796875 48.390625 30.609375 48.390625 \r\nz\r\nM 30.609375 56 \r\nQ 42.328125 56 49.015625 48.375 \r\nQ 55.71875 40.765625 55.71875 27.296875 \r\nQ 55.71875 13.875 49.015625 6.21875 \r\nQ 42.328125 -1.421875 30.609375 -1.421875 \r\nQ 18.84375 -1.421875 12.171875 6.21875 \r\nQ 5.515625 13.875 5.515625 27.296875 \r\nQ 5.515625 40.765625 12.171875 48.375 \r\nQ 18.84375 56 30.609375 56 \r\nz\r\n\" id=\"DejaVuSans-111\"/>\r\n      <path d=\"M 48.6875 27.296875 \r\nQ 48.6875 37.203125 44.609375 42.84375 \r\nQ 40.53125 48.484375 33.40625 48.484375 \r\nQ 26.265625 48.484375 22.1875 42.84375 \r\nQ 18.109375 37.203125 18.109375 27.296875 \r\nQ 18.109375 17.390625 22.1875 11.75 \r\nQ 26.265625 6.109375 33.40625 6.109375 \r\nQ 40.53125 6.109375 44.609375 11.75 \r\nQ 48.6875 17.390625 48.6875 27.296875 \r\nz\r\nM 18.109375 46.390625 \r\nQ 20.953125 51.265625 25.265625 53.625 \r\nQ 29.59375 56 35.59375 56 \r\nQ 45.5625 56 51.78125 48.09375 \r\nQ 58.015625 40.1875 58.015625 27.296875 \r\nQ 58.015625 14.40625 51.78125 6.484375 \r\nQ 45.5625 -1.421875 35.59375 -1.421875 \r\nQ 29.59375 -1.421875 25.265625 0.953125 \r\nQ 20.953125 3.328125 18.109375 8.203125 \r\nL 18.109375 0 \r\nL 9.078125 0 \r\nL 9.078125 75.984375 \r\nL 18.109375 75.984375 \r\nz\r\n\" id=\"DejaVuSans-98\"/>\r\n      <path d=\"M 32.171875 -5.078125 \r\nQ 28.375 -14.84375 24.75 -17.8125 \r\nQ 21.140625 -20.796875 15.09375 -20.796875 \r\nL 7.90625 -20.796875 \r\nL 7.90625 -13.28125 \r\nL 13.1875 -13.28125 \r\nQ 16.890625 -13.28125 18.9375 -11.515625 \r\nQ 21 -9.765625 23.484375 -3.21875 \r\nL 25.09375 0.875 \r\nL 2.984375 54.6875 \r\nL 12.5 54.6875 \r\nL 29.59375 11.921875 \r\nL 46.6875 54.6875 \r\nL 56.203125 54.6875 \r\nz\r\n\" id=\"DejaVuSans-121\"/>\r\n      <path d=\"M 52 44.1875 \r\nQ 55.375 50.25 60.0625 53.125 \r\nQ 64.75 56 71.09375 56 \r\nQ 79.640625 56 84.28125 50.015625 \r\nQ 88.921875 44.046875 88.921875 33.015625 \r\nL 88.921875 0 \r\nL 79.890625 0 \r\nL 79.890625 32.71875 \r\nQ 79.890625 40.578125 77.09375 44.375 \r\nQ 74.3125 48.1875 68.609375 48.1875 \r\nQ 61.625 48.1875 57.5625 43.546875 \r\nQ 53.515625 38.921875 53.515625 30.90625 \r\nL 53.515625 0 \r\nL 44.484375 0 \r\nL 44.484375 32.71875 \r\nQ 44.484375 40.625 41.703125 44.40625 \r\nQ 38.921875 48.1875 33.109375 48.1875 \r\nQ 26.21875 48.1875 22.15625 43.53125 \r\nQ 18.109375 38.875 18.109375 30.90625 \r\nL 18.109375 0 \r\nL 9.078125 0 \r\nL 9.078125 54.6875 \r\nL 18.109375 54.6875 \r\nL 18.109375 46.1875 \r\nQ 21.1875 51.21875 25.484375 53.609375 \r\nQ 29.78125 56 35.6875 56 \r\nQ 41.65625 56 45.828125 52.96875 \r\nQ 50 49.953125 52 44.1875 \r\nz\r\n\" id=\"DejaVuSans-109\"/>\r\n      <path d=\"M 18.109375 8.203125 \r\nL 18.109375 -20.796875 \r\nL 9.078125 -20.796875 \r\nL 9.078125 54.6875 \r\nL 18.109375 54.6875 \r\nL 18.109375 46.390625 \r\nQ 20.953125 51.265625 25.265625 53.625 \r\nQ 29.59375 56 35.59375 56 \r\nQ 45.5625 56 51.78125 48.09375 \r\nQ 58.015625 40.1875 58.015625 27.296875 \r\nQ 58.015625 14.40625 51.78125 6.484375 \r\nQ 45.5625 -1.421875 35.59375 -1.421875 \r\nQ 29.59375 -1.421875 25.265625 0.953125 \r\nQ 20.953125 3.328125 18.109375 8.203125 \r\nz\r\nM 48.6875 27.296875 \r\nQ 48.6875 37.203125 44.609375 42.84375 \r\nQ 40.53125 48.484375 33.40625 48.484375 \r\nQ 26.265625 48.484375 22.1875 42.84375 \r\nQ 18.109375 37.203125 18.109375 27.296875 \r\nQ 18.109375 17.390625 22.1875 11.75 \r\nQ 26.265625 6.109375 33.40625 6.109375 \r\nQ 40.53125 6.109375 44.609375 11.75 \r\nQ 48.6875 17.390625 48.6875 27.296875 \r\nz\r\n\" id=\"DejaVuSans-112\"/>\r\n      <path d=\"M 56.203125 29.59375 \r\nL 56.203125 25.203125 \r\nL 14.890625 25.203125 \r\nQ 15.484375 15.921875 20.484375 11.0625 \r\nQ 25.484375 6.203125 34.421875 6.203125 \r\nQ 39.59375 6.203125 44.453125 7.46875 \r\nQ 49.3125 8.734375 54.109375 11.28125 \r\nL 54.109375 2.78125 \r\nQ 49.265625 0.734375 44.1875 -0.34375 \r\nQ 39.109375 -1.421875 33.890625 -1.421875 \r\nQ 20.796875 -1.421875 13.15625 6.1875 \r\nQ 5.515625 13.8125 5.515625 26.8125 \r\nQ 5.515625 40.234375 12.765625 48.109375 \r\nQ 20.015625 56 32.328125 56 \r\nQ 43.359375 56 49.78125 48.890625 \r\nQ 56.203125 41.796875 56.203125 29.59375 \r\nz\r\nM 47.21875 32.234375 \r\nQ 47.125 39.59375 43.09375 43.984375 \r\nQ 39.0625 48.390625 32.421875 48.390625 \r\nQ 24.90625 48.390625 20.390625 44.140625 \r\nQ 15.875 39.890625 15.1875 32.171875 \r\nz\r\n\" id=\"DejaVuSans-101\"/>\r\n     </defs>\r\n     <use xlink:href=\"#DejaVuSans-79\"/>\r\n     <use x=\"78.710938\" xlink:href=\"#DejaVuSans-114\"/>\r\n     <use x=\"119.824219\" xlink:href=\"#DejaVuSans-105\"/>\r\n     <use x=\"147.607422\" xlink:href=\"#DejaVuSans-103\"/>\r\n     <use x=\"211.083984\" xlink:href=\"#DejaVuSans-105\"/>\r\n     <use x=\"238.867188\" xlink:href=\"#DejaVuSans-110\"/>\r\n     <use x=\"302.246094\" xlink:href=\"#DejaVuSans-97\"/>\r\n     <use x=\"363.525391\" xlink:href=\"#DejaVuSans-108\"/>\r\n     <use x=\"391.308594\" xlink:href=\"#DejaVuSans-32\"/>\r\n     <use x=\"423.095703\" xlink:href=\"#DejaVuSans-68\"/>\r\n     <use x=\"500.097656\" xlink:href=\"#DejaVuSans-97\"/>\r\n     <use x=\"561.376953\" xlink:href=\"#DejaVuSans-116\"/>\r\n     <use x=\"600.585938\" xlink:href=\"#DejaVuSans-97\"/>\r\n     <use x=\"661.865234\" xlink:href=\"#DejaVuSans-32\"/>\r\n     <use x=\"693.652344\" xlink:href=\"#DejaVuSans-86\"/>\r\n     <use x=\"759.810547\" xlink:href=\"#DejaVuSans-105\"/>\r\n     <use x=\"787.59375\" xlink:href=\"#DejaVuSans-115\"/>\r\n     <use x=\"839.693359\" xlink:href=\"#DejaVuSans-117\"/>\r\n     <use x=\"903.072266\" xlink:href=\"#DejaVuSans-97\"/>\r\n     <use x=\"964.351562\" xlink:href=\"#DejaVuSans-108\"/>\r\n     <use x=\"992.134766\" xlink:href=\"#DejaVuSans-105\"/>\r\n     <use x=\"1019.917969\" xlink:href=\"#DejaVuSans-122\"/>\r\n     <use x=\"1072.408203\" xlink:href=\"#DejaVuSans-97\"/>\r\n     <use x=\"1133.6875\" xlink:href=\"#DejaVuSans-116\"/>\r\n     <use x=\"1172.896484\" xlink:href=\"#DejaVuSans-105\"/>\r\n     <use x=\"1200.679688\" xlink:href=\"#DejaVuSans-111\"/>\r\n     <use x=\"1261.861328\" xlink:href=\"#DejaVuSans-110\"/>\r\n     <use x=\"1325.240234\" xlink:href=\"#DejaVuSans-32\"/>\r\n     <use x=\"1357.027344\" xlink:href=\"#DejaVuSans-98\"/>\r\n     <use x=\"1420.503906\" xlink:href=\"#DejaVuSans-121\"/>\r\n     <use x=\"1479.683594\" xlink:href=\"#DejaVuSans-32\"/>\r\n     <use x=\"1511.470703\" xlink:href=\"#DejaVuSans-50\"/>\r\n     <use x=\"1575.09375\" xlink:href=\"#DejaVuSans-32\"/>\r\n     <use x=\"1606.880859\" xlink:href=\"#DejaVuSans-80\"/>\r\n     <use x=\"1667.183594\" xlink:href=\"#DejaVuSans-67\"/>\r\n     <use x=\"1737.007812\" xlink:href=\"#DejaVuSans-65\"/>\r\n     <use x=\"1805.416016\" xlink:href=\"#DejaVuSans-32\"/>\r\n     <use x=\"1837.203125\" xlink:href=\"#DejaVuSans-67\"/>\r\n     <use x=\"1907.027344\" xlink:href=\"#DejaVuSans-111\"/>\r\n     <use x=\"1968.208984\" xlink:href=\"#DejaVuSans-109\"/>\r\n     <use x=\"2065.621094\" xlink:href=\"#DejaVuSans-112\"/>\r\n     <use x=\"2129.097656\" xlink:href=\"#DejaVuSans-111\"/>\r\n     <use x=\"2190.279297\" xlink:href=\"#DejaVuSans-110\"/>\r\n     <use x=\"2253.658203\" xlink:href=\"#DejaVuSans-101\"/>\r\n     <use x=\"2315.181641\" xlink:href=\"#DejaVuSans-110\"/>\r\n     <use x=\"2378.560547\" xlink:href=\"#DejaVuSans-116\"/>\r\n     <use x=\"2417.769531\" xlink:href=\"#DejaVuSans-115\"/>\r\n    </g>\r\n   </g>\r\n  </g>\r\n </g>\r\n <defs>\r\n  <clipPath id=\"pcd255bed9e\">\r\n   <rect height=\"217.44\" width=\"334.8\" x=\"42.620313\" y=\"22.318125\"/>\r\n  </clipPath>\r\n </defs>\r\n</svg>\r\n",
      "image/png": "[encoded data removed]"
     },
     "metadata": {
      "needs_background": "light"
     }
    }
   ],
   "source": [
    "markers = ['s', 'o', '^', 'P', 'D', 'H', 'x']\n",
    "plt.figure()\n",
    "for i in df_PC.target.unique():\n",
    "    marker = markers[i]\n",
    "    x_axis_data = df_PC[df_PC.target == i]['pca_x']\n",
    "    y_axis_data = df_PC[df_PC.target == i]['pca_y']\n",
    "    plt.scatter(x_axis_data, y_axis_data, marker=marker)\n",
    "plt.title('Original Data Visualization by 2 PCA Components')\n",
    "plt.xlabel('PCA 1'); plt.ylabel('PCA 2')\n",
    "plt.show()"
   ]
  },
  {
   "cell_type": "code",
   "execution_count": 29,
   "metadata": {},
   "outputs": [
    {
     "output_type": "execute_result",
     "data": {
      "text/plain": [
       "0     0\n",
       "1     2\n",
       "2     0\n",
       "3     0\n",
       "4     0\n",
       "     ..\n",
       "33    2\n",
       "34    0\n",
       "35    2\n",
       "36    0\n",
       "37    2\n",
       "Name: target, Length: 150, dtype: int64"
      ]
     },
     "metadata": {},
     "execution_count": 29
    }
   ],
   "source": [
    "df_total.target"
   ]
  },
  {
   "cell_type": "code",
   "execution_count": 30,
   "metadata": {},
   "outputs": [
    {
     "output_type": "execute_result",
     "data": {
      "text/plain": [
       "      pca_x     pca_y  species\n",
       "0 -1.818670  0.085559        0\n",
       "1  1.020951  0.064346        2\n",
       "2 -2.169711  0.268879        0\n",
       "3 -2.190350  0.488838        0\n",
       "4 -2.139563  0.313218        0"
      ],
      "text/html": "<div>\n<style scoped>\n    .dataframe tbody tr th:only-of-type {\n        vertical-align: middle;\n    }\n\n    .dataframe tbody tr th {\n        vertical-align: top;\n    }\n\n    .dataframe thead th {\n        text-align: right;\n    }\n</style>\n<table border=\"1\" class=\"dataframe\">\n  <thead>\n    <tr style=\"text-align: right;\">\n      <th></th>\n      <th>pca_x</th>\n      <th>pca_y</th>\n      <th>species</th>\n    </tr>\n  </thead>\n  <tbody>\n    <tr>\n      <th>0</th>\n      <td>-1.818670</td>\n      <td>0.085559</td>\n      <td>0</td>\n    </tr>\n    <tr>\n      <th>1</th>\n      <td>1.020951</td>\n      <td>0.064346</td>\n      <td>2</td>\n    </tr>\n    <tr>\n      <th>2</th>\n      <td>-2.169711</td>\n      <td>0.268879</td>\n      <td>0</td>\n    </tr>\n    <tr>\n      <th>3</th>\n      <td>-2.190350</td>\n      <td>0.488838</td>\n      <td>0</td>\n    </tr>\n    <tr>\n      <th>4</th>\n      <td>-2.139563</td>\n      <td>0.313218</td>\n      <td>0</td>\n    </tr>\n  </tbody>\n</table>\n</div>"
     },
     "metadata": {},
     "execution_count": 30
    }
   ],
   "source": [
    "iris_pca_df = pd.DataFrame(data=pca_array, columns=['pca_x', 'pca_y'])\n",
    "iris_pca_df['species'] = df_total.target.values\n",
    "iris_pca_df.head()"
   ]
  },
  {
   "cell_type": "code",
   "execution_count": 31,
   "metadata": {},
   "outputs": [],
   "source": [
    "from sklearn.model_selection import train_test_split\n",
    "X_train, X_test, y_train, y_test = train_test_split(\n",
    "        iris_pca_df[['pca_x', 'pca_y']], df_total.target.values, stratify=df_total.target.values,\n",
    "        test_size=0.25, random_state=2021\n",
    ")"
   ]
  },
  {
   "cell_type": "code",
   "execution_count": 32,
   "metadata": {},
   "outputs": [
    {
     "output_type": "execute_result",
     "data": {
      "text/plain": [
       "0.8157894736842105"
      ]
     },
     "metadata": {},
     "execution_count": 32
    }
   ],
   "source": [
    "dtc = DecisionTreeClassifier()\n",
    "dtc.fit(X_train, y_train)\n",
    "pred = dtc.predict(X_test)\n",
    "accuracy_score(y_test, pred)"
   ]
  },
  {
   "cell_type": "code",
   "execution_count": 33,
   "metadata": {},
   "outputs": [
    {
     "output_type": "execute_result",
     "data": {
      "text/plain": [
       "['../static/model/iris_pc.pkl']"
      ]
     },
     "metadata": {},
     "execution_count": 33
    }
   ],
   "source": [
    "joblib.dump(best_rf, '../static/model/iris_pc.pkl')"
   ]
  },
  {
   "cell_type": "code",
   "execution_count": null,
   "metadata": {},
   "outputs": [],
   "source": []
  }
 ]
}