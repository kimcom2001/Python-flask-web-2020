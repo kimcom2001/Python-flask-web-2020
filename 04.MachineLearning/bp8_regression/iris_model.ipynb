{
 "metadata": {
  "language_info": {
   "codemirror_mode": {
    "name": "ipython",
    "version": 3
   },
   "file_extension": ".py",
   "mimetype": "text/x-python",
   "name": "python",
   "nbconvert_exporter": "python",
   "pygments_lexer": "ipython3",
   "version": "3.8.5-final"
  },
  "orig_nbformat": 2,
  "kernelspec": {
   "name": "python3",
   "display_name": "Python 3",
   "language": "python"
  }
 },
 "nbformat": 4,
 "nbformat_minor": 2,
 "cells": [
  {
   "source": [
    "# Iris 모델"
   ],
   "cell_type": "markdown",
   "metadata": {}
  },
  {
   "cell_type": "code",
   "execution_count": 1,
   "metadata": {},
   "outputs": [],
   "source": [
    "import pandas as pd \n",
    "import joblib"
   ]
  },
  {
   "cell_type": "code",
   "execution_count": 37,
   "metadata": {},
   "outputs": [],
   "source": [
    "from sklearn.preprocessing import StandardScaler, MinMaxScaler\n",
    "from sklearn.linear_model import LogisticRegression\n",
    "from sklearn.svm import SVC\n",
    "from sklearn.ensemble import RandomForestClassifier\n",
    "from sklearn.tree import DecisionTreeClassifier\n",
    "from sklearn.model_selection import GridSearchCV\n",
    "from sklearn.metrics import accuracy_score\n",
    "from sklearn.model_selection import train_test_split"
   ]
  },
  {
   "source": [
    "### 데이터셋"
   ],
   "cell_type": "markdown",
   "metadata": {}
  },
  {
   "cell_type": "code",
   "execution_count": 3,
   "metadata": {},
   "outputs": [
    {
     "output_type": "execute_result",
     "data": {
      "text/plain": [
       "   sepal length (cm)  sepal width (cm)  petal length (cm)  petal width (cm)  \\\n",
       "0                5.1               3.3                1.7               0.5   \n",
       "1                6.1               3.0                4.9               1.8   \n",
       "2                5.1               3.4                1.5               0.2   \n",
       "3                5.1               3.5                1.4               0.3   \n",
       "4                5.2               3.4                1.4               0.2   \n",
       "\n",
       "   target  \n",
       "0       0  \n",
       "1       2  \n",
       "2       0  \n",
       "3       0  \n",
       "4       0  "
      ],
      "text/html": "<div>\n<style scoped>\n    .dataframe tbody tr th:only-of-type {\n        vertical-align: middle;\n    }\n\n    .dataframe tbody tr th {\n        vertical-align: top;\n    }\n\n    .dataframe thead th {\n        text-align: right;\n    }\n</style>\n<table border=\"1\" class=\"dataframe\">\n  <thead>\n    <tr style=\"text-align: right;\">\n      <th></th>\n      <th>sepal length (cm)</th>\n      <th>sepal width (cm)</th>\n      <th>petal length (cm)</th>\n      <th>petal width (cm)</th>\n      <th>target</th>\n    </tr>\n  </thead>\n  <tbody>\n    <tr>\n      <th>0</th>\n      <td>5.1</td>\n      <td>3.3</td>\n      <td>1.7</td>\n      <td>0.5</td>\n      <td>0</td>\n    </tr>\n    <tr>\n      <th>1</th>\n      <td>6.1</td>\n      <td>3.0</td>\n      <td>4.9</td>\n      <td>1.8</td>\n      <td>2</td>\n    </tr>\n    <tr>\n      <th>2</th>\n      <td>5.1</td>\n      <td>3.4</td>\n      <td>1.5</td>\n      <td>0.2</td>\n      <td>0</td>\n    </tr>\n    <tr>\n      <th>3</th>\n      <td>5.1</td>\n      <td>3.5</td>\n      <td>1.4</td>\n      <td>0.3</td>\n      <td>0</td>\n    </tr>\n    <tr>\n      <th>4</th>\n      <td>5.2</td>\n      <td>3.4</td>\n      <td>1.4</td>\n      <td>0.2</td>\n      <td>0</td>\n    </tr>\n  </tbody>\n</table>\n</div>"
     },
     "metadata": {},
     "execution_count": 3
    }
   ],
   "source": [
    "df_train = pd.read_csv('../static/data/iris_train.csv')\n",
    "df_train.head()"
   ]
  },
  {
   "cell_type": "code",
   "execution_count": 4,
   "metadata": {},
   "outputs": [
    {
     "output_type": "execute_result",
     "data": {
      "text/plain": [
       "((112, 4), (112,))"
      ]
     },
     "metadata": {},
     "execution_count": 4
    }
   ],
   "source": [
    "y_train = df_train.target.values\n",
    "scaler = MinMaxScaler()\n",
    "X_train = scaler.fit_transform(df_train.drop(columns='target', axis=1))\n",
    "X_train.shape, y_train.shape"
   ]
  },
  {
   "cell_type": "code",
   "execution_count": 5,
   "metadata": {},
   "outputs": [
    {
     "output_type": "execute_result",
     "data": {
      "text/plain": [
       "((38, 4), (38,))"
      ]
     },
     "metadata": {},
     "execution_count": 5
    }
   ],
   "source": [
    "df_test = pd.read_csv('../static/data/iris_test.csv')\n",
    "y_test = df_test.target.values\n",
    "X_test = scaler.fit_transform(df_test.drop(columns='target', axis=1))\n",
    "X_test.shape, y_test.shape"
   ]
  },
  {
   "cell_type": "code",
   "execution_count": 6,
   "metadata": {},
   "outputs": [
    {
     "output_type": "execute_result",
     "data": {
      "text/plain": [
       "{'C': 1.0,\n",
       " 'class_weight': None,\n",
       " 'dual': False,\n",
       " 'fit_intercept': True,\n",
       " 'intercept_scaling': 1,\n",
       " 'l1_ratio': None,\n",
       " 'max_iter': 100,\n",
       " 'multi_class': 'auto',\n",
       " 'n_jobs': None,\n",
       " 'penalty': 'l2',\n",
       " 'random_state': None,\n",
       " 'solver': 'lbfgs',\n",
       " 'tol': 0.0001,\n",
       " 'verbose': 0,\n",
       " 'warm_start': False}"
      ]
     },
     "metadata": {},
     "execution_count": 6
    }
   ],
   "source": [
    "lr_clf = LogisticRegression()\n",
    "lr_clf.get_params()"
   ]
  },
  {
   "cell_type": "code",
   "execution_count": 7,
   "metadata": {},
   "outputs": [],
   "source": [
    "params = {\n",
    "    'C': [3, 4, 5, 6, 7]\n",
    "}"
   ]
  },
  {
   "cell_type": "code",
   "execution_count": 8,
   "metadata": {},
   "outputs": [
    {
     "output_type": "stream",
     "name": "stdout",
     "text": [
      "최고 평균 정확도: 0.9739\n최적 파라미터: {'C': 4}\n"
     ]
    }
   ],
   "source": [
    "grid_cv = GridSearchCV(lr_clf, param_grid=params, scoring='accuracy', cv=5)\n",
    "grid_cv.fit(X_train, y_train)\n",
    "print(f'최고 평균 정확도: {grid_cv.best_score_:.4f}')\n",
    "print('최적 파라미터:', grid_cv.best_params_)"
   ]
  },
  {
   "cell_type": "code",
   "execution_count": 9,
   "metadata": {},
   "outputs": [
    {
     "output_type": "execute_result",
     "data": {
      "text/plain": [
       "0.9210526315789473"
      ]
     },
     "metadata": {},
     "execution_count": 9
    }
   ],
   "source": [
    "best_lr = grid_cv.best_estimator_\n",
    "pred = best_lr.predict(X_test)\n",
    "accuracy_score(y_test, pred)"
   ]
  },
  {
   "cell_type": "code",
   "execution_count": 10,
   "metadata": {},
   "outputs": [
    {
     "output_type": "execute_result",
     "data": {
      "text/plain": [
       "['../static/model/iris_lr.pkl']"
      ]
     },
     "metadata": {},
     "execution_count": 10
    }
   ],
   "source": [
    "joblib.dump(best_lr, '../static/model/iris_lr.pkl')"
   ]
  },
  {
   "source": [
    "### 2. SVM"
   ],
   "cell_type": "markdown",
   "metadata": {}
  },
  {
   "cell_type": "code",
   "execution_count": 11,
   "metadata": {},
   "outputs": [
    {
     "output_type": "execute_result",
     "data": {
      "text/plain": [
       "{'C': 1.0,\n",
       " 'break_ties': False,\n",
       " 'cache_size': 200,\n",
       " 'class_weight': None,\n",
       " 'coef0': 0.0,\n",
       " 'decision_function_shape': 'ovr',\n",
       " 'degree': 3,\n",
       " 'gamma': 'scale',\n",
       " 'kernel': 'rbf',\n",
       " 'max_iter': -1,\n",
       " 'probability': False,\n",
       " 'random_state': None,\n",
       " 'shrinking': True,\n",
       " 'tol': 0.001,\n",
       " 'verbose': False}"
      ]
     },
     "metadata": {},
     "execution_count": 11
    }
   ],
   "source": [
    "sv_clf = SVC()\n",
    "sv_clf.get_params()"
   ]
  },
  {
   "cell_type": "code",
   "execution_count": 12,
   "metadata": {},
   "outputs": [],
   "source": [
    "params = {\n",
    "    'C' : [2, 3, 4, 5, 6, 7]\n",
    "}"
   ]
  },
  {
   "cell_type": "code",
   "execution_count": 13,
   "metadata": {},
   "outputs": [
    {
     "output_type": "stream",
     "name": "stdout",
     "text": [
      "최고 평균 정확도: 0.9826\n최적 파라미터: {'C': 3}\n"
     ]
    }
   ],
   "source": [
    "grid_cv = GridSearchCV(sv_clf, param_grid=params, scoring='accuracy', cv=5)\n",
    "grid_cv.fit(X_train, y_train)\n",
    "print(f'최고 평균 정확도: {grid_cv.best_score_:.4f}')\n",
    "print('최적 파라미터:', grid_cv.best_params_)"
   ]
  },
  {
   "cell_type": "code",
   "execution_count": 14,
   "metadata": {},
   "outputs": [
    {
     "output_type": "execute_result",
     "data": {
      "text/plain": [
       "0.9210526315789473"
      ]
     },
     "metadata": {},
     "execution_count": 14
    }
   ],
   "source": [
    "best_sv = grid_cv.best_estimator_\n",
    "pred = best_sv.predict(X_test)\n",
    "accuracy_score(y_test, pred)"
   ]
  },
  {
   "cell_type": "code",
   "execution_count": 15,
   "metadata": {},
   "outputs": [
    {
     "output_type": "execute_result",
     "data": {
      "text/plain": [
       "['../static/model/iris_sv.pkl']"
      ]
     },
     "metadata": {},
     "execution_count": 15
    }
   ],
   "source": [
    "joblib.dump(best_sv, '../static/model/iris_sv.pkl')"
   ]
  },
  {
   "source": [
    "### 3. Random Forest"
   ],
   "cell_type": "markdown",
   "metadata": {}
  },
  {
   "cell_type": "code",
   "execution_count": 16,
   "metadata": {},
   "outputs": [
    {
     "output_type": "execute_result",
     "data": {
      "text/plain": [
       "{'bootstrap': True,\n",
       " 'ccp_alpha': 0.0,\n",
       " 'class_weight': None,\n",
       " 'criterion': 'gini',\n",
       " 'max_depth': None,\n",
       " 'max_features': 'auto',\n",
       " 'max_leaf_nodes': None,\n",
       " 'max_samples': None,\n",
       " 'min_impurity_decrease': 0.0,\n",
       " 'min_impurity_split': None,\n",
       " 'min_samples_leaf': 1,\n",
       " 'min_samples_split': 2,\n",
       " 'min_weight_fraction_leaf': 0.0,\n",
       " 'n_estimators': 100,\n",
       " 'n_jobs': None,\n",
       " 'oob_score': False,\n",
       " 'random_state': None,\n",
       " 'verbose': 0,\n",
       " 'warm_start': False}"
      ]
     },
     "metadata": {},
     "execution_count": 16
    }
   ],
   "source": [
    "rf_clf = RandomForestClassifier()\n",
    "rf_clf.get_params()"
   ]
  },
  {
   "cell_type": "code",
   "execution_count": 17,
   "metadata": {},
   "outputs": [],
   "source": [
    "params = {\n",
    "    'max_depth': [1, 5, 7, 10],\n",
    "    'min_samples_split': [3, 4, 5]\n",
    "}"
   ]
  },
  {
   "cell_type": "code",
   "execution_count": 18,
   "metadata": {},
   "outputs": [
    {
     "output_type": "stream",
     "name": "stdout",
     "text": [
      "최고 평균 정확도: 0.9913\n최적 파라미터: {'max_depth': 10, 'min_samples_split': 4}\n"
     ]
    }
   ],
   "source": [
    "grid_cv = GridSearchCV(rf_clf, param_grid=params, scoring='accuracy', cv=5)\n",
    "grid_cv.fit(X_train, y_train)\n",
    "print(f'최고 평균 정확도: {grid_cv.best_score_:.4f}')\n",
    "print('최적 파라미터:', grid_cv.best_params_)"
   ]
  },
  {
   "cell_type": "code",
   "execution_count": 19,
   "metadata": {},
   "outputs": [
    {
     "output_type": "execute_result",
     "data": {
      "text/plain": [
       "0.9210526315789473"
      ]
     },
     "metadata": {},
     "execution_count": 19
    }
   ],
   "source": [
    "best_rf = grid_cv.best_estimator_\n",
    "pred = best_rf.predict(X_test)\n",
    "accuracy_score(y_test, pred)"
   ]
  },
  {
   "cell_type": "code",
   "execution_count": 20,
   "metadata": {},
   "outputs": [
    {
     "output_type": "execute_result",
     "data": {
      "text/plain": [
       "['../static/model/iris_rf.pkl']"
      ]
     },
     "metadata": {},
     "execution_count": 20
    }
   ],
   "source": [
    "joblib.dump(best_rf, '../static/model/iris_rf.pkl')"
   ]
  },
  {
   "source": [
    "### PCA"
   ],
   "cell_type": "markdown",
   "metadata": {}
  },
  {
   "cell_type": "code",
   "execution_count": 40,
   "metadata": {},
   "outputs": [],
   "source": [
    "from sklearn.decomposition import PCA\n",
    "from sklearn.datasets import load_iris\n",
    "\n",
    "pca = PCA(n_components=2)"
   ]
  },
  {
   "cell_type": "code",
   "execution_count": 41,
   "metadata": {},
   "outputs": [],
   "source": [
    "iris = load_iris()\n",
    "df_total = pd.concat([df_train, df_test])\n",
    "df = df_total.iloc[:, 0:4]"
   ]
  },
  {
   "cell_type": "code",
   "execution_count": 42,
   "metadata": {},
   "outputs": [
    {
     "output_type": "stream",
     "name": "stdout",
     "text": [
      "(150, 2)\n"
     ]
    }
   ],
   "source": [
    "scaler = StandardScaler()\n",
    "iris_std = scaler.fit_transform(df.values)\n",
    "\n",
    "pca.fit(iris_std)\n",
    "iris_pca = pca.transform(iris_std)\n",
    "print(iris_pca.shape)"
   ]
  },
  {
   "cell_type": "code",
   "execution_count": 43,
   "metadata": {},
   "outputs": [
    {
     "output_type": "execute_result",
     "data": {
      "text/plain": [
       "array([[-1.81866953,  0.08555853],\n",
       "       [ 1.02095055,  0.06434603],\n",
       "       [-2.16971071,  0.26887896],\n",
       "       [-2.19034951,  0.48883832],\n",
       "       [-2.13956345,  0.31321781]])"
      ]
     },
     "metadata": {},
     "execution_count": 43
    }
   ],
   "source": [
    "iris_pca[:5]"
   ]
  },
  {
   "cell_type": "code",
   "execution_count": 44,
   "metadata": {},
   "outputs": [],
   "source": [
    "columns = ['sepal length (cm)', 'sepal width (cm)', 'petal length (cm)', 'petal width (cm)']\n",
    "iris_df = pd.DataFrame(data=df, columns=columns)"
   ]
  },
  {
   "cell_type": "code",
   "execution_count": 45,
   "metadata": {},
   "outputs": [
    {
     "output_type": "execute_result",
     "data": {
      "text/plain": [
       "0      0\n",
       "1      2\n",
       "2      0\n",
       "3      0\n",
       "4      0\n",
       "      ..\n",
       "107    0\n",
       "108    2\n",
       "109    1\n",
       "110    1\n",
       "111    1\n",
       "Name: target, Length: 112, dtype: int64"
      ]
     },
     "metadata": {},
     "execution_count": 45
    }
   ],
   "source": [
    "df_train.target"
   ]
  },
  {
   "cell_type": "code",
   "execution_count": 46,
   "metadata": {},
   "outputs": [],
   "source": [
    "import matplotlib.pyplot as plt\n",
    "%matplotlib inline"
   ]
  },
  {
   "cell_type": "code",
   "execution_count": 47,
   "metadata": {},
   "outputs": [
    {
     "output_type": "stream",
     "name": "stderr",
     "text": [
      "No handles with labels found to put in legend.\n"
     ]
    },
    {
     "output_type": "display_data",
     "data": {
      "text/plain": "<Figure size 432x288 with 1 Axes>",
      "image/svg+xml": "<?xml version=\"1.0\" encoding=\"utf-8\" standalone=\"no\"?>\r\n<!DOCTYPE svg PUBLIC \"-//W3C//DTD SVG 1.1//EN\"\r\n  \"http://www.w3.org/Graphics/SVG/1.1/DTD/svg11.dtd\">\r\n<!-- Created with matplotlib (https://matplotlib.org/) -->\r\n<svg height=\"264.348196pt\" version=\"1.1\" viewBox=\"0 0 373.291051 264.348196\" width=\"373.291051pt\" xmlns=\"http://www.w3.org/2000/svg\" xmlns:xlink=\"http://www.w3.org/1999/xlink\">\r\n <metadata>\r\n  <rdf:RDF xmlns:cc=\"http://creativecommons.org/ns#\" xmlns:dc=\"http://purl.org/dc/elements/1.1/\" xmlns:rdf=\"http://www.w3.org/1999/02/22-rdf-syntax-ns#\">\r\n   <cc:Work>\r\n    <dc:type rdf:resource=\"http://purl.org/dc/dcmitype/StillImage\"/>\r\n    <dc:date>2021-01-20T15:19:07.542766</dc:date>\r\n    <dc:format>image/svg+xml</dc:format>\r\n    <dc:creator>\r\n     <cc:Agent>\r\n      <dc:title>Matplotlib v3.3.2, https://matplotlib.org/</dc:title>\r\n     </cc:Agent>\r\n    </dc:creator>\r\n   </cc:Work>\r\n  </rdf:RDF>\r\n </metadata>\r\n <defs>\r\n  <style type=\"text/css\">*{stroke-linecap:butt;stroke-linejoin:round;}</style>\r\n </defs>\r\n <g id=\"figure_1\">\r\n  <g id=\"patch_1\">\r\n   <path d=\"M 0 264.348196 \r\nL 373.291051 264.348196 \r\nL 373.291051 0 \r\nL 0 0 \r\nz\r\n\" style=\"fill:none;\"/>\r\n  </g>\r\n  <g id=\"axes_1\">\r\n   <g id=\"patch_2\">\r\n    <path d=\"M 30.103125 226.791946 \r\nL 364.903125 226.791946 \r\nL 364.903125 9.351946 \r\nL 30.103125 9.351946 \r\nz\r\n\" style=\"fill:#ffffff;\"/>\r\n   </g>\r\n   <g id=\"PathCollection_1\">\r\n    <defs>\r\n     <path d=\"M 0 -3 \r\nL -3 3 \r\nL 3 3 \r\nz\r\n\" id=\"m002ed9bf09\" style=\"stroke:#1f77b4;\"/>\r\n    </defs>\r\n    <g clip-path=\"url(#p8994c44048)\">\r\n     <use style=\"fill:#1f77b4;stroke:#1f77b4;\" x=\"112.95767\" xlink:href=\"#m002ed9bf09\" y=\"109.835582\"/>\r\n     <use style=\"fill:#1f77b4;stroke:#1f77b4;\" x=\"112.95767\" xlink:href=\"#m002ed9bf09\" y=\"101.599219\"/>\r\n     <use style=\"fill:#1f77b4;stroke:#1f77b4;\" x=\"112.95767\" xlink:href=\"#m002ed9bf09\" y=\"93.362855\"/>\r\n     <use style=\"fill:#1f77b4;stroke:#1f77b4;\" x=\"121.412216\" xlink:href=\"#m002ed9bf09\" y=\"101.599219\"/>\r\n     <use style=\"fill:#1f77b4;stroke:#1f77b4;\" x=\"104.503125\" xlink:href=\"#m002ed9bf09\" y=\"109.835582\"/>\r\n     <use style=\"fill:#1f77b4;stroke:#1f77b4;\" x=\"121.412216\" xlink:href=\"#m002ed9bf09\" y=\"43.944673\"/>\r\n     <use style=\"fill:#1f77b4;stroke:#1f77b4;\" x=\"112.95767\" xlink:href=\"#m002ed9bf09\" y=\"68.653764\"/>\r\n     <use style=\"fill:#1f77b4;stroke:#1f77b4;\" x=\"62.230398\" xlink:href=\"#m002ed9bf09\" y=\"192.199219\"/>\r\n     <use style=\"fill:#1f77b4;stroke:#1f77b4;\" x=\"138.321307\" xlink:href=\"#m002ed9bf09\" y=\"60.417401\"/>\r\n     <use style=\"fill:#1f77b4;stroke:#1f77b4;\" x=\"129.866761\" xlink:href=\"#m002ed9bf09\" y=\"76.890128\"/>\r\n     <use style=\"fill:#1f77b4;stroke:#1f77b4;\" x=\"163.684943\" xlink:href=\"#m002ed9bf09\" y=\"19.235582\"/>\r\n     <use style=\"fill:#1f77b4;stroke:#1f77b4;\" x=\"104.503125\" xlink:href=\"#m002ed9bf09\" y=\"101.599219\"/>\r\n     <use style=\"fill:#1f77b4;stroke:#1f77b4;\" x=\"104.503125\" xlink:href=\"#m002ed9bf09\" y=\"93.362855\"/>\r\n     <use style=\"fill:#1f77b4;stroke:#1f77b4;\" x=\"53.775852\" xlink:href=\"#m002ed9bf09\" y=\"118.071946\"/>\r\n     <use style=\"fill:#1f77b4;stroke:#1f77b4;\" x=\"138.321307\" xlink:href=\"#m002ed9bf09\" y=\"101.599219\"/>\r\n     <use style=\"fill:#1f77b4;stroke:#1f77b4;\" x=\"104.503125\" xlink:href=\"#m002ed9bf09\" y=\"85.126491\"/>\r\n     <use style=\"fill:#1f77b4;stroke:#1f77b4;\" x=\"163.684943\" xlink:href=\"#m002ed9bf09\" y=\"68.653764\"/>\r\n     <use style=\"fill:#1f77b4;stroke:#1f77b4;\" x=\"96.04858\" xlink:href=\"#m002ed9bf09\" y=\"126.30831\"/>\r\n     <use style=\"fill:#1f77b4;stroke:#1f77b4;\" x=\"104.503125\" xlink:href=\"#m002ed9bf09\" y=\"101.599219\"/>\r\n     <use style=\"fill:#1f77b4;stroke:#1f77b4;\" x=\"104.503125\" xlink:href=\"#m002ed9bf09\" y=\"118.071946\"/>\r\n     <use style=\"fill:#1f77b4;stroke:#1f77b4;\" x=\"96.04858\" xlink:href=\"#m002ed9bf09\" y=\"85.126491\"/>\r\n     <use style=\"fill:#1f77b4;stroke:#1f77b4;\" x=\"146.775852\" xlink:href=\"#m002ed9bf09\" y=\"93.362855\"/>\r\n     <use style=\"fill:#1f77b4;stroke:#1f77b4;\" x=\"138.321307\" xlink:href=\"#m002ed9bf09\" y=\"60.417401\"/>\r\n     <use style=\"fill:#1f77b4;stroke:#1f77b4;\" x=\"70.684943\" xlink:href=\"#m002ed9bf09\" y=\"126.30831\"/>\r\n     <use style=\"fill:#1f77b4;stroke:#1f77b4;\" x=\"172.139489\" xlink:href=\"#m002ed9bf09\" y=\"52.181037\"/>\r\n     <use style=\"fill:#1f77b4;stroke:#1f77b4;\" x=\"70.684943\" xlink:href=\"#m002ed9bf09\" y=\"118.071946\"/>\r\n     <use style=\"fill:#1f77b4;stroke:#1f77b4;\" x=\"112.95767\" xlink:href=\"#m002ed9bf09\" y=\"68.653764\"/>\r\n     <use style=\"fill:#1f77b4;stroke:#1f77b4;\" x=\"96.04858\" xlink:href=\"#m002ed9bf09\" y=\"126.30831\"/>\r\n     <use style=\"fill:#1f77b4;stroke:#1f77b4;\" x=\"96.04858\" xlink:href=\"#m002ed9bf09\" y=\"134.544673\"/>\r\n     <use style=\"fill:#1f77b4;stroke:#1f77b4;\" x=\"87.594034\" xlink:href=\"#m002ed9bf09\" y=\"101.599219\"/>\r\n     <use style=\"fill:#1f77b4;stroke:#1f77b4;\" x=\"45.321307\" xlink:href=\"#m002ed9bf09\" y=\"134.544673\"/>\r\n     <use style=\"fill:#1f77b4;stroke:#1f77b4;\" x=\"104.503125\" xlink:href=\"#m002ed9bf09\" y=\"134.544673\"/>\r\n     <use style=\"fill:#1f77b4;stroke:#1f77b4;\" x=\"138.321307\" xlink:href=\"#m002ed9bf09\" y=\"101.599219\"/>\r\n     <use style=\"fill:#1f77b4;stroke:#1f77b4;\" x=\"146.775852\" xlink:href=\"#m002ed9bf09\" y=\"35.70831\"/>\r\n     <use style=\"fill:#1f77b4;stroke:#1f77b4;\" x=\"53.775852\" xlink:href=\"#m002ed9bf09\" y=\"142.781037\"/>\r\n     <use style=\"fill:#1f77b4;stroke:#1f77b4;\" x=\"138.321307\" xlink:href=\"#m002ed9bf09\" y=\"76.890128\"/>\r\n     <use style=\"fill:#1f77b4;stroke:#1f77b4;\" x=\"79.139489\" xlink:href=\"#m002ed9bf09\" y=\"118.071946\"/>\r\n     <use style=\"fill:#1f77b4;stroke:#1f77b4;\" x=\"87.594034\" xlink:href=\"#m002ed9bf09\" y=\"134.544673\"/>\r\n     <use style=\"fill:#1f77b4;stroke:#1f77b4;\" x=\"70.684943\" xlink:href=\"#m002ed9bf09\" y=\"85.126491\"/>\r\n     <use style=\"fill:#1f77b4;stroke:#1f77b4;\" x=\"87.594034\" xlink:href=\"#m002ed9bf09\" y=\"134.544673\"/>\r\n     <use style=\"fill:#1f77b4;stroke:#1f77b4;\" x=\"79.139489\" xlink:href=\"#m002ed9bf09\" y=\"118.071946\"/>\r\n     <use style=\"fill:#1f77b4;stroke:#1f77b4;\" x=\"87.594034\" xlink:href=\"#m002ed9bf09\" y=\"101.599219\"/>\r\n     <use style=\"fill:#1f77b4;stroke:#1f77b4;\" x=\"112.95767\" xlink:href=\"#m002ed9bf09\" y=\"93.362855\"/>\r\n     <use style=\"fill:#1f77b4;stroke:#1f77b4;\" x=\"112.95767\" xlink:href=\"#m002ed9bf09\" y=\"68.653764\"/>\r\n     <use style=\"fill:#1f77b4;stroke:#1f77b4;\" x=\"121.412216\" xlink:href=\"#m002ed9bf09\" y=\"93.362855\"/>\r\n     <use style=\"fill:#1f77b4;stroke:#1f77b4;\" x=\"112.95767\" xlink:href=\"#m002ed9bf09\" y=\"76.890128\"/>\r\n     <use style=\"fill:#1f77b4;stroke:#1f77b4;\" x=\"53.775852\" xlink:href=\"#m002ed9bf09\" y=\"134.544673\"/>\r\n     <use style=\"fill:#1f77b4;stroke:#1f77b4;\" x=\"104.503125\" xlink:href=\"#m002ed9bf09\" y=\"93.362855\"/>\r\n     <use style=\"fill:#1f77b4;stroke:#1f77b4;\" x=\"87.594034\" xlink:href=\"#m002ed9bf09\" y=\"126.30831\"/>\r\n     <use style=\"fill:#1f77b4;stroke:#1f77b4;\" x=\"70.684943\" xlink:href=\"#m002ed9bf09\" y=\"101.599219\"/>\r\n    </g>\r\n   </g>\r\n   <g id=\"PathCollection_2\">\r\n    <defs>\r\n     <path d=\"M -3 3 \r\nL 3 3 \r\nL 3 -3 \r\nL -3 -3 \r\nz\r\n\" id=\"me8570dd070\" style=\"stroke:#ff7f0e;\"/>\r\n    </defs>\r\n    <g clip-path=\"url(#p8994c44048)\">\r\n     <use style=\"fill:#ff7f0e;stroke:#ff7f0e;\" x=\"265.139489\" xlink:href=\"#me8570dd070\" y=\"126.30831\"/>\r\n     <use style=\"fill:#ff7f0e;stroke:#ff7f0e;\" x=\"197.503125\" xlink:href=\"#me8570dd070\" y=\"151.017401\"/>\r\n     <use style=\"fill:#ff7f0e;stroke:#ff7f0e;\" x=\"273.594034\" xlink:href=\"#me8570dd070\" y=\"118.071946\"/>\r\n     <use style=\"fill:#ff7f0e;stroke:#ff7f0e;\" x=\"163.684943\" xlink:href=\"#me8570dd070\" y=\"134.544673\"/>\r\n     <use style=\"fill:#ff7f0e;stroke:#ff7f0e;\" x=\"155.230398\" xlink:href=\"#me8570dd070\" y=\"134.544673\"/>\r\n     <use style=\"fill:#ff7f0e;stroke:#ff7f0e;\" x=\"222.866761\" xlink:href=\"#me8570dd070\" y=\"142.781037\"/>\r\n     <use style=\"fill:#ff7f0e;stroke:#ff7f0e;\" x=\"180.594034\" xlink:href=\"#me8570dd070\" y=\"134.544673\"/>\r\n     <use style=\"fill:#ff7f0e;stroke:#ff7f0e;\" x=\"214.412216\" xlink:href=\"#me8570dd070\" y=\"192.199219\"/>\r\n     <use style=\"fill:#ff7f0e;stroke:#ff7f0e;\" x=\"197.503125\" xlink:href=\"#me8570dd070\" y=\"151.017401\"/>\r\n     <use style=\"fill:#ff7f0e;stroke:#ff7f0e;\" x=\"146.775852\" xlink:href=\"#me8570dd070\" y=\"183.962855\"/>\r\n     <use style=\"fill:#ff7f0e;stroke:#ff7f0e;\" x=\"172.139489\" xlink:href=\"#me8570dd070\" y=\"167.490128\"/>\r\n     <use style=\"fill:#ff7f0e;stroke:#ff7f0e;\" x=\"146.775852\" xlink:href=\"#me8570dd070\" y=\"192.199219\"/>\r\n     <use style=\"fill:#ff7f0e;stroke:#ff7f0e;\" x=\"155.230398\" xlink:href=\"#me8570dd070\" y=\"134.544673\"/>\r\n     <use style=\"fill:#ff7f0e;stroke:#ff7f0e;\" x=\"189.04858\" xlink:href=\"#me8570dd070\" y=\"200.435582\"/>\r\n     <use style=\"fill:#ff7f0e;stroke:#ff7f0e;\" x=\"189.04858\" xlink:href=\"#me8570dd070\" y=\"159.253764\"/>\r\n     <use style=\"fill:#ff7f0e;stroke:#ff7f0e;\" x=\"189.04858\" xlink:href=\"#me8570dd070\" y=\"142.781037\"/>\r\n     <use style=\"fill:#ff7f0e;stroke:#ff7f0e;\" x=\"256.684943\" xlink:href=\"#me8570dd070\" y=\"151.017401\"/>\r\n     <use style=\"fill:#ff7f0e;stroke:#ff7f0e;\" x=\"222.866761\" xlink:href=\"#me8570dd070\" y=\"118.071946\"/>\r\n     <use style=\"fill:#ff7f0e;stroke:#ff7f0e;\" x=\"239.775852\" xlink:href=\"#me8570dd070\" y=\"142.781037\"/>\r\n     <use style=\"fill:#ff7f0e;stroke:#ff7f0e;\" x=\"189.04858\" xlink:href=\"#me8570dd070\" y=\"101.599219\"/>\r\n     <use style=\"fill:#ff7f0e;stroke:#ff7f0e;\" x=\"104.503125\" xlink:href=\"#me8570dd070\" y=\"216.90831\"/>\r\n     <use style=\"fill:#ff7f0e;stroke:#ff7f0e;\" x=\"146.775852\" xlink:href=\"#me8570dd070\" y=\"183.962855\"/>\r\n     <use style=\"fill:#ff7f0e;stroke:#ff7f0e;\" x=\"163.684943\" xlink:href=\"#me8570dd070\" y=\"151.017401\"/>\r\n     <use style=\"fill:#ff7f0e;stroke:#ff7f0e;\" x=\"172.139489\" xlink:href=\"#me8570dd070\" y=\"159.253764\"/>\r\n     <use style=\"fill:#ff7f0e;stroke:#ff7f0e;\" x=\"163.684943\" xlink:href=\"#me8570dd070\" y=\"167.490128\"/>\r\n     <use style=\"fill:#ff7f0e;stroke:#ff7f0e;\" x=\"231.321307\" xlink:href=\"#me8570dd070\" y=\"151.017401\"/>\r\n     <use style=\"fill:#ff7f0e;stroke:#ff7f0e;\" x=\"104.503125\" xlink:href=\"#me8570dd070\" y=\"192.199219\"/>\r\n     <use style=\"fill:#ff7f0e;stroke:#ff7f0e;\" x=\"214.412216\" xlink:href=\"#me8570dd070\" y=\"175.726491\"/>\r\n     <use style=\"fill:#ff7f0e;stroke:#ff7f0e;\" x=\"155.230398\" xlink:href=\"#me8570dd070\" y=\"175.726491\"/>\r\n     <use style=\"fill:#ff7f0e;stroke:#ff7f0e;\" x=\"197.503125\" xlink:href=\"#me8570dd070\" y=\"142.781037\"/>\r\n     <use style=\"fill:#ff7f0e;stroke:#ff7f0e;\" x=\"146.775852\" xlink:href=\"#me8570dd070\" y=\"167.490128\"/>\r\n     <use style=\"fill:#ff7f0e;stroke:#ff7f0e;\" x=\"163.684943\" xlink:href=\"#me8570dd070\" y=\"151.017401\"/>\r\n     <use style=\"fill:#ff7f0e;stroke:#ff7f0e;\" x=\"205.95767\" xlink:href=\"#me8570dd070\" y=\"200.435582\"/>\r\n     <use style=\"fill:#ff7f0e;stroke:#ff7f0e;\" x=\"214.412216\" xlink:href=\"#me8570dd070\" y=\"109.835582\"/>\r\n     <use style=\"fill:#ff7f0e;stroke:#ff7f0e;\" x=\"248.230398\" xlink:href=\"#me8570dd070\" y=\"126.30831\"/>\r\n     <use style=\"fill:#ff7f0e;stroke:#ff7f0e;\" x=\"155.230398\" xlink:href=\"#me8570dd070\" y=\"142.781037\"/>\r\n     <use style=\"fill:#ff7f0e;stroke:#ff7f0e;\" x=\"138.321307\" xlink:href=\"#me8570dd070\" y=\"134.544673\"/>\r\n     <use style=\"fill:#ff7f0e;stroke:#ff7f0e;\" x=\"96.04858\" xlink:href=\"#me8570dd070\" y=\"183.962855\"/>\r\n     <use style=\"fill:#ff7f0e;stroke:#ff7f0e;\" x=\"163.684943\" xlink:href=\"#me8570dd070\" y=\"142.781037\"/>\r\n     <use style=\"fill:#ff7f0e;stroke:#ff7f0e;\" x=\"112.95767\" xlink:href=\"#me8570dd070\" y=\"175.726491\"/>\r\n     <use style=\"fill:#ff7f0e;stroke:#ff7f0e;\" x=\"248.230398\" xlink:href=\"#me8570dd070\" y=\"134.544673\"/>\r\n     <use style=\"fill:#ff7f0e;stroke:#ff7f0e;\" x=\"155.230398\" xlink:href=\"#me8570dd070\" y=\"159.253764\"/>\r\n     <use style=\"fill:#ff7f0e;stroke:#ff7f0e;\" x=\"248.230398\" xlink:href=\"#me8570dd070\" y=\"126.30831\"/>\r\n     <use style=\"fill:#ff7f0e;stroke:#ff7f0e;\" x=\"180.594034\" xlink:href=\"#me8570dd070\" y=\"118.071946\"/>\r\n     <use style=\"fill:#ff7f0e;stroke:#ff7f0e;\" x=\"239.775852\" xlink:href=\"#me8570dd070\" y=\"134.544673\"/>\r\n     <use style=\"fill:#ff7f0e;stroke:#ff7f0e;\" x=\"172.139489\" xlink:href=\"#me8570dd070\" y=\"159.253764\"/>\r\n     <use style=\"fill:#ff7f0e;stroke:#ff7f0e;\" x=\"121.412216\" xlink:href=\"#me8570dd070\" y=\"159.253764\"/>\r\n     <use style=\"fill:#ff7f0e;stroke:#ff7f0e;\" x=\"205.95767\" xlink:href=\"#me8570dd070\" y=\"142.781037\"/>\r\n     <use style=\"fill:#ff7f0e;stroke:#ff7f0e;\" x=\"197.503125\" xlink:href=\"#me8570dd070\" y=\"134.544673\"/>\r\n     <use style=\"fill:#ff7f0e;stroke:#ff7f0e;\" x=\"146.775852\" xlink:href=\"#me8570dd070\" y=\"175.726491\"/>\r\n    </g>\r\n   </g>\r\n   <g id=\"PathCollection_3\">\r\n    <defs>\r\n     <path d=\"M 0 3 \r\nC 0.795609 3 1.55874 2.683901 2.12132 2.12132 \r\nC 2.683901 1.55874 3 0.795609 3 0 \r\nC 3 -0.795609 2.683901 -1.55874 2.12132 -2.12132 \r\nC 1.55874 -2.683901 0.795609 -3 0 -3 \r\nC -0.795609 -3 -1.55874 -2.683901 -2.12132 -2.12132 \r\nC -2.683901 -1.55874 -3 -0.795609 -3 0 \r\nC -3 0.795609 -2.683901 1.55874 -2.12132 2.12132 \r\nC -1.55874 2.683901 -0.795609 3 0 3 \r\nz\r\n\" id=\"m15a471f5a0\" style=\"stroke:#2ca02c;\"/>\r\n    </defs>\r\n    <g clip-path=\"url(#p8994c44048)\">\r\n     <use style=\"fill:#2ca02c;stroke:#2ca02c;\" x=\"197.503125\" xlink:href=\"#m15a471f5a0\" y=\"134.544673\"/>\r\n     <use style=\"fill:#2ca02c;stroke:#2ca02c;\" x=\"214.412216\" xlink:href=\"#m15a471f5a0\" y=\"159.253764\"/>\r\n     <use style=\"fill:#2ca02c;stroke:#2ca02c;\" x=\"222.866761\" xlink:href=\"#m15a471f5a0\" y=\"126.30831\"/>\r\n     <use style=\"fill:#2ca02c;stroke:#2ca02c;\" x=\"265.139489\" xlink:href=\"#m15a471f5a0\" y=\"118.071946\"/>\r\n     <use style=\"fill:#2ca02c;stroke:#2ca02c;\" x=\"231.321307\" xlink:href=\"#m15a471f5a0\" y=\"134.544673\"/>\r\n     <use style=\"fill:#2ca02c;stroke:#2ca02c;\" x=\"197.503125\" xlink:href=\"#m15a471f5a0\" y=\"167.490128\"/>\r\n     <use style=\"fill:#2ca02c;stroke:#2ca02c;\" x=\"96.04858\" xlink:href=\"#m15a471f5a0\" y=\"175.726491\"/>\r\n     <use style=\"fill:#2ca02c;stroke:#2ca02c;\" x=\"332.775852\" xlink:href=\"#m15a471f5a0\" y=\"167.490128\"/>\r\n     <use style=\"fill:#2ca02c;stroke:#2ca02c;\" x=\"248.230398\" xlink:href=\"#m15a471f5a0\" y=\"109.835582\"/>\r\n     <use style=\"fill:#2ca02c;stroke:#2ca02c;\" x=\"290.503125\" xlink:href=\"#m15a471f5a0\" y=\"85.126491\"/>\r\n     <use style=\"fill:#2ca02c;stroke:#2ca02c;\" x=\"349.684943\" xlink:href=\"#m15a471f5a0\" y=\"68.653764\"/>\r\n     <use style=\"fill:#2ca02c;stroke:#2ca02c;\" x=\"256.684943\" xlink:href=\"#m15a471f5a0\" y=\"118.071946\"/>\r\n     <use style=\"fill:#2ca02c;stroke:#2ca02c;\" x=\"214.412216\" xlink:href=\"#m15a471f5a0\" y=\"109.835582\"/>\r\n     <use style=\"fill:#2ca02c;stroke:#2ca02c;\" x=\"214.412216\" xlink:href=\"#m15a471f5a0\" y=\"175.726491\"/>\r\n     <use style=\"fill:#2ca02c;stroke:#2ca02c;\" x=\"214.412216\" xlink:href=\"#m15a471f5a0\" y=\"101.599219\"/>\r\n     <use style=\"fill:#2ca02c;stroke:#2ca02c;\" x=\"290.503125\" xlink:href=\"#m15a471f5a0\" y=\"134.544673\"/>\r\n     <use style=\"fill:#2ca02c;stroke:#2ca02c;\" x=\"332.775852\" xlink:href=\"#m15a471f5a0\" y=\"68.653764\"/>\r\n     <use style=\"fill:#2ca02c;stroke:#2ca02c;\" x=\"180.594034\" xlink:href=\"#m15a471f5a0\" y=\"134.544673\"/>\r\n     <use style=\"fill:#2ca02c;stroke:#2ca02c;\" x=\"282.04858\" xlink:href=\"#m15a471f5a0\" y=\"134.544673\"/>\r\n     <use style=\"fill:#2ca02c;stroke:#2ca02c;\" x=\"307.412216\" xlink:href=\"#m15a471f5a0\" y=\"151.017401\"/>\r\n     <use style=\"fill:#2ca02c;stroke:#2ca02c;\" x=\"332.775852\" xlink:href=\"#m15a471f5a0\" y=\"151.017401\"/>\r\n     <use style=\"fill:#2ca02c;stroke:#2ca02c;\" x=\"163.684943\" xlink:href=\"#m15a471f5a0\" y=\"175.726491\"/>\r\n     <use style=\"fill:#2ca02c;stroke:#2ca02c;\" x=\"248.230398\" xlink:href=\"#m15a471f5a0\" y=\"134.544673\"/>\r\n     <use style=\"fill:#2ca02c;stroke:#2ca02c;\" x=\"256.684943\" xlink:href=\"#m15a471f5a0\" y=\"134.544673\"/>\r\n     <use style=\"fill:#2ca02c;stroke:#2ca02c;\" x=\"172.139489\" xlink:href=\"#m15a471f5a0\" y=\"159.253764\"/>\r\n     <use style=\"fill:#2ca02c;stroke:#2ca02c;\" x=\"231.321307\" xlink:href=\"#m15a471f5a0\" y=\"118.071946\"/>\r\n     <use style=\"fill:#2ca02c;stroke:#2ca02c;\" x=\"155.230398\" xlink:href=\"#m15a471f5a0\" y=\"151.017401\"/>\r\n     <use style=\"fill:#2ca02c;stroke:#2ca02c;\" x=\"222.866761\" xlink:href=\"#m15a471f5a0\" y=\"151.017401\"/>\r\n     <use style=\"fill:#2ca02c;stroke:#2ca02c;\" x=\"248.230398\" xlink:href=\"#m15a471f5a0\" y=\"175.726491\"/>\r\n     <use style=\"fill:#2ca02c;stroke:#2ca02c;\" x=\"172.139489\" xlink:href=\"#m15a471f5a0\" y=\"151.017401\"/>\r\n     <use style=\"fill:#2ca02c;stroke:#2ca02c;\" x=\"298.95767\" xlink:href=\"#m15a471f5a0\" y=\"142.781037\"/>\r\n     <use style=\"fill:#2ca02c;stroke:#2ca02c;\" x=\"231.321307\" xlink:href=\"#m15a471f5a0\" y=\"134.544673\"/>\r\n     <use style=\"fill:#2ca02c;stroke:#2ca02c;\" x=\"248.230398\" xlink:href=\"#m15a471f5a0\" y=\"109.835582\"/>\r\n     <use style=\"fill:#2ca02c;stroke:#2ca02c;\" x=\"332.775852\" xlink:href=\"#m15a471f5a0\" y=\"134.544673\"/>\r\n     <use style=\"fill:#2ca02c;stroke:#2ca02c;\" x=\"248.230398\" xlink:href=\"#m15a471f5a0\" y=\"126.30831\"/>\r\n     <use style=\"fill:#2ca02c;stroke:#2ca02c;\" x=\"222.866761\" xlink:href=\"#m15a471f5a0\" y=\"151.017401\"/>\r\n     <use style=\"fill:#2ca02c;stroke:#2ca02c;\" x=\"324.321307\" xlink:href=\"#m15a471f5a0\" y=\"134.544673\"/>\r\n     <use style=\"fill:#2ca02c;stroke:#2ca02c;\" x=\"205.95767\" xlink:href=\"#m15a471f5a0\" y=\"151.017401\"/>\r\n     <use style=\"fill:#2ca02c;stroke:#2ca02c;\" x=\"214.412216\" xlink:href=\"#m15a471f5a0\" y=\"151.017401\"/>\r\n     <use style=\"fill:#2ca02c;stroke:#2ca02c;\" x=\"222.866761\" xlink:href=\"#m15a471f5a0\" y=\"159.253764\"/>\r\n     <use style=\"fill:#2ca02c;stroke:#2ca02c;\" x=\"189.04858\" xlink:href=\"#m15a471f5a0\" y=\"134.544673\"/>\r\n     <use style=\"fill:#2ca02c;stroke:#2ca02c;\" x=\"189.04858\" xlink:href=\"#m15a471f5a0\" y=\"200.435582\"/>\r\n     <use style=\"fill:#2ca02c;stroke:#2ca02c;\" x=\"265.139489\" xlink:href=\"#m15a471f5a0\" y=\"126.30831\"/>\r\n     <use style=\"fill:#2ca02c;stroke:#2ca02c;\" x=\"231.321307\" xlink:href=\"#m15a471f5a0\" y=\"134.544673\"/>\r\n     <use style=\"fill:#2ca02c;stroke:#2ca02c;\" x=\"214.412216\" xlink:href=\"#m15a471f5a0\" y=\"142.781037\"/>\r\n     <use style=\"fill:#2ca02c;stroke:#2ca02c;\" x=\"290.503125\" xlink:href=\"#m15a471f5a0\" y=\"118.071946\"/>\r\n     <use style=\"fill:#2ca02c;stroke:#2ca02c;\" x=\"172.139489\" xlink:href=\"#m15a471f5a0\" y=\"159.253764\"/>\r\n     <use style=\"fill:#2ca02c;stroke:#2ca02c;\" x=\"265.139489\" xlink:href=\"#m15a471f5a0\" y=\"126.30831\"/>\r\n     <use style=\"fill:#2ca02c;stroke:#2ca02c;\" x=\"222.866761\" xlink:href=\"#m15a471f5a0\" y=\"118.071946\"/>\r\n     <use style=\"fill:#2ca02c;stroke:#2ca02c;\" x=\"205.95767\" xlink:href=\"#m15a471f5a0\" y=\"101.599219\"/>\r\n    </g>\r\n   </g>\r\n   <g id=\"matplotlib.axis_1\">\r\n    <g id=\"xtick_1\">\r\n     <g id=\"line2d_1\">\r\n      <defs>\r\n       <path d=\"M 0 0 \r\nL 0 3.5 \r\n\" id=\"mc0801a3b79\" style=\"stroke:#000000;stroke-width:0.8;\"/>\r\n      </defs>\r\n      <g>\r\n       <use style=\"stroke:#000000;stroke-width:0.8;\" x=\"62.230398\" xlink:href=\"#mc0801a3b79\" y=\"226.791946\"/>\r\n      </g>\r\n     </g>\r\n     <g id=\"text_1\">\r\n      <!-- 4.5 -->\r\n      <g transform=\"translate(54.278835 241.390384)scale(0.1 -0.1)\">\r\n       <defs>\r\n        <path d=\"M 37.796875 64.3125 \r\nL 12.890625 25.390625 \r\nL 37.796875 25.390625 \r\nz\r\nM 35.203125 72.90625 \r\nL 47.609375 72.90625 \r\nL 47.609375 25.390625 \r\nL 58.015625 25.390625 \r\nL 58.015625 17.1875 \r\nL 47.609375 17.1875 \r\nL 47.609375 0 \r\nL 37.796875 0 \r\nL 37.796875 17.1875 \r\nL 4.890625 17.1875 \r\nL 4.890625 26.703125 \r\nz\r\n\" id=\"DejaVuSans-52\"/>\r\n        <path d=\"M 10.6875 12.40625 \r\nL 21 12.40625 \r\nL 21 0 \r\nL 10.6875 0 \r\nz\r\n\" id=\"DejaVuSans-46\"/>\r\n        <path d=\"M 10.796875 72.90625 \r\nL 49.515625 72.90625 \r\nL 49.515625 64.59375 \r\nL 19.828125 64.59375 \r\nL 19.828125 46.734375 \r\nQ 21.96875 47.46875 24.109375 47.828125 \r\nQ 26.265625 48.1875 28.421875 48.1875 \r\nQ 40.625 48.1875 47.75 41.5 \r\nQ 54.890625 34.8125 54.890625 23.390625 \r\nQ 54.890625 11.625 47.5625 5.09375 \r\nQ 40.234375 -1.421875 26.90625 -1.421875 \r\nQ 22.3125 -1.421875 17.546875 -0.640625 \r\nQ 12.796875 0.140625 7.71875 1.703125 \r\nL 7.71875 11.625 \r\nQ 12.109375 9.234375 16.796875 8.0625 \r\nQ 21.484375 6.890625 26.703125 6.890625 \r\nQ 35.15625 6.890625 40.078125 11.328125 \r\nQ 45.015625 15.765625 45.015625 23.390625 \r\nQ 45.015625 31 40.078125 35.4375 \r\nQ 35.15625 39.890625 26.703125 39.890625 \r\nQ 22.75 39.890625 18.8125 39.015625 \r\nQ 14.890625 38.140625 10.796875 36.28125 \r\nz\r\n\" id=\"DejaVuSans-53\"/>\r\n       </defs>\r\n       <use xlink:href=\"#DejaVuSans-52\"/>\r\n       <use x=\"63.623047\" xlink:href=\"#DejaVuSans-46\"/>\r\n       <use x=\"95.410156\" xlink:href=\"#DejaVuSans-53\"/>\r\n      </g>\r\n     </g>\r\n    </g>\r\n    <g id=\"xtick_2\">\r\n     <g id=\"line2d_2\">\r\n      <g>\r\n       <use style=\"stroke:#000000;stroke-width:0.8;\" x=\"104.503125\" xlink:href=\"#mc0801a3b79\" y=\"226.791946\"/>\r\n      </g>\r\n     </g>\r\n     <g id=\"text_2\">\r\n      <!-- 5.0 -->\r\n      <g transform=\"translate(96.551563 241.390384)scale(0.1 -0.1)\">\r\n       <defs>\r\n        <path d=\"M 31.78125 66.40625 \r\nQ 24.171875 66.40625 20.328125 58.90625 \r\nQ 16.5 51.421875 16.5 36.375 \r\nQ 16.5 21.390625 20.328125 13.890625 \r\nQ 24.171875 6.390625 31.78125 6.390625 \r\nQ 39.453125 6.390625 43.28125 13.890625 \r\nQ 47.125 21.390625 47.125 36.375 \r\nQ 47.125 51.421875 43.28125 58.90625 \r\nQ 39.453125 66.40625 31.78125 66.40625 \r\nz\r\nM 31.78125 74.21875 \r\nQ 44.046875 74.21875 50.515625 64.515625 \r\nQ 56.984375 54.828125 56.984375 36.375 \r\nQ 56.984375 17.96875 50.515625 8.265625 \r\nQ 44.046875 -1.421875 31.78125 -1.421875 \r\nQ 19.53125 -1.421875 13.0625 8.265625 \r\nQ 6.59375 17.96875 6.59375 36.375 \r\nQ 6.59375 54.828125 13.0625 64.515625 \r\nQ 19.53125 74.21875 31.78125 74.21875 \r\nz\r\n\" id=\"DejaVuSans-48\"/>\r\n       </defs>\r\n       <use xlink:href=\"#DejaVuSans-53\"/>\r\n       <use x=\"63.623047\" xlink:href=\"#DejaVuSans-46\"/>\r\n       <use x=\"95.410156\" xlink:href=\"#DejaVuSans-48\"/>\r\n      </g>\r\n     </g>\r\n    </g>\r\n    <g id=\"xtick_3\">\r\n     <g id=\"line2d_3\">\r\n      <g>\r\n       <use style=\"stroke:#000000;stroke-width:0.8;\" x=\"146.775852\" xlink:href=\"#mc0801a3b79\" y=\"226.791946\"/>\r\n      </g>\r\n     </g>\r\n     <g id=\"text_3\">\r\n      <!-- 5.5 -->\r\n      <g transform=\"translate(138.82429 241.390384)scale(0.1 -0.1)\">\r\n       <use xlink:href=\"#DejaVuSans-53\"/>\r\n       <use x=\"63.623047\" xlink:href=\"#DejaVuSans-46\"/>\r\n       <use x=\"95.410156\" xlink:href=\"#DejaVuSans-53\"/>\r\n      </g>\r\n     </g>\r\n    </g>\r\n    <g id=\"xtick_4\">\r\n     <g id=\"line2d_4\">\r\n      <g>\r\n       <use style=\"stroke:#000000;stroke-width:0.8;\" x=\"189.04858\" xlink:href=\"#mc0801a3b79\" y=\"226.791946\"/>\r\n      </g>\r\n     </g>\r\n     <g id=\"text_4\">\r\n      <!-- 6.0 -->\r\n      <g transform=\"translate(181.097017 241.390384)scale(0.1 -0.1)\">\r\n       <defs>\r\n        <path d=\"M 33.015625 40.375 \r\nQ 26.375 40.375 22.484375 35.828125 \r\nQ 18.609375 31.296875 18.609375 23.390625 \r\nQ 18.609375 15.53125 22.484375 10.953125 \r\nQ 26.375 6.390625 33.015625 6.390625 \r\nQ 39.65625 6.390625 43.53125 10.953125 \r\nQ 47.40625 15.53125 47.40625 23.390625 \r\nQ 47.40625 31.296875 43.53125 35.828125 \r\nQ 39.65625 40.375 33.015625 40.375 \r\nz\r\nM 52.59375 71.296875 \r\nL 52.59375 62.3125 \r\nQ 48.875 64.0625 45.09375 64.984375 \r\nQ 41.3125 65.921875 37.59375 65.921875 \r\nQ 27.828125 65.921875 22.671875 59.328125 \r\nQ 17.53125 52.734375 16.796875 39.40625 \r\nQ 19.671875 43.65625 24.015625 45.921875 \r\nQ 28.375 48.1875 33.59375 48.1875 \r\nQ 44.578125 48.1875 50.953125 41.515625 \r\nQ 57.328125 34.859375 57.328125 23.390625 \r\nQ 57.328125 12.15625 50.6875 5.359375 \r\nQ 44.046875 -1.421875 33.015625 -1.421875 \r\nQ 20.359375 -1.421875 13.671875 8.265625 \r\nQ 6.984375 17.96875 6.984375 36.375 \r\nQ 6.984375 53.65625 15.1875 63.9375 \r\nQ 23.390625 74.21875 37.203125 74.21875 \r\nQ 40.921875 74.21875 44.703125 73.484375 \r\nQ 48.484375 72.75 52.59375 71.296875 \r\nz\r\n\" id=\"DejaVuSans-54\"/>\r\n       </defs>\r\n       <use xlink:href=\"#DejaVuSans-54\"/>\r\n       <use x=\"63.623047\" xlink:href=\"#DejaVuSans-46\"/>\r\n       <use x=\"95.410156\" xlink:href=\"#DejaVuSans-48\"/>\r\n      </g>\r\n     </g>\r\n    </g>\r\n    <g id=\"xtick_5\">\r\n     <g id=\"line2d_5\">\r\n      <g>\r\n       <use style=\"stroke:#000000;stroke-width:0.8;\" x=\"231.321307\" xlink:href=\"#mc0801a3b79\" y=\"226.791946\"/>\r\n      </g>\r\n     </g>\r\n     <g id=\"text_5\">\r\n      <!-- 6.5 -->\r\n      <g transform=\"translate(223.369744 241.390384)scale(0.1 -0.1)\">\r\n       <use xlink:href=\"#DejaVuSans-54\"/>\r\n       <use x=\"63.623047\" xlink:href=\"#DejaVuSans-46\"/>\r\n       <use x=\"95.410156\" xlink:href=\"#DejaVuSans-53\"/>\r\n      </g>\r\n     </g>\r\n    </g>\r\n    <g id=\"xtick_6\">\r\n     <g id=\"line2d_6\">\r\n      <g>\r\n       <use style=\"stroke:#000000;stroke-width:0.8;\" x=\"273.594034\" xlink:href=\"#mc0801a3b79\" y=\"226.791946\"/>\r\n      </g>\r\n     </g>\r\n     <g id=\"text_6\">\r\n      <!-- 7.0 -->\r\n      <g transform=\"translate(265.642472 241.390384)scale(0.1 -0.1)\">\r\n       <defs>\r\n        <path d=\"M 8.203125 72.90625 \r\nL 55.078125 72.90625 \r\nL 55.078125 68.703125 \r\nL 28.609375 0 \r\nL 18.3125 0 \r\nL 43.21875 64.59375 \r\nL 8.203125 64.59375 \r\nz\r\n\" id=\"DejaVuSans-55\"/>\r\n       </defs>\r\n       <use xlink:href=\"#DejaVuSans-55\"/>\r\n       <use x=\"63.623047\" xlink:href=\"#DejaVuSans-46\"/>\r\n       <use x=\"95.410156\" xlink:href=\"#DejaVuSans-48\"/>\r\n      </g>\r\n     </g>\r\n    </g>\r\n    <g id=\"xtick_7\">\r\n     <g id=\"line2d_7\">\r\n      <g>\r\n       <use style=\"stroke:#000000;stroke-width:0.8;\" x=\"315.866761\" xlink:href=\"#mc0801a3b79\" y=\"226.791946\"/>\r\n      </g>\r\n     </g>\r\n     <g id=\"text_7\">\r\n      <!-- 7.5 -->\r\n      <g transform=\"translate(307.915199 241.390384)scale(0.1 -0.1)\">\r\n       <use xlink:href=\"#DejaVuSans-55\"/>\r\n       <use x=\"63.623047\" xlink:href=\"#DejaVuSans-46\"/>\r\n       <use x=\"95.410156\" xlink:href=\"#DejaVuSans-53\"/>\r\n      </g>\r\n     </g>\r\n    </g>\r\n    <g id=\"xtick_8\">\r\n     <g id=\"line2d_8\">\r\n      <g>\r\n       <use style=\"stroke:#000000;stroke-width:0.8;\" x=\"358.139489\" xlink:href=\"#mc0801a3b79\" y=\"226.791946\"/>\r\n      </g>\r\n     </g>\r\n     <g id=\"text_8\">\r\n      <!-- 8.0 -->\r\n      <g transform=\"translate(350.187926 241.390384)scale(0.1 -0.1)\">\r\n       <defs>\r\n        <path d=\"M 31.78125 34.625 \r\nQ 24.75 34.625 20.71875 30.859375 \r\nQ 16.703125 27.09375 16.703125 20.515625 \r\nQ 16.703125 13.921875 20.71875 10.15625 \r\nQ 24.75 6.390625 31.78125 6.390625 \r\nQ 38.8125 6.390625 42.859375 10.171875 \r\nQ 46.921875 13.96875 46.921875 20.515625 \r\nQ 46.921875 27.09375 42.890625 30.859375 \r\nQ 38.875 34.625 31.78125 34.625 \r\nz\r\nM 21.921875 38.8125 \r\nQ 15.578125 40.375 12.03125 44.71875 \r\nQ 8.5 49.078125 8.5 55.328125 \r\nQ 8.5 64.0625 14.71875 69.140625 \r\nQ 20.953125 74.21875 31.78125 74.21875 \r\nQ 42.671875 74.21875 48.875 69.140625 \r\nQ 55.078125 64.0625 55.078125 55.328125 \r\nQ 55.078125 49.078125 51.53125 44.71875 \r\nQ 48 40.375 41.703125 38.8125 \r\nQ 48.828125 37.15625 52.796875 32.3125 \r\nQ 56.78125 27.484375 56.78125 20.515625 \r\nQ 56.78125 9.90625 50.3125 4.234375 \r\nQ 43.84375 -1.421875 31.78125 -1.421875 \r\nQ 19.734375 -1.421875 13.25 4.234375 \r\nQ 6.78125 9.90625 6.78125 20.515625 \r\nQ 6.78125 27.484375 10.78125 32.3125 \r\nQ 14.796875 37.15625 21.921875 38.8125 \r\nz\r\nM 18.3125 54.390625 \r\nQ 18.3125 48.734375 21.84375 45.5625 \r\nQ 25.390625 42.390625 31.78125 42.390625 \r\nQ 38.140625 42.390625 41.71875 45.5625 \r\nQ 45.3125 48.734375 45.3125 54.390625 \r\nQ 45.3125 60.0625 41.71875 63.234375 \r\nQ 38.140625 66.40625 31.78125 66.40625 \r\nQ 25.390625 66.40625 21.84375 63.234375 \r\nQ 18.3125 60.0625 18.3125 54.390625 \r\nz\r\n\" id=\"DejaVuSans-56\"/>\r\n       </defs>\r\n       <use xlink:href=\"#DejaVuSans-56\"/>\r\n       <use x=\"63.623047\" xlink:href=\"#DejaVuSans-46\"/>\r\n       <use x=\"95.410156\" xlink:href=\"#DejaVuSans-48\"/>\r\n      </g>\r\n     </g>\r\n    </g>\r\n    <g id=\"text_9\">\r\n     <!-- sepal width -->\r\n     <g transform=\"translate(168.824219 255.068509)scale(0.1 -0.1)\">\r\n      <defs>\r\n       <path d=\"M 44.28125 53.078125 \r\nL 44.28125 44.578125 \r\nQ 40.484375 46.53125 36.375 47.5 \r\nQ 32.28125 48.484375 27.875 48.484375 \r\nQ 21.1875 48.484375 17.84375 46.4375 \r\nQ 14.5 44.390625 14.5 40.28125 \r\nQ 14.5 37.15625 16.890625 35.375 \r\nQ 19.28125 33.59375 26.515625 31.984375 \r\nL 29.59375 31.296875 \r\nQ 39.15625 29.25 43.1875 25.515625 \r\nQ 47.21875 21.78125 47.21875 15.09375 \r\nQ 47.21875 7.46875 41.1875 3.015625 \r\nQ 35.15625 -1.421875 24.609375 -1.421875 \r\nQ 20.21875 -1.421875 15.453125 -0.5625 \r\nQ 10.6875 0.296875 5.421875 2 \r\nL 5.421875 11.28125 \r\nQ 10.40625 8.6875 15.234375 7.390625 \r\nQ 20.0625 6.109375 24.8125 6.109375 \r\nQ 31.15625 6.109375 34.5625 8.28125 \r\nQ 37.984375 10.453125 37.984375 14.40625 \r\nQ 37.984375 18.0625 35.515625 20.015625 \r\nQ 33.0625 21.96875 24.703125 23.78125 \r\nL 21.578125 24.515625 \r\nQ 13.234375 26.265625 9.515625 29.90625 \r\nQ 5.8125 33.546875 5.8125 39.890625 \r\nQ 5.8125 47.609375 11.28125 51.796875 \r\nQ 16.75 56 26.8125 56 \r\nQ 31.78125 56 36.171875 55.265625 \r\nQ 40.578125 54.546875 44.28125 53.078125 \r\nz\r\n\" id=\"DejaVuSans-115\"/>\r\n       <path d=\"M 56.203125 29.59375 \r\nL 56.203125 25.203125 \r\nL 14.890625 25.203125 \r\nQ 15.484375 15.921875 20.484375 11.0625 \r\nQ 25.484375 6.203125 34.421875 6.203125 \r\nQ 39.59375 6.203125 44.453125 7.46875 \r\nQ 49.3125 8.734375 54.109375 11.28125 \r\nL 54.109375 2.78125 \r\nQ 49.265625 0.734375 44.1875 -0.34375 \r\nQ 39.109375 -1.421875 33.890625 -1.421875 \r\nQ 20.796875 -1.421875 13.15625 6.1875 \r\nQ 5.515625 13.8125 5.515625 26.8125 \r\nQ 5.515625 40.234375 12.765625 48.109375 \r\nQ 20.015625 56 32.328125 56 \r\nQ 43.359375 56 49.78125 48.890625 \r\nQ 56.203125 41.796875 56.203125 29.59375 \r\nz\r\nM 47.21875 32.234375 \r\nQ 47.125 39.59375 43.09375 43.984375 \r\nQ 39.0625 48.390625 32.421875 48.390625 \r\nQ 24.90625 48.390625 20.390625 44.140625 \r\nQ 15.875 39.890625 15.1875 32.171875 \r\nz\r\n\" id=\"DejaVuSans-101\"/>\r\n       <path d=\"M 18.109375 8.203125 \r\nL 18.109375 -20.796875 \r\nL 9.078125 -20.796875 \r\nL 9.078125 54.6875 \r\nL 18.109375 54.6875 \r\nL 18.109375 46.390625 \r\nQ 20.953125 51.265625 25.265625 53.625 \r\nQ 29.59375 56 35.59375 56 \r\nQ 45.5625 56 51.78125 48.09375 \r\nQ 58.015625 40.1875 58.015625 27.296875 \r\nQ 58.015625 14.40625 51.78125 6.484375 \r\nQ 45.5625 -1.421875 35.59375 -1.421875 \r\nQ 29.59375 -1.421875 25.265625 0.953125 \r\nQ 20.953125 3.328125 18.109375 8.203125 \r\nz\r\nM 48.6875 27.296875 \r\nQ 48.6875 37.203125 44.609375 42.84375 \r\nQ 40.53125 48.484375 33.40625 48.484375 \r\nQ 26.265625 48.484375 22.1875 42.84375 \r\nQ 18.109375 37.203125 18.109375 27.296875 \r\nQ 18.109375 17.390625 22.1875 11.75 \r\nQ 26.265625 6.109375 33.40625 6.109375 \r\nQ 40.53125 6.109375 44.609375 11.75 \r\nQ 48.6875 17.390625 48.6875 27.296875 \r\nz\r\n\" id=\"DejaVuSans-112\"/>\r\n       <path d=\"M 34.28125 27.484375 \r\nQ 23.390625 27.484375 19.1875 25 \r\nQ 14.984375 22.515625 14.984375 16.5 \r\nQ 14.984375 11.71875 18.140625 8.90625 \r\nQ 21.296875 6.109375 26.703125 6.109375 \r\nQ 34.1875 6.109375 38.703125 11.40625 \r\nQ 43.21875 16.703125 43.21875 25.484375 \r\nL 43.21875 27.484375 \r\nz\r\nM 52.203125 31.203125 \r\nL 52.203125 0 \r\nL 43.21875 0 \r\nL 43.21875 8.296875 \r\nQ 40.140625 3.328125 35.546875 0.953125 \r\nQ 30.953125 -1.421875 24.3125 -1.421875 \r\nQ 15.921875 -1.421875 10.953125 3.296875 \r\nQ 6 8.015625 6 15.921875 \r\nQ 6 25.140625 12.171875 29.828125 \r\nQ 18.359375 34.515625 30.609375 34.515625 \r\nL 43.21875 34.515625 \r\nL 43.21875 35.40625 \r\nQ 43.21875 41.609375 39.140625 45 \r\nQ 35.0625 48.390625 27.6875 48.390625 \r\nQ 23 48.390625 18.546875 47.265625 \r\nQ 14.109375 46.140625 10.015625 43.890625 \r\nL 10.015625 52.203125 \r\nQ 14.9375 54.109375 19.578125 55.046875 \r\nQ 24.21875 56 28.609375 56 \r\nQ 40.484375 56 46.34375 49.84375 \r\nQ 52.203125 43.703125 52.203125 31.203125 \r\nz\r\n\" id=\"DejaVuSans-97\"/>\r\n       <path d=\"M 9.421875 75.984375 \r\nL 18.40625 75.984375 \r\nL 18.40625 0 \r\nL 9.421875 0 \r\nz\r\n\" id=\"DejaVuSans-108\"/>\r\n       <path id=\"DejaVuSans-32\"/>\r\n       <path d=\"M 4.203125 54.6875 \r\nL 13.1875 54.6875 \r\nL 24.421875 12.015625 \r\nL 35.59375 54.6875 \r\nL 46.1875 54.6875 \r\nL 57.421875 12.015625 \r\nL 68.609375 54.6875 \r\nL 77.59375 54.6875 \r\nL 63.28125 0 \r\nL 52.6875 0 \r\nL 40.921875 44.828125 \r\nL 29.109375 0 \r\nL 18.5 0 \r\nz\r\n\" id=\"DejaVuSans-119\"/>\r\n       <path d=\"M 9.421875 54.6875 \r\nL 18.40625 54.6875 \r\nL 18.40625 0 \r\nL 9.421875 0 \r\nz\r\nM 9.421875 75.984375 \r\nL 18.40625 75.984375 \r\nL 18.40625 64.59375 \r\nL 9.421875 64.59375 \r\nz\r\n\" id=\"DejaVuSans-105\"/>\r\n       <path d=\"M 45.40625 46.390625 \r\nL 45.40625 75.984375 \r\nL 54.390625 75.984375 \r\nL 54.390625 0 \r\nL 45.40625 0 \r\nL 45.40625 8.203125 \r\nQ 42.578125 3.328125 38.25 0.953125 \r\nQ 33.9375 -1.421875 27.875 -1.421875 \r\nQ 17.96875 -1.421875 11.734375 6.484375 \r\nQ 5.515625 14.40625 5.515625 27.296875 \r\nQ 5.515625 40.1875 11.734375 48.09375 \r\nQ 17.96875 56 27.875 56 \r\nQ 33.9375 56 38.25 53.625 \r\nQ 42.578125 51.265625 45.40625 46.390625 \r\nz\r\nM 14.796875 27.296875 \r\nQ 14.796875 17.390625 18.875 11.75 \r\nQ 22.953125 6.109375 30.078125 6.109375 \r\nQ 37.203125 6.109375 41.296875 11.75 \r\nQ 45.40625 17.390625 45.40625 27.296875 \r\nQ 45.40625 37.203125 41.296875 42.84375 \r\nQ 37.203125 48.484375 30.078125 48.484375 \r\nQ 22.953125 48.484375 18.875 42.84375 \r\nQ 14.796875 37.203125 14.796875 27.296875 \r\nz\r\n\" id=\"DejaVuSans-100\"/>\r\n       <path d=\"M 18.3125 70.21875 \r\nL 18.3125 54.6875 \r\nL 36.8125 54.6875 \r\nL 36.8125 47.703125 \r\nL 18.3125 47.703125 \r\nL 18.3125 18.015625 \r\nQ 18.3125 11.328125 20.140625 9.421875 \r\nQ 21.96875 7.515625 27.59375 7.515625 \r\nL 36.8125 7.515625 \r\nL 36.8125 0 \r\nL 27.59375 0 \r\nQ 17.1875 0 13.234375 3.875 \r\nQ 9.28125 7.765625 9.28125 18.015625 \r\nL 9.28125 47.703125 \r\nL 2.6875 47.703125 \r\nL 2.6875 54.6875 \r\nL 9.28125 54.6875 \r\nL 9.28125 70.21875 \r\nz\r\n\" id=\"DejaVuSans-116\"/>\r\n       <path d=\"M 54.890625 33.015625 \r\nL 54.890625 0 \r\nL 45.90625 0 \r\nL 45.90625 32.71875 \r\nQ 45.90625 40.484375 42.875 44.328125 \r\nQ 39.84375 48.1875 33.796875 48.1875 \r\nQ 26.515625 48.1875 22.3125 43.546875 \r\nQ 18.109375 38.921875 18.109375 30.90625 \r\nL 18.109375 0 \r\nL 9.078125 0 \r\nL 9.078125 75.984375 \r\nL 18.109375 75.984375 \r\nL 18.109375 46.1875 \r\nQ 21.34375 51.125 25.703125 53.5625 \r\nQ 30.078125 56 35.796875 56 \r\nQ 45.21875 56 50.046875 50.171875 \r\nQ 54.890625 44.34375 54.890625 33.015625 \r\nz\r\n\" id=\"DejaVuSans-104\"/>\r\n      </defs>\r\n      <use xlink:href=\"#DejaVuSans-115\"/>\r\n      <use x=\"52.099609\" xlink:href=\"#DejaVuSans-101\"/>\r\n      <use x=\"113.623047\" xlink:href=\"#DejaVuSans-112\"/>\r\n      <use x=\"177.099609\" xlink:href=\"#DejaVuSans-97\"/>\r\n      <use x=\"238.378906\" xlink:href=\"#DejaVuSans-108\"/>\r\n      <use x=\"266.162109\" xlink:href=\"#DejaVuSans-32\"/>\r\n      <use x=\"297.949219\" xlink:href=\"#DejaVuSans-119\"/>\r\n      <use x=\"379.736328\" xlink:href=\"#DejaVuSans-105\"/>\r\n      <use x=\"407.519531\" xlink:href=\"#DejaVuSans-100\"/>\r\n      <use x=\"470.996094\" xlink:href=\"#DejaVuSans-116\"/>\r\n      <use x=\"510.205078\" xlink:href=\"#DejaVuSans-104\"/>\r\n     </g>\r\n    </g>\r\n   </g>\r\n   <g id=\"matplotlib.axis_2\">\r\n    <g id=\"ytick_1\">\r\n     <g id=\"line2d_9\">\r\n      <defs>\r\n       <path d=\"M 0 0 \r\nL -3.5 0 \r\n\" id=\"m1cfe862c24\" style=\"stroke:#000000;stroke-width:0.8;\"/>\r\n      </defs>\r\n      <g>\r\n       <use style=\"stroke:#000000;stroke-width:0.8;\" x=\"30.103125\" xlink:href=\"#m1cfe862c24\" y=\"216.90831\"/>\r\n      </g>\r\n     </g>\r\n     <g id=\"text_10\">\r\n      <!-- 2.0 -->\r\n      <g transform=\"translate(7.2 220.707528)scale(0.1 -0.1)\">\r\n       <defs>\r\n        <path d=\"M 19.1875 8.296875 \r\nL 53.609375 8.296875 \r\nL 53.609375 0 \r\nL 7.328125 0 \r\nL 7.328125 8.296875 \r\nQ 12.9375 14.109375 22.625 23.890625 \r\nQ 32.328125 33.6875 34.8125 36.53125 \r\nQ 39.546875 41.84375 41.421875 45.53125 \r\nQ 43.3125 49.21875 43.3125 52.78125 \r\nQ 43.3125 58.59375 39.234375 62.25 \r\nQ 35.15625 65.921875 28.609375 65.921875 \r\nQ 23.96875 65.921875 18.8125 64.3125 \r\nQ 13.671875 62.703125 7.8125 59.421875 \r\nL 7.8125 69.390625 \r\nQ 13.765625 71.78125 18.9375 73 \r\nQ 24.125 74.21875 28.421875 74.21875 \r\nQ 39.75 74.21875 46.484375 68.546875 \r\nQ 53.21875 62.890625 53.21875 53.421875 \r\nQ 53.21875 48.921875 51.53125 44.890625 \r\nQ 49.859375 40.875 45.40625 35.40625 \r\nQ 44.1875 33.984375 37.640625 27.21875 \r\nQ 31.109375 20.453125 19.1875 8.296875 \r\nz\r\n\" id=\"DejaVuSans-50\"/>\r\n       </defs>\r\n       <use xlink:href=\"#DejaVuSans-50\"/>\r\n       <use x=\"63.623047\" xlink:href=\"#DejaVuSans-46\"/>\r\n       <use x=\"95.410156\" xlink:href=\"#DejaVuSans-48\"/>\r\n      </g>\r\n     </g>\r\n    </g>\r\n    <g id=\"ytick_2\">\r\n     <g id=\"line2d_10\">\r\n      <g>\r\n       <use style=\"stroke:#000000;stroke-width:0.8;\" x=\"30.103125\" xlink:href=\"#m1cfe862c24\" y=\"175.726491\"/>\r\n      </g>\r\n     </g>\r\n     <g id=\"text_11\">\r\n      <!-- 2.5 -->\r\n      <g transform=\"translate(7.2 179.52571)scale(0.1 -0.1)\">\r\n       <use xlink:href=\"#DejaVuSans-50\"/>\r\n       <use x=\"63.623047\" xlink:href=\"#DejaVuSans-46\"/>\r\n       <use x=\"95.410156\" xlink:href=\"#DejaVuSans-53\"/>\r\n      </g>\r\n     </g>\r\n    </g>\r\n    <g id=\"ytick_3\">\r\n     <g id=\"line2d_11\">\r\n      <g>\r\n       <use style=\"stroke:#000000;stroke-width:0.8;\" x=\"30.103125\" xlink:href=\"#m1cfe862c24\" y=\"134.544673\"/>\r\n      </g>\r\n     </g>\r\n     <g id=\"text_12\">\r\n      <!-- 3.0 -->\r\n      <g transform=\"translate(7.2 138.343892)scale(0.1 -0.1)\">\r\n       <defs>\r\n        <path d=\"M 40.578125 39.3125 \r\nQ 47.65625 37.796875 51.625 33 \r\nQ 55.609375 28.21875 55.609375 21.1875 \r\nQ 55.609375 10.40625 48.1875 4.484375 \r\nQ 40.765625 -1.421875 27.09375 -1.421875 \r\nQ 22.515625 -1.421875 17.65625 -0.515625 \r\nQ 12.796875 0.390625 7.625 2.203125 \r\nL 7.625 11.71875 \r\nQ 11.71875 9.328125 16.59375 8.109375 \r\nQ 21.484375 6.890625 26.8125 6.890625 \r\nQ 36.078125 6.890625 40.9375 10.546875 \r\nQ 45.796875 14.203125 45.796875 21.1875 \r\nQ 45.796875 27.640625 41.28125 31.265625 \r\nQ 36.765625 34.90625 28.71875 34.90625 \r\nL 20.21875 34.90625 \r\nL 20.21875 43.015625 \r\nL 29.109375 43.015625 \r\nQ 36.375 43.015625 40.234375 45.921875 \r\nQ 44.09375 48.828125 44.09375 54.296875 \r\nQ 44.09375 59.90625 40.109375 62.90625 \r\nQ 36.140625 65.921875 28.71875 65.921875 \r\nQ 24.65625 65.921875 20.015625 65.03125 \r\nQ 15.375 64.15625 9.8125 62.3125 \r\nL 9.8125 71.09375 \r\nQ 15.4375 72.65625 20.34375 73.4375 \r\nQ 25.25 74.21875 29.59375 74.21875 \r\nQ 40.828125 74.21875 47.359375 69.109375 \r\nQ 53.90625 64.015625 53.90625 55.328125 \r\nQ 53.90625 49.265625 50.4375 45.09375 \r\nQ 46.96875 40.921875 40.578125 39.3125 \r\nz\r\n\" id=\"DejaVuSans-51\"/>\r\n       </defs>\r\n       <use xlink:href=\"#DejaVuSans-51\"/>\r\n       <use x=\"63.623047\" xlink:href=\"#DejaVuSans-46\"/>\r\n       <use x=\"95.410156\" xlink:href=\"#DejaVuSans-48\"/>\r\n      </g>\r\n     </g>\r\n    </g>\r\n    <g id=\"ytick_4\">\r\n     <g id=\"line2d_12\">\r\n      <g>\r\n       <use style=\"stroke:#000000;stroke-width:0.8;\" x=\"30.103125\" xlink:href=\"#m1cfe862c24\" y=\"93.362855\"/>\r\n      </g>\r\n     </g>\r\n     <g id=\"text_13\">\r\n      <!-- 3.5 -->\r\n      <g transform=\"translate(7.2 97.162074)scale(0.1 -0.1)\">\r\n       <use xlink:href=\"#DejaVuSans-51\"/>\r\n       <use x=\"63.623047\" xlink:href=\"#DejaVuSans-46\"/>\r\n       <use x=\"95.410156\" xlink:href=\"#DejaVuSans-53\"/>\r\n      </g>\r\n     </g>\r\n    </g>\r\n    <g id=\"ytick_5\">\r\n     <g id=\"line2d_13\">\r\n      <g>\r\n       <use style=\"stroke:#000000;stroke-width:0.8;\" x=\"30.103125\" xlink:href=\"#m1cfe862c24\" y=\"52.181037\"/>\r\n      </g>\r\n     </g>\r\n     <g id=\"text_14\">\r\n      <!-- 4.0 -->\r\n      <g transform=\"translate(7.2 55.980256)scale(0.1 -0.1)\">\r\n       <use xlink:href=\"#DejaVuSans-52\"/>\r\n       <use x=\"63.623047\" xlink:href=\"#DejaVuSans-46\"/>\r\n       <use x=\"95.410156\" xlink:href=\"#DejaVuSans-48\"/>\r\n      </g>\r\n     </g>\r\n    </g>\r\n    <g id=\"ytick_6\">\r\n     <g id=\"line2d_14\">\r\n      <g>\r\n       <use style=\"stroke:#000000;stroke-width:0.8;\" x=\"30.103125\" xlink:href=\"#m1cfe862c24\" y=\"10.999219\"/>\r\n      </g>\r\n     </g>\r\n     <g id=\"text_15\">\r\n      <!-- 4.5 -->\r\n      <g transform=\"translate(7.2 14.798437)scale(0.1 -0.1)\">\r\n       <use xlink:href=\"#DejaVuSans-52\"/>\r\n       <use x=\"63.623047\" xlink:href=\"#DejaVuSans-46\"/>\r\n       <use x=\"95.410156\" xlink:href=\"#DejaVuSans-53\"/>\r\n      </g>\r\n     </g>\r\n    </g>\r\n   </g>\r\n   <g id=\"patch_3\">\r\n    <path d=\"M 30.103125 226.791946 \r\nL 30.103125 9.351946 \r\n\" style=\"fill:none;stroke:#000000;stroke-linecap:square;stroke-linejoin:miter;stroke-width:0.8;\"/>\r\n   </g>\r\n   <g id=\"patch_4\">\r\n    <path d=\"M 364.903125 226.791946 \r\nL 364.903125 9.351946 \r\n\" style=\"fill:none;stroke:#000000;stroke-linecap:square;stroke-linejoin:miter;stroke-width:0.8;\"/>\r\n   </g>\r\n   <g id=\"patch_5\">\r\n    <path d=\"M 30.103125 226.791946 \r\nL 364.903125 226.791946 \r\n\" style=\"fill:none;stroke:#000000;stroke-linecap:square;stroke-linejoin:miter;stroke-width:0.8;\"/>\r\n   </g>\r\n   <g id=\"patch_6\">\r\n    <path d=\"M 30.103125 9.351946 \r\nL 364.903125 9.351946 \r\n\" style=\"fill:none;stroke:#000000;stroke-linecap:square;stroke-linejoin:miter;stroke-width:0.8;\"/>\r\n   </g>\r\n   <g id=\"legend_1\">\r\n    <g id=\"patch_7\">\r\n     <path d=\"M 353.903125 22.351946 \r\nL 357.903125 22.351946 \r\nQ 359.903125 22.351946 359.903125 20.351946 \r\nL 359.903125 16.351946 \r\nQ 359.903125 14.351946 357.903125 14.351946 \r\nL 353.903125 14.351946 \r\nQ 351.903125 14.351946 351.903125 16.351946 \r\nL 351.903125 20.351946 \r\nQ 351.903125 22.351946 353.903125 22.351946 \r\nz\r\n\" style=\"fill:#ffffff;opacity:0.8;stroke:#cccccc;stroke-linejoin:miter;\"/>\r\n    </g>\r\n   </g>\r\n  </g>\r\n </g>\r\n <defs>\r\n  <clipPath id=\"p8994c44048\">\r\n   <rect height=\"217.44\" width=\"334.8\" x=\"30.103125\" y=\"9.351946\"/>\r\n  </clipPath>\r\n </defs>\r\n</svg>\r\n",
      "image/png": "[encoded data removed]"
     },
     "metadata": {
      "needs_background": "light"
     }
    }
   ],
   "source": [
    "iris_df['species'] = df_total.target\n",
    "\n",
    "markers = ['^', 's', 'o']\n",
    "\n",
    "for i, marker in enumerate(markers):\n",
    "    x_axis_data = iris_df[iris_df['species']==i]['sepal length (cm)']\n",
    "    y_axis_data = iris_df[iris_df['species']==i]['sepal width (cm)']\n",
    "    plt.scatter(x_axis_data, y_axis_data, marker=marker)\n",
    "\n",
    "plt.legend()\n",
    "plt.xlabel('sepal length')\n",
    "plt.xlabel('sepal width')\n",
    "plt.show;"
   ]
  },
  {
   "cell_type": "code",
   "execution_count": 59,
   "metadata": {},
   "outputs": [
    {
     "output_type": "execute_result",
     "data": {
      "text/plain": [
       "        PC1       PC2  species\n",
       "0 -1.818670  0.085559        0\n",
       "1  1.020951  0.064346        0\n",
       "2 -2.169711  0.268879        0\n",
       "3 -2.190350  0.488838        0\n",
       "4 -2.139563  0.313218        0"
      ],
      "text/html": "<div>\n<style scoped>\n    .dataframe tbody tr th:only-of-type {\n        vertical-align: middle;\n    }\n\n    .dataframe tbody tr th {\n        vertical-align: top;\n    }\n\n    .dataframe thead th {\n        text-align: right;\n    }\n</style>\n<table border=\"1\" class=\"dataframe\">\n  <thead>\n    <tr style=\"text-align: right;\">\n      <th></th>\n      <th>PC1</th>\n      <th>PC2</th>\n      <th>species</th>\n    </tr>\n  </thead>\n  <tbody>\n    <tr>\n      <th>0</th>\n      <td>-1.818670</td>\n      <td>0.085559</td>\n      <td>0</td>\n    </tr>\n    <tr>\n      <th>1</th>\n      <td>1.020951</td>\n      <td>0.064346</td>\n      <td>0</td>\n    </tr>\n    <tr>\n      <th>2</th>\n      <td>-2.169711</td>\n      <td>0.268879</td>\n      <td>0</td>\n    </tr>\n    <tr>\n      <th>3</th>\n      <td>-2.190350</td>\n      <td>0.488838</td>\n      <td>0</td>\n    </tr>\n    <tr>\n      <th>4</th>\n      <td>-2.139563</td>\n      <td>0.313218</td>\n      <td>0</td>\n    </tr>\n  </tbody>\n</table>\n</div>"
     },
     "metadata": {},
     "execution_count": 59
    }
   ],
   "source": [
    "iris_pca_df = pd.DataFrame(data=iris_pca, columns=['PC1', 'PC2'])\n",
    "iris_pca_df['species'] = iris.target\n",
    "iris_pca_df.head()"
   ]
  },
  {
   "cell_type": "code",
   "execution_count": 62,
   "metadata": {},
   "outputs": [],
   "source": [
    "X_train, X_test, y_train, y_test = train_test_split(\n",
    "        iris_pca_df[['PC1', 'PC2']], df_total.target, stratify=df_total.target,\n",
    "        test_size=0.25, random_state=2021\n",
    ")"
   ]
  },
  {
   "cell_type": "code",
   "execution_count": 63,
   "metadata": {},
   "outputs": [
    {
     "output_type": "execute_result",
     "data": {
      "text/plain": [
       "0.8157894736842105"
      ]
     },
     "metadata": {},
     "execution_count": 63
    }
   ],
   "source": [
    "dtc = DecisionTreeClassifier()\n",
    "dtc.fit(X_train, y_train)\n",
    "pred = dtc.predict(X_test)\n",
    "accuracy_score(y_test, pred)"
   ]
  },
  {
   "cell_type": "code",
   "execution_count": 64,
   "metadata": {},
   "outputs": [
    {
     "output_type": "execute_result",
     "data": {
      "text/plain": [
       "['../static/model/iris_pc.pkl']"
      ]
     },
     "metadata": {},
     "execution_count": 64
    }
   ],
   "source": [
    "joblib.dump(best_rf, '../static/model/iris_pc.pkl')"
   ]
  },
  {
   "cell_type": "code",
   "execution_count": null,
   "metadata": {},
   "outputs": [],
   "source": []
  }
 ]
}