{
 "metadata": {
  "language_info": {
   "codemirror_mode": {
    "name": "ipython",
    "version": 3
   },
   "file_extension": ".py",
   "mimetype": "text/x-python",
   "name": "python",
   "nbconvert_exporter": "python",
   "pygments_lexer": "ipython3",
   "version": "3.8.5-final"
  },
  "orig_nbformat": 2,
  "kernelspec": {
   "name": "python3",
   "display_name": "Python 3",
   "language": "python"
  }
 },
 "nbformat": 4,
 "nbformat_minor": 2,
 "cells": [
  {
   "source": [
    "# Covid-19 Open API 이용 -> Data 획득 -> DB 저장"
   ],
   "cell_type": "markdown",
   "metadata": {}
  },
  {
   "cell_type": "code",
   "execution_count": 1,
   "metadata": {},
   "outputs": [],
   "source": [
    "import requests\n",
    "import pandas as pd\n",
    "from bs4 import BeautifulSoup"
   ]
  },
  {
   "cell_type": "code",
   "execution_count": 2,
   "metadata": {},
   "outputs": [],
   "source": [
    "key_fd = open('../static/data/gov_data_api_key.txt', mode='r')\n",
    "govapi_key = key_fd.read(100)\n",
    "key_fd.close()"
   ]
  },
  {
   "source": [
    "### 1. 시도발생 현황 region 테이블에 저장하기"
   ],
   "cell_type": "markdown",
   "metadata": {}
  },
  {
   "cell_type": "code",
   "execution_count": 3,
   "metadata": {},
   "outputs": [],
   "source": [
    "start_date = '20201222'\n",
    "end_date = '20201222'\n",
    "page = 1"
   ]
  },
  {
   "cell_type": "code",
   "execution_count": 4,
   "metadata": {},
   "outputs": [],
   "source": [
    "corona_url = 'http://openapi.data.go.kr/openapi/service/rest/Covid19/getCovid19SidoInfStateJson'\n",
    "url = f'{corona_url}?ServiceKey={govapi_key}&pageNo={page}&numOfRows=10&startCreateDt={start_date}&endCreateDt={end_date}'"
   ]
  },
  {
   "cell_type": "code",
   "execution_count": 5,
   "metadata": {},
   "outputs": [
    {
     "output_type": "stream",
     "name": "stdout",
     "text": [
      "57\n"
     ]
    }
   ],
   "source": [
    "result = requests.get(url)\n",
    "soup = BeautifulSoup(result.text, 'xml')\n",
    "resultCode = soup.find('resultCode').get_text()\n",
    "if resultCode == '00':\n",
    "    print(soup.find('totalCount').string)\n",
    "elif resultCode == '99':\n",
    "    print(soup.find('resultMsg').string)"
   ]
  },
  {
   "cell_type": "code",
   "execution_count": 6,
   "metadata": {},
   "outputs": [
    {
     "output_type": "execute_result",
     "data": {
      "text/plain": [
       "                       등록시간  사망자    확진자 광역시도 전일대비   격리해제    격리중 지역발생 해외유입  \\\n",
       "0   2020-12-22 14:41:34.444    1   2361   검역   18   1658    702    0   18   \n",
       "1   2020-12-22 14:41:34.444    0    271   제주   19    103    168   19    0   \n",
       "2   2020-12-22 14:41:34.443    3   1095   경남   18    768    324   18    0   \n",
       "3   2020-12-22 14:41:34.443   61   2094   경북   59   1721    312   58    1   \n",
       "4   2020-12-22 14:41:34.443    5    513   전남    5    425     83    4    1   \n",
       "5   2020-12-22 14:41:34.443    7    692   전북    4    452    233    4    0   \n",
       "6   2020-12-22 14:41:34.443   19   1305   충남   17    974    312   15    2   \n",
       "7   2020-12-22 14:41:34.443   15    834   충북   31    441    378   30    1   \n",
       "8   2020-12-22 14:41:34.442   13    999   강원   23    709    277   23    0   \n",
       "9   2020-12-22 14:41:34.442  181  12150   경기  204   8608   3361  191   13   \n",
       "10  2020-12-22 14:41:34.442    0    130   세종    1    122      8    1    0   \n",
       "11  2020-12-22 14:41:34.442   17    568   울산    6    299    252    6    0   \n",
       "12  2020-12-22 14:41:34.442    6    708   대전    9    577    125    9    0   \n",
       "13  2020-12-22 14:41:34.442    3    905   광주   26    755    147   26    0   \n",
       "14  2020-12-22 14:41:34.441   19   2381   인천   45   1617    745   44    1   \n",
       "15  2020-12-22 14:41:34.441  200   7557   대구   39   7098    259   39    0   \n",
       "16  2020-12-22 14:41:34.441   28   1539   부산   26   1039    472   26    0   \n",
       "17  2020-12-22 14:41:34.441  144  15356   서울  317   8562   6650  309    8   \n",
       "18  2020-12-22 14:41:34.441  722  51458   합계  867  35928  14808  822   45   \n",
       "19  2020-12-22 09:38:32.207    1   2361   검역   18   1658    702    0   18   \n",
       "20  2020-12-22 09:38:32.207    0    271   제주   19    103    168   19    0   \n",
       "21  2020-12-22 09:38:32.207    3   1095   경남   18    768    324   18    0   \n",
       "22  2020-12-22 09:38:32.207   61   2094   경북   59   1721    312   58    1   \n",
       "23  2020-12-22 09:38:32.206    5    513   전남    5    425     83    4    1   \n",
       "24  2020-12-22 09:38:32.206    7    692   전북    4    452    233    4    0   \n",
       "25  2020-12-22 09:38:32.206   19   1305   충남   17    974    312   15    2   \n",
       "26  2020-12-22 09:38:32.206   15    834   충북   31    441    378   30    1   \n",
       "27  2020-12-22 09:38:32.206   13    999   강원   23    709    277   23    0   \n",
       "28  2020-12-22 09:38:32.206  181  12152   경기  206   8608   3363  193   13   \n",
       "29  2020-12-22 09:38:32.205    0    130   세종    1    122      8    1    0   \n",
       "30  2020-12-22 09:38:32.205   17    568   울산    6    299    252    6    0   \n",
       "31  2020-12-22 09:38:32.205    6    708   대전    9    577    125    9    0   \n",
       "32  2020-12-22 09:38:32.205    3    905   광주   26    755    147   26    0   \n",
       "33  2020-12-22 09:38:32.205   19   2381   인천   45   1617    745   44    1   \n",
       "34  2020-12-22 09:38:32.205  200   7557   대구   39   7098    259   39    0   \n",
       "35  2020-12-22 09:38:32.204   28   1539   부산   26   1039    472   26    0   \n",
       "36  2020-12-22 09:38:32.204  144  15356   서울  317   8562   6650  309    8   \n",
       "37  2020-12-22 09:38:32.204  722  51460   합계  869  35928  14810  824   45   \n",
       "38  2020-12-22 09:35:43.767    1   2361   검역   18   1658    702    0   18   \n",
       "39  2020-12-22 09:35:43.767    0    271   제주   19    103    168   19    0   \n",
       "40  2020-12-22 09:35:43.767    3   1095   경남   18    768    324   18    0   \n",
       "41  2020-12-22 09:35:43.767   61   2094   경북   59   1721    312   58    1   \n",
       "42  2020-12-22 09:35:43.767    5    513   전남    5    425     83    4    1   \n",
       "43  2020-12-22 09:35:43.766    7    692   전북    4    452    233    4    0   \n",
       "44  2020-12-22 09:35:43.766   19   1305   충남   17    974    312   15    2   \n",
       "45  2020-12-22 09:35:43.766   15    834   충북   31    441    378   30    1   \n",
       "46  2020-12-22 09:35:43.766   13    999   강원   23    709    277   23    0   \n",
       "47  2020-12-22 09:35:43.766  181  12152   경기  206   8608   3363  193   13   \n",
       "48  2020-12-22 09:35:43.766    0    130   세종    1    122      8    1    0   \n",
       "49  2020-12-22 09:35:43.766   17    568   울산    6    299    252    6    0   \n",
       "50  2020-12-22 09:35:43.765    6    708   대전    9    577    125    9    0   \n",
       "51  2020-12-22 09:35:43.765    3    905   광주   26    755    147   26    0   \n",
       "52  2020-12-22 09:35:43.765   19   2381   인천   45   1617    745   44    1   \n",
       "53  2020-12-22 09:35:43.765  200   7557   대구   39   7098    259   39    0   \n",
       "54  2020-12-22 09:35:43.765   28   1539   부산   26   1039    472   26    0   \n",
       "55  2020-12-22 09:35:43.765  144  15356   서울  317   8562   6650  309    8   \n",
       "56  2020-12-22 09:35:43.764  722  51460   합계  869  35928  14810  824   45   \n",
       "\n",
       "     10만명당 ID               기준시간                     수정시간  \n",
       "0        -     2020년 12월 22일 00시                     null  \n",
       "1    40.40     2020년 12월 22일 00시                     null  \n",
       "2    32.58     2020년 12월 22일 00시                     null  \n",
       "3    78.65     2020년 12월 22일 00시                     null  \n",
       "4    27.51     2020년 12월 22일 00시                     null  \n",
       "5    38.08     2020년 12월 22일 00시                     null  \n",
       "6    61.49     2020년 12월 22일 00시                     null  \n",
       "7    52.14     2020년 12월 22일 00시                     null  \n",
       "8    64.85     2020년 12월 22일 00시                     null  \n",
       "9    91.71     2020년 12월 22일 00시  2020-12-23 09:37:35.338  \n",
       "10   37.98     2020년 12월 22일 00시                     null  \n",
       "11   49.52     2020년 12월 22일 00시                     null  \n",
       "12   48.03     2020년 12월 22일 00시                     null  \n",
       "13   62.13     2020년 12월 22일 00시                     null  \n",
       "14   80.54     2020년 12월 22일 00시                     null  \n",
       "15  310.16     2020년 12월 22일 00시                     null  \n",
       "16   45.11     2020년 12월 22일 00시                     null  \n",
       "17  157.76     2020년 12월 22일 00시                     null  \n",
       "18   99.25     2020년 12월 22일 00시  2020-12-23 09:38:20.903  \n",
       "19       -     2020년 12월 22일 00시                     null  \n",
       "20   40.40     2020년 12월 22일 00시                     null  \n",
       "21   32.58     2020년 12월 22일 00시                     null  \n",
       "22   78.65     2020년 12월 22일 00시                     null  \n",
       "23   27.51     2020년 12월 22일 00시                     null  \n",
       "24   38.08     2020년 12월 22일 00시                     null  \n",
       "25   61.49     2020년 12월 22일 00시                     null  \n",
       "26   52.14     2020년 12월 22일 00시                     null  \n",
       "27   64.85     2020년 12월 22일 00시                     null  \n",
       "28   91.71     2020년 12월 22일 00시                     null  \n",
       "29   37.98     2020년 12월 22일 00시                     null  \n",
       "30   49.52     2020년 12월 22일 00시                     null  \n",
       "31   48.03     2020년 12월 22일 00시                     null  \n",
       "32   62.13     2020년 12월 22일 00시                     null  \n",
       "33   80.54     2020년 12월 22일 00시                     null  \n",
       "34  310.16     2020년 12월 22일 00시                     null  \n",
       "35   45.11     2020년 12월 22일 00시                     null  \n",
       "36  157.76     2020년 12월 22일 00시                     null  \n",
       "37   99.25     2020년 12월 22일 00시                     null  \n",
       "38       -     2020년 12월 22일 00시                     null  \n",
       "39   18.93     2020년 12월 22일 00시                     null  \n",
       "40   26.36     2020년 12월 22일 00시                     null  \n",
       "41   70.05     2020년 12월 22일 00시                     null  \n",
       "42   25.79     2020년 12월 22일 00시                     null  \n",
       "43   28.67     2020년 12월 22일 00시                     null  \n",
       "44   54.47     2020년 12월 22일 00시                     null  \n",
       "45   36.26     2020년 12월 22일 00시                     null  \n",
       "46   54.14     2020년 12월 22일 00시                     null  \n",
       "47   77.36     2020년 12월 22일 00시                     null  \n",
       "48   37.39     2020년 12월 22일 00시                     null  \n",
       "49   42.11     2020년 12월 22일 00시                     null  \n",
       "50   44.57     2020년 12월 22일 00시                     null  \n",
       "51   56.77     2020년 12월 22일 00시                     null  \n",
       "52   65.36     2020년 12월 22일 00시                     null  \n",
       "53  303.06     2020년 12월 22일 00시                     null  \n",
       "54   38.01     2020년 12월 22일 00시                     null  \n",
       "55  130.04     2020년 12월 22일 00시                     null  \n",
       "56   99.25     2020년 12월 22일 00시                     null  "
      ],
      "text/html": "<div>\n<style scoped>\n    .dataframe tbody tr th:only-of-type {\n        vertical-align: middle;\n    }\n\n    .dataframe tbody tr th {\n        vertical-align: top;\n    }\n\n    .dataframe thead th {\n        text-align: right;\n    }\n</style>\n<table border=\"1\" class=\"dataframe\">\n  <thead>\n    <tr style=\"text-align: right;\">\n      <th></th>\n      <th>등록시간</th>\n      <th>사망자</th>\n      <th>확진자</th>\n      <th>광역시도</th>\n      <th>전일대비</th>\n      <th>격리해제</th>\n      <th>격리중</th>\n      <th>지역발생</th>\n      <th>해외유입</th>\n      <th>10만명당</th>\n      <th>ID</th>\n      <th>기준시간</th>\n      <th>수정시간</th>\n    </tr>\n  </thead>\n  <tbody>\n    <tr>\n      <th>0</th>\n      <td>2020-12-22 14:41:34.444</td>\n      <td>1</td>\n      <td>2361</td>\n      <td>검역</td>\n      <td>18</td>\n      <td>1658</td>\n      <td>702</td>\n      <td>0</td>\n      <td>18</td>\n      <td>-</td>\n      <td></td>\n      <td>2020년 12월 22일 00시</td>\n      <td>null</td>\n    </tr>\n    <tr>\n      <th>1</th>\n      <td>2020-12-22 14:41:34.444</td>\n      <td>0</td>\n      <td>271</td>\n      <td>제주</td>\n      <td>19</td>\n      <td>103</td>\n      <td>168</td>\n      <td>19</td>\n      <td>0</td>\n      <td>40.40</td>\n      <td></td>\n      <td>2020년 12월 22일 00시</td>\n      <td>null</td>\n    </tr>\n    <tr>\n      <th>2</th>\n      <td>2020-12-22 14:41:34.443</td>\n      <td>3</td>\n      <td>1095</td>\n      <td>경남</td>\n      <td>18</td>\n      <td>768</td>\n      <td>324</td>\n      <td>18</td>\n      <td>0</td>\n      <td>32.58</td>\n      <td></td>\n      <td>2020년 12월 22일 00시</td>\n      <td>null</td>\n    </tr>\n    <tr>\n      <th>3</th>\n      <td>2020-12-22 14:41:34.443</td>\n      <td>61</td>\n      <td>2094</td>\n      <td>경북</td>\n      <td>59</td>\n      <td>1721</td>\n      <td>312</td>\n      <td>58</td>\n      <td>1</td>\n      <td>78.65</td>\n      <td></td>\n      <td>2020년 12월 22일 00시</td>\n      <td>null</td>\n    </tr>\n    <tr>\n      <th>4</th>\n      <td>2020-12-22 14:41:34.443</td>\n      <td>5</td>\n      <td>513</td>\n      <td>전남</td>\n      <td>5</td>\n      <td>425</td>\n      <td>83</td>\n      <td>4</td>\n      <td>1</td>\n      <td>27.51</td>\n      <td></td>\n      <td>2020년 12월 22일 00시</td>\n      <td>null</td>\n    </tr>\n    <tr>\n      <th>5</th>\n      <td>2020-12-22 14:41:34.443</td>\n      <td>7</td>\n      <td>692</td>\n      <td>전북</td>\n      <td>4</td>\n      <td>452</td>\n      <td>233</td>\n      <td>4</td>\n      <td>0</td>\n      <td>38.08</td>\n      <td></td>\n      <td>2020년 12월 22일 00시</td>\n      <td>null</td>\n    </tr>\n    <tr>\n      <th>6</th>\n      <td>2020-12-22 14:41:34.443</td>\n      <td>19</td>\n      <td>1305</td>\n      <td>충남</td>\n      <td>17</td>\n      <td>974</td>\n      <td>312</td>\n      <td>15</td>\n      <td>2</td>\n      <td>61.49</td>\n      <td></td>\n      <td>2020년 12월 22일 00시</td>\n      <td>null</td>\n    </tr>\n    <tr>\n      <th>7</th>\n      <td>2020-12-22 14:41:34.443</td>\n      <td>15</td>\n      <td>834</td>\n      <td>충북</td>\n      <td>31</td>\n      <td>441</td>\n      <td>378</td>\n      <td>30</td>\n      <td>1</td>\n      <td>52.14</td>\n      <td></td>\n      <td>2020년 12월 22일 00시</td>\n      <td>null</td>\n    </tr>\n    <tr>\n      <th>8</th>\n      <td>2020-12-22 14:41:34.442</td>\n      <td>13</td>\n      <td>999</td>\n      <td>강원</td>\n      <td>23</td>\n      <td>709</td>\n      <td>277</td>\n      <td>23</td>\n      <td>0</td>\n      <td>64.85</td>\n      <td></td>\n      <td>2020년 12월 22일 00시</td>\n      <td>null</td>\n    </tr>\n    <tr>\n      <th>9</th>\n      <td>2020-12-22 14:41:34.442</td>\n      <td>181</td>\n      <td>12150</td>\n      <td>경기</td>\n      <td>204</td>\n      <td>8608</td>\n      <td>3361</td>\n      <td>191</td>\n      <td>13</td>\n      <td>91.71</td>\n      <td></td>\n      <td>2020년 12월 22일 00시</td>\n      <td>2020-12-23 09:37:35.338</td>\n    </tr>\n    <tr>\n      <th>10</th>\n      <td>2020-12-22 14:41:34.442</td>\n      <td>0</td>\n      <td>130</td>\n      <td>세종</td>\n      <td>1</td>\n      <td>122</td>\n      <td>8</td>\n      <td>1</td>\n      <td>0</td>\n      <td>37.98</td>\n      <td></td>\n      <td>2020년 12월 22일 00시</td>\n      <td>null</td>\n    </tr>\n    <tr>\n      <th>11</th>\n      <td>2020-12-22 14:41:34.442</td>\n      <td>17</td>\n      <td>568</td>\n      <td>울산</td>\n      <td>6</td>\n      <td>299</td>\n      <td>252</td>\n      <td>6</td>\n      <td>0</td>\n      <td>49.52</td>\n      <td></td>\n      <td>2020년 12월 22일 00시</td>\n      <td>null</td>\n    </tr>\n    <tr>\n      <th>12</th>\n      <td>2020-12-22 14:41:34.442</td>\n      <td>6</td>\n      <td>708</td>\n      <td>대전</td>\n      <td>9</td>\n      <td>577</td>\n      <td>125</td>\n      <td>9</td>\n      <td>0</td>\n      <td>48.03</td>\n      <td></td>\n      <td>2020년 12월 22일 00시</td>\n      <td>null</td>\n    </tr>\n    <tr>\n      <th>13</th>\n      <td>2020-12-22 14:41:34.442</td>\n      <td>3</td>\n      <td>905</td>\n      <td>광주</td>\n      <td>26</td>\n      <td>755</td>\n      <td>147</td>\n      <td>26</td>\n      <td>0</td>\n      <td>62.13</td>\n      <td></td>\n      <td>2020년 12월 22일 00시</td>\n      <td>null</td>\n    </tr>\n    <tr>\n      <th>14</th>\n      <td>2020-12-22 14:41:34.441</td>\n      <td>19</td>\n      <td>2381</td>\n      <td>인천</td>\n      <td>45</td>\n      <td>1617</td>\n      <td>745</td>\n      <td>44</td>\n      <td>1</td>\n      <td>80.54</td>\n      <td></td>\n      <td>2020년 12월 22일 00시</td>\n      <td>null</td>\n    </tr>\n    <tr>\n      <th>15</th>\n      <td>2020-12-22 14:41:34.441</td>\n      <td>200</td>\n      <td>7557</td>\n      <td>대구</td>\n      <td>39</td>\n      <td>7098</td>\n      <td>259</td>\n      <td>39</td>\n      <td>0</td>\n      <td>310.16</td>\n      <td></td>\n      <td>2020년 12월 22일 00시</td>\n      <td>null</td>\n    </tr>\n    <tr>\n      <th>16</th>\n      <td>2020-12-22 14:41:34.441</td>\n      <td>28</td>\n      <td>1539</td>\n      <td>부산</td>\n      <td>26</td>\n      <td>1039</td>\n      <td>472</td>\n      <td>26</td>\n      <td>0</td>\n      <td>45.11</td>\n      <td></td>\n      <td>2020년 12월 22일 00시</td>\n      <td>null</td>\n    </tr>\n    <tr>\n      <th>17</th>\n      <td>2020-12-22 14:41:34.441</td>\n      <td>144</td>\n      <td>15356</td>\n      <td>서울</td>\n      <td>317</td>\n      <td>8562</td>\n      <td>6650</td>\n      <td>309</td>\n      <td>8</td>\n      <td>157.76</td>\n      <td></td>\n      <td>2020년 12월 22일 00시</td>\n      <td>null</td>\n    </tr>\n    <tr>\n      <th>18</th>\n      <td>2020-12-22 14:41:34.441</td>\n      <td>722</td>\n      <td>51458</td>\n      <td>합계</td>\n      <td>867</td>\n      <td>35928</td>\n      <td>14808</td>\n      <td>822</td>\n      <td>45</td>\n      <td>99.25</td>\n      <td></td>\n      <td>2020년 12월 22일 00시</td>\n      <td>2020-12-23 09:38:20.903</td>\n    </tr>\n    <tr>\n      <th>19</th>\n      <td>2020-12-22 09:38:32.207</td>\n      <td>1</td>\n      <td>2361</td>\n      <td>검역</td>\n      <td>18</td>\n      <td>1658</td>\n      <td>702</td>\n      <td>0</td>\n      <td>18</td>\n      <td>-</td>\n      <td></td>\n      <td>2020년 12월 22일 00시</td>\n      <td>null</td>\n    </tr>\n    <tr>\n      <th>20</th>\n      <td>2020-12-22 09:38:32.207</td>\n      <td>0</td>\n      <td>271</td>\n      <td>제주</td>\n      <td>19</td>\n      <td>103</td>\n      <td>168</td>\n      <td>19</td>\n      <td>0</td>\n      <td>40.40</td>\n      <td></td>\n      <td>2020년 12월 22일 00시</td>\n      <td>null</td>\n    </tr>\n    <tr>\n      <th>21</th>\n      <td>2020-12-22 09:38:32.207</td>\n      <td>3</td>\n      <td>1095</td>\n      <td>경남</td>\n      <td>18</td>\n      <td>768</td>\n      <td>324</td>\n      <td>18</td>\n      <td>0</td>\n      <td>32.58</td>\n      <td></td>\n      <td>2020년 12월 22일 00시</td>\n      <td>null</td>\n    </tr>\n    <tr>\n      <th>22</th>\n      <td>2020-12-22 09:38:32.207</td>\n      <td>61</td>\n      <td>2094</td>\n      <td>경북</td>\n      <td>59</td>\n      <td>1721</td>\n      <td>312</td>\n      <td>58</td>\n      <td>1</td>\n      <td>78.65</td>\n      <td></td>\n      <td>2020년 12월 22일 00시</td>\n      <td>null</td>\n    </tr>\n    <tr>\n      <th>23</th>\n      <td>2020-12-22 09:38:32.206</td>\n      <td>5</td>\n      <td>513</td>\n      <td>전남</td>\n      <td>5</td>\n      <td>425</td>\n      <td>83</td>\n      <td>4</td>\n      <td>1</td>\n      <td>27.51</td>\n      <td></td>\n      <td>2020년 12월 22일 00시</td>\n      <td>null</td>\n    </tr>\n    <tr>\n      <th>24</th>\n      <td>2020-12-22 09:38:32.206</td>\n      <td>7</td>\n      <td>692</td>\n      <td>전북</td>\n      <td>4</td>\n      <td>452</td>\n      <td>233</td>\n      <td>4</td>\n      <td>0</td>\n      <td>38.08</td>\n      <td></td>\n      <td>2020년 12월 22일 00시</td>\n      <td>null</td>\n    </tr>\n    <tr>\n      <th>25</th>\n      <td>2020-12-22 09:38:32.206</td>\n      <td>19</td>\n      <td>1305</td>\n      <td>충남</td>\n      <td>17</td>\n      <td>974</td>\n      <td>312</td>\n      <td>15</td>\n      <td>2</td>\n      <td>61.49</td>\n      <td></td>\n      <td>2020년 12월 22일 00시</td>\n      <td>null</td>\n    </tr>\n    <tr>\n      <th>26</th>\n      <td>2020-12-22 09:38:32.206</td>\n      <td>15</td>\n      <td>834</td>\n      <td>충북</td>\n      <td>31</td>\n      <td>441</td>\n      <td>378</td>\n      <td>30</td>\n      <td>1</td>\n      <td>52.14</td>\n      <td></td>\n      <td>2020년 12월 22일 00시</td>\n      <td>null</td>\n    </tr>\n    <tr>\n      <th>27</th>\n      <td>2020-12-22 09:38:32.206</td>\n      <td>13</td>\n      <td>999</td>\n      <td>강원</td>\n      <td>23</td>\n      <td>709</td>\n      <td>277</td>\n      <td>23</td>\n      <td>0</td>\n      <td>64.85</td>\n      <td></td>\n      <td>2020년 12월 22일 00시</td>\n      <td>null</td>\n    </tr>\n    <tr>\n      <th>28</th>\n      <td>2020-12-22 09:38:32.206</td>\n      <td>181</td>\n      <td>12152</td>\n      <td>경기</td>\n      <td>206</td>\n      <td>8608</td>\n      <td>3363</td>\n      <td>193</td>\n      <td>13</td>\n      <td>91.71</td>\n      <td></td>\n      <td>2020년 12월 22일 00시</td>\n      <td>null</td>\n    </tr>\n    <tr>\n      <th>29</th>\n      <td>2020-12-22 09:38:32.205</td>\n      <td>0</td>\n      <td>130</td>\n      <td>세종</td>\n      <td>1</td>\n      <td>122</td>\n      <td>8</td>\n      <td>1</td>\n      <td>0</td>\n      <td>37.98</td>\n      <td></td>\n      <td>2020년 12월 22일 00시</td>\n      <td>null</td>\n    </tr>\n    <tr>\n      <th>30</th>\n      <td>2020-12-22 09:38:32.205</td>\n      <td>17</td>\n      <td>568</td>\n      <td>울산</td>\n      <td>6</td>\n      <td>299</td>\n      <td>252</td>\n      <td>6</td>\n      <td>0</td>\n      <td>49.52</td>\n      <td></td>\n      <td>2020년 12월 22일 00시</td>\n      <td>null</td>\n    </tr>\n    <tr>\n      <th>31</th>\n      <td>2020-12-22 09:38:32.205</td>\n      <td>6</td>\n      <td>708</td>\n      <td>대전</td>\n      <td>9</td>\n      <td>577</td>\n      <td>125</td>\n      <td>9</td>\n      <td>0</td>\n      <td>48.03</td>\n      <td></td>\n      <td>2020년 12월 22일 00시</td>\n      <td>null</td>\n    </tr>\n    <tr>\n      <th>32</th>\n      <td>2020-12-22 09:38:32.205</td>\n      <td>3</td>\n      <td>905</td>\n      <td>광주</td>\n      <td>26</td>\n      <td>755</td>\n      <td>147</td>\n      <td>26</td>\n      <td>0</td>\n      <td>62.13</td>\n      <td></td>\n      <td>2020년 12월 22일 00시</td>\n      <td>null</td>\n    </tr>\n    <tr>\n      <th>33</th>\n      <td>2020-12-22 09:38:32.205</td>\n      <td>19</td>\n      <td>2381</td>\n      <td>인천</td>\n      <td>45</td>\n      <td>1617</td>\n      <td>745</td>\n      <td>44</td>\n      <td>1</td>\n      <td>80.54</td>\n      <td></td>\n      <td>2020년 12월 22일 00시</td>\n      <td>null</td>\n    </tr>\n    <tr>\n      <th>34</th>\n      <td>2020-12-22 09:38:32.205</td>\n      <td>200</td>\n      <td>7557</td>\n      <td>대구</td>\n      <td>39</td>\n      <td>7098</td>\n      <td>259</td>\n      <td>39</td>\n      <td>0</td>\n      <td>310.16</td>\n      <td></td>\n      <td>2020년 12월 22일 00시</td>\n      <td>null</td>\n    </tr>\n    <tr>\n      <th>35</th>\n      <td>2020-12-22 09:38:32.204</td>\n      <td>28</td>\n      <td>1539</td>\n      <td>부산</td>\n      <td>26</td>\n      <td>1039</td>\n      <td>472</td>\n      <td>26</td>\n      <td>0</td>\n      <td>45.11</td>\n      <td></td>\n      <td>2020년 12월 22일 00시</td>\n      <td>null</td>\n    </tr>\n    <tr>\n      <th>36</th>\n      <td>2020-12-22 09:38:32.204</td>\n      <td>144</td>\n      <td>15356</td>\n      <td>서울</td>\n      <td>317</td>\n      <td>8562</td>\n      <td>6650</td>\n      <td>309</td>\n      <td>8</td>\n      <td>157.76</td>\n      <td></td>\n      <td>2020년 12월 22일 00시</td>\n      <td>null</td>\n    </tr>\n    <tr>\n      <th>37</th>\n      <td>2020-12-22 09:38:32.204</td>\n      <td>722</td>\n      <td>51460</td>\n      <td>합계</td>\n      <td>869</td>\n      <td>35928</td>\n      <td>14810</td>\n      <td>824</td>\n      <td>45</td>\n      <td>99.25</td>\n      <td></td>\n      <td>2020년 12월 22일 00시</td>\n      <td>null</td>\n    </tr>\n    <tr>\n      <th>38</th>\n      <td>2020-12-22 09:35:43.767</td>\n      <td>1</td>\n      <td>2361</td>\n      <td>검역</td>\n      <td>18</td>\n      <td>1658</td>\n      <td>702</td>\n      <td>0</td>\n      <td>18</td>\n      <td>-</td>\n      <td></td>\n      <td>2020년 12월 22일 00시</td>\n      <td>null</td>\n    </tr>\n    <tr>\n      <th>39</th>\n      <td>2020-12-22 09:35:43.767</td>\n      <td>0</td>\n      <td>271</td>\n      <td>제주</td>\n      <td>19</td>\n      <td>103</td>\n      <td>168</td>\n      <td>19</td>\n      <td>0</td>\n      <td>18.93</td>\n      <td></td>\n      <td>2020년 12월 22일 00시</td>\n      <td>null</td>\n    </tr>\n    <tr>\n      <th>40</th>\n      <td>2020-12-22 09:35:43.767</td>\n      <td>3</td>\n      <td>1095</td>\n      <td>경남</td>\n      <td>18</td>\n      <td>768</td>\n      <td>324</td>\n      <td>18</td>\n      <td>0</td>\n      <td>26.36</td>\n      <td></td>\n      <td>2020년 12월 22일 00시</td>\n      <td>null</td>\n    </tr>\n    <tr>\n      <th>41</th>\n      <td>2020-12-22 09:35:43.767</td>\n      <td>61</td>\n      <td>2094</td>\n      <td>경북</td>\n      <td>59</td>\n      <td>1721</td>\n      <td>312</td>\n      <td>58</td>\n      <td>1</td>\n      <td>70.05</td>\n      <td></td>\n      <td>2020년 12월 22일 00시</td>\n      <td>null</td>\n    </tr>\n    <tr>\n      <th>42</th>\n      <td>2020-12-22 09:35:43.767</td>\n      <td>5</td>\n      <td>513</td>\n      <td>전남</td>\n      <td>5</td>\n      <td>425</td>\n      <td>83</td>\n      <td>4</td>\n      <td>1</td>\n      <td>25.79</td>\n      <td></td>\n      <td>2020년 12월 22일 00시</td>\n      <td>null</td>\n    </tr>\n    <tr>\n      <th>43</th>\n      <td>2020-12-22 09:35:43.766</td>\n      <td>7</td>\n      <td>692</td>\n      <td>전북</td>\n      <td>4</td>\n      <td>452</td>\n      <td>233</td>\n      <td>4</td>\n      <td>0</td>\n      <td>28.67</td>\n      <td></td>\n      <td>2020년 12월 22일 00시</td>\n      <td>null</td>\n    </tr>\n    <tr>\n      <th>44</th>\n      <td>2020-12-22 09:35:43.766</td>\n      <td>19</td>\n      <td>1305</td>\n      <td>충남</td>\n      <td>17</td>\n      <td>974</td>\n      <td>312</td>\n      <td>15</td>\n      <td>2</td>\n      <td>54.47</td>\n      <td></td>\n      <td>2020년 12월 22일 00시</td>\n      <td>null</td>\n    </tr>\n    <tr>\n      <th>45</th>\n      <td>2020-12-22 09:35:43.766</td>\n      <td>15</td>\n      <td>834</td>\n      <td>충북</td>\n      <td>31</td>\n      <td>441</td>\n      <td>378</td>\n      <td>30</td>\n      <td>1</td>\n      <td>36.26</td>\n      <td></td>\n      <td>2020년 12월 22일 00시</td>\n      <td>null</td>\n    </tr>\n    <tr>\n      <th>46</th>\n      <td>2020-12-22 09:35:43.766</td>\n      <td>13</td>\n      <td>999</td>\n      <td>강원</td>\n      <td>23</td>\n      <td>709</td>\n      <td>277</td>\n      <td>23</td>\n      <td>0</td>\n      <td>54.14</td>\n      <td></td>\n      <td>2020년 12월 22일 00시</td>\n      <td>null</td>\n    </tr>\n    <tr>\n      <th>47</th>\n      <td>2020-12-22 09:35:43.766</td>\n      <td>181</td>\n      <td>12152</td>\n      <td>경기</td>\n      <td>206</td>\n      <td>8608</td>\n      <td>3363</td>\n      <td>193</td>\n      <td>13</td>\n      <td>77.36</td>\n      <td></td>\n      <td>2020년 12월 22일 00시</td>\n      <td>null</td>\n    </tr>\n    <tr>\n      <th>48</th>\n      <td>2020-12-22 09:35:43.766</td>\n      <td>0</td>\n      <td>130</td>\n      <td>세종</td>\n      <td>1</td>\n      <td>122</td>\n      <td>8</td>\n      <td>1</td>\n      <td>0</td>\n      <td>37.39</td>\n      <td></td>\n      <td>2020년 12월 22일 00시</td>\n      <td>null</td>\n    </tr>\n    <tr>\n      <th>49</th>\n      <td>2020-12-22 09:35:43.766</td>\n      <td>17</td>\n      <td>568</td>\n      <td>울산</td>\n      <td>6</td>\n      <td>299</td>\n      <td>252</td>\n      <td>6</td>\n      <td>0</td>\n      <td>42.11</td>\n      <td></td>\n      <td>2020년 12월 22일 00시</td>\n      <td>null</td>\n    </tr>\n    <tr>\n      <th>50</th>\n      <td>2020-12-22 09:35:43.765</td>\n      <td>6</td>\n      <td>708</td>\n      <td>대전</td>\n      <td>9</td>\n      <td>577</td>\n      <td>125</td>\n      <td>9</td>\n      <td>0</td>\n      <td>44.57</td>\n      <td></td>\n      <td>2020년 12월 22일 00시</td>\n      <td>null</td>\n    </tr>\n    <tr>\n      <th>51</th>\n      <td>2020-12-22 09:35:43.765</td>\n      <td>3</td>\n      <td>905</td>\n      <td>광주</td>\n      <td>26</td>\n      <td>755</td>\n      <td>147</td>\n      <td>26</td>\n      <td>0</td>\n      <td>56.77</td>\n      <td></td>\n      <td>2020년 12월 22일 00시</td>\n      <td>null</td>\n    </tr>\n    <tr>\n      <th>52</th>\n      <td>2020-12-22 09:35:43.765</td>\n      <td>19</td>\n      <td>2381</td>\n      <td>인천</td>\n      <td>45</td>\n      <td>1617</td>\n      <td>745</td>\n      <td>44</td>\n      <td>1</td>\n      <td>65.36</td>\n      <td></td>\n      <td>2020년 12월 22일 00시</td>\n      <td>null</td>\n    </tr>\n    <tr>\n      <th>53</th>\n      <td>2020-12-22 09:35:43.765</td>\n      <td>200</td>\n      <td>7557</td>\n      <td>대구</td>\n      <td>39</td>\n      <td>7098</td>\n      <td>259</td>\n      <td>39</td>\n      <td>0</td>\n      <td>303.06</td>\n      <td></td>\n      <td>2020년 12월 22일 00시</td>\n      <td>null</td>\n    </tr>\n    <tr>\n      <th>54</th>\n      <td>2020-12-22 09:35:43.765</td>\n      <td>28</td>\n      <td>1539</td>\n      <td>부산</td>\n      <td>26</td>\n      <td>1039</td>\n      <td>472</td>\n      <td>26</td>\n      <td>0</td>\n      <td>38.01</td>\n      <td></td>\n      <td>2020년 12월 22일 00시</td>\n      <td>null</td>\n    </tr>\n    <tr>\n      <th>55</th>\n      <td>2020-12-22 09:35:43.765</td>\n      <td>144</td>\n      <td>15356</td>\n      <td>서울</td>\n      <td>317</td>\n      <td>8562</td>\n      <td>6650</td>\n      <td>309</td>\n      <td>8</td>\n      <td>130.04</td>\n      <td></td>\n      <td>2020년 12월 22일 00시</td>\n      <td>null</td>\n    </tr>\n    <tr>\n      <th>56</th>\n      <td>2020-12-22 09:35:43.764</td>\n      <td>722</td>\n      <td>51460</td>\n      <td>합계</td>\n      <td>869</td>\n      <td>35928</td>\n      <td>14810</td>\n      <td>824</td>\n      <td>45</td>\n      <td>99.25</td>\n      <td></td>\n      <td>2020년 12월 22일 00시</td>\n      <td>null</td>\n    </tr>\n  </tbody>\n</table>\n</div>"
     },
     "metadata": {},
     "execution_count": 6
    }
   ],
   "source": [
    "createDt_list,deathCnt_list,defCnt_list,gubun_list,incDec_list = [],[],[],[],[]\n",
    "isolClearCnt_list,isolIngCnt_list,localOccCnt_list,overFlowCnt_list = [],[],[],[]\n",
    "qurRate_list,seq_list,stdDay_list,updateDt_list = [],[],[],[]\n",
    "items = soup.find_all('item')\n",
    "for item in items:\n",
    "    createDt_list.append(item.find('createDt').string if item.find('createDt') else '')\n",
    "    deathCnt_list.append(item.find('deathCnt').string if item.find('deathCnt') else '')\n",
    "    defCnt_list.append(item.find('defCnt').string if item.find('defCnt') else '')\n",
    "    gubun_list.append(item.find('gubun').string if item.find('gubun') else '')\n",
    "    incDec_list.append(item.find('incDec').string if item.find('incDec') else '')\n",
    "    isolClearCnt_list.append(item.find('isolClearCnt').string if item.find('isolClearCnt') else '')\n",
    "    isolIngCnt_list.append(item.find('isolIngCnt').string if item.find('isolIngCnt') else '')\n",
    "    localOccCnt_list.append(item.find('localOccCnt').string if item.find('localOccCnt') else '')\n",
    "    overFlowCnt_list.append(item.find('overFlowCnt').string if item.find('overFlowCnt') else '')\n",
    "    qurRate_list.append(item.find('qurRate').string if item.find('qurRate') else '')\n",
    "    seq_list.append(item.find('seq_list').string if item.find('seq_list') else '')\n",
    "    stdDay_list.append(item.find('stdDay').string if item.find('stdDay') else '')\n",
    "    updateDt_list.append(item.find('updateDt').string if item.find('updateDt') else '')\n",
    "\n",
    "df = pd.DataFrame({\n",
    "    '등록시간':createDt_list, '사망자':deathCnt_list, '확진자':defCnt_list,\n",
    "    '광역시도':gubun_list, '전일대비':incDec_list, '격리해제':isolClearCnt_list, \n",
    "    '격리중':isolIngCnt_list, '지역발생':localOccCnt_list,'해외유입':overFlowCnt_list,\n",
    "    '10만명당':qurRate_list, 'ID':seq_list, '기준시간':stdDay_list, '수정시간':updateDt_list\n",
    "})\n",
    "df"
   ]
  },
  {
   "source": [
    "### 테이블 생성"
   ],
   "cell_type": "markdown",
   "metadata": {}
  },
  {
   "cell_type": "code",
   "execution_count": 7,
   "metadata": {},
   "outputs": [],
   "source": [
    "import sqlite3\n",
    "conn = sqlite3.connect('../db/covid.db')\n",
    "cur = conn.cursor()"
   ]
  },
  {
   "cell_type": "code",
   "execution_count": 8,
   "metadata": {},
   "outputs": [],
   "source": [
    "sql_table = '''create table if not exists region (\n",
    "  rid integer not null primary key autoincrement,\n",
    "  stdDay text not null,\n",
    "  deathCnt int not null,\n",
    "  defCnt int not null,\n",
    "  gubun text not null,\n",
    "  incDec int not null,\n",
    "  isolClearCnt int not null,\n",
    "  isolIngCnt int not null,\n",
    "  localOccCnt int not null,\n",
    "  overFlowCnt int not null,\n",
    "  qurRate float);\n",
    "'''\n",
    "cur.execute(sql_table)\n",
    "conn.commit()"
   ]
  },
  {
   "source": [
    "### 하나의 레코드를 DB에 삽입"
   ],
   "cell_type": "markdown",
   "metadata": {}
  },
  {
   "cell_type": "code",
   "execution_count": 9,
   "metadata": {},
   "outputs": [],
   "source": [
    "# 기준시간을 YYYY-MM-DD로 변환\n",
    "def change_date(x):\n",
    "    y = x.split(' ')\n",
    "    month = y[1][:-1] if len(y[1][:-1]) == 2 else '0'+y[1][:-1]\n",
    "    day = y[2][:-1] if len(y[2][:-1]) == 2 else '0'+y[2][:-1]\n",
    "    return f'{y[0][:-1]}-{month}-{day}'"
   ]
  },
  {
   "cell_type": "code",
   "execution_count": 10,
   "metadata": {},
   "outputs": [
    {
     "output_type": "execute_result",
     "data": {
      "text/plain": [
       "['2020-12-22', 1, 2361, '검역', 18, 1658, 702, 0, 18, None]"
      ]
     },
     "metadata": {},
     "execution_count": 10
    }
   ],
   "source": [
    "params = [change_date(df['기준시간'][0]), int(df['사망자'][0]), int(df['확진자'][0]), \n",
    "          df['광역시도'][0], int(df['전일대비'][0]), int(df['격리해제'][0]), \n",
    "          int(df['격리중'][0]), int(df['지역발생'][0]), int(df['해외유입'][0])]\n",
    "params.append(None if df['10만명당'][0]=='-' else float(df['10만명당'][0]))\n",
    "params"
   ]
  },
  {
   "cell_type": "code",
   "execution_count": 11,
   "metadata": {},
   "outputs": [],
   "source": [
    "sql_insert = '''insert into region(stdDay, deathCnt, defCnt, gubun, incDec, isolClearCnt,\n",
    "isolIngCnt, localOccCnt, overFlowCnt, qurRate) values(?,?,?,?,?,?,?,?,?,?);\n",
    "'''\n",
    "cur.execute(sql_insert, params)\n",
    "conn.commit()"
   ]
  },
  {
   "source": [
    "### 하루 데이터 19건을 DB에 삽입"
   ],
   "cell_type": "markdown",
   "metadata": {}
  },
  {
   "cell_type": "code",
   "execution_count": 12,
   "metadata": {},
   "outputs": [],
   "source": [
    "for i in range(19):\n",
    "    params = [change_date(df['기준시간'][i]), int(df['사망자'][i]), int(df['확진자'][i]), \n",
    "              df['광역시도'][i], int(df['전일대비'][i]), int(df['격리해제'][i]), \n",
    "              int(df['격리중'][i]), int(df['지역발생'][i]), int(df['해외유입'][i])]\n",
    "    params.append(None if df['10만명당'][i]=='-' else float(df['10만명당'][i]))\n",
    "    cur.execute(sql_insert, params)\n",
    "    conn.commit()"
   ]
  },
  {
   "source": [
    "### 최종적으로 3월1일부터 12월21까지 DB에 write하는 코드"
   ],
   "cell_type": "markdown",
   "metadata": {}
  },
  {
   "cell_type": "code",
   "execution_count": 13,
   "metadata": {},
   "outputs": [],
   "source": [
    "from tqdm import tqdm_notebook"
   ]
  },
  {
   "cell_type": "code",
   "execution_count": 14,
   "metadata": {},
   "outputs": [],
   "source": [
    "sql_insert = '''insert into region(stdDay, deathCnt, defCnt, gubun, incDec, isolClearCnt,\n",
    "isolIngCnt, localOccCnt, overFlowCnt, qurRate) values(?,?,?,?,?,?,?,?,?,?);\n",
    "'''\n",
    "month_dict = {3:31, 4:30, 5:31, 6:30, 7:31, 8:31, 9:30, 10:31, 11:30, 12:21}"
   ]
  },
  {
   "cell_type": "code",
   "execution_count": 15,
   "metadata": {},
   "outputs": [
    {
     "output_type": "display_data",
     "data": {
      "text/plain": "HBox(children=(HTML(value=''), FloatProgress(value=0.0, max=10.0), HTML(value='')))",
      "application/vnd.jupyter.widget-view+json": {
       "version_major": 2,
       "version_minor": 0,
       "model_id": "860c63ce4ace43e0816380e763b8aa85"
      }
     },
     "metadata": {}
    },
    {
     "output_type": "stream",
     "name": "stdout",
     "text": [
      "\n"
     ]
    }
   ],
   "source": [
    "for k, v in tqdm_notebook(month_dict.items()):\n",
    "    month = str(k) if k >= 10 else f'0{k}'\n",
    "    for i in range(1, v+1):\n",
    "        day = str(i) if i >= 10 else f'0{i}'\n",
    "        date = f'2020{month}{day}'\n",
    "        #print(date)\n",
    "        page = 1\n",
    "        url = f'{corona_url}?ServiceKey={govapi_key}&pageNo={page}&numOfRows=10&startCreateDt={date}&endCreateDt={date}'\n",
    "        soup = BeautifulSoup(requests.get(url).text, 'xml')\n",
    "\n",
    "        items = soup.find_all('item')\n",
    "        item_count = len(items)\n",
    "        if item_count == 0:\n",
    "            continue\n",
    "        for index, item in enumerate(items):\n",
    "            if item_count > 30 and index >= int(item_count/2):\n",
    "                break\n",
    "            stdDay = change_date(item.find('stdDay').string)\n",
    "            deathCnt = int(item.find('deathCnt').string) if item.find('deathCnt') else 0\n",
    "            defCnt = int(item.find('defCnt').string) if item.find('defCnt') else 0\n",
    "            gubun = item.find('gubun').string\n",
    "            incDec = int(item.find('incDec').string)\n",
    "            isolClearCnt = int(item.find('isolClearCnt').string) if item.find('isolClearCnt') else 0\n",
    "            isolIngCnt = int(item.find('isolIngCnt').string) if item.find('isolIngCnt') else 0\n",
    "            localOccCnt = int(item.find('localOccCnt').string) if item.find('localOccCnt') else 0\n",
    "            overFlowCnt = int(item.find('overFlowCnt').string) if item.find('overFlowCnt') else 0\n",
    "            qurRate = None\n",
    "            if item.find('qurRate'):\n",
    "                qur = item.find('qurRate').string\n",
    "                if qur != None and qur.count('.') == 2:\n",
    "                    qur = qur[:-1]\n",
    "                #print(qur)\n",
    "                if qur != None and qur[0] in '0123456789':\n",
    "                    qurRate = float(qur)\n",
    "        \n",
    "            params = [stdDay, deathCnt, defCnt, gubun, incDec, isolClearCnt, isolIngCnt, \n",
    "                    localOccCnt, overFlowCnt, qurRate]\n",
    "            #print(params)\n",
    "            cur.execute(sql_insert, params)\n",
    "            conn.commit()"
   ]
  },
  {
   "cell_type": "code",
   "execution_count": 16,
   "metadata": {},
   "outputs": [],
   "source": [
    "cur.close()\n",
    "conn.close()"
   ]
  },
  {
   "source": [
    "# 2. 연령별.성별 데이터"
   ],
   "cell_type": "markdown",
   "metadata": {}
  },
  {
   "cell_type": "code",
   "execution_count": 17,
   "metadata": {},
   "outputs": [],
   "source": [
    "start_date = '20201222'\n",
    "end_date = '20201222'\n",
    "page = 1"
   ]
  },
  {
   "cell_type": "code",
   "execution_count": 18,
   "metadata": {},
   "outputs": [],
   "source": [
    "corona_url = 'http://openapi.data.go.kr/openapi/service/rest/Covid19/getCovid19GenAgeCaseInfJson'\n",
    "url = f'{corona_url}?ServiceKey={govapi_key}&pageNo={page}&numOfRows=10&startCreateDt={start_date}&endCreateDt={end_date}'"
   ]
  },
  {
   "cell_type": "code",
   "execution_count": 19,
   "metadata": {},
   "outputs": [
    {
     "output_type": "stream",
     "name": "stdout",
     "text": [
      "11\n"
     ]
    }
   ],
   "source": [
    "result = requests.get(url)\n",
    "soup = BeautifulSoup(result.text, 'xml')\n",
    "resultCode = soup.find('resultCode').get_text()\n",
    "if resultCode == '00':\n",
    "    print(soup.find('totalCount').string)\n",
    "elif resultCode == '99':\n",
    "    print(soup.find('resultMsg').string)"
   ]
  },
  {
   "cell_type": "code",
   "execution_count": 20,
   "metadata": {},
   "outputs": [
    {
     "output_type": "execute_result",
     "data": {
      "text/plain": [
       "<?xml version=\"1.0\" encoding=\"utf-8\"?>\n",
       "<response><header><resultCode>00</resultCode><resultMsg>NORMAL SERVICE.</resultMsg></header><body><items><item><confCase>1715</confCase><confCaseRate>3.33</confCaseRate><createDt>2020-12-22 14:11:34.462</createDt><criticalRate>0</criticalRate><death>0</death><deathRate>0.00</deathRate><gubun>0-9</gubun><seq>5587</seq><updateDt>null</updateDt></item><item><confCase>3206</confCase><confCaseRate>6.23</confCaseRate><createDt>2020-12-22 14:11:34.462</createDt><criticalRate>0</criticalRate><death>0</death><deathRate>0.00</deathRate><gubun>10-19</gubun><seq>5586</seq><updateDt>null</updateDt></item><item><confCase>8657</confCase><confCaseRate>16.82</confCaseRate><createDt>2020-12-22 14:11:34.462</createDt><criticalRate>0</criticalRate><death>0</death><deathRate>0.00</deathRate><gubun>20-29</gubun><seq>5585</seq><updateDt>null</updateDt></item><item><confCase>6518</confCase><confCaseRate>12.67</confCaseRate><createDt>2020-12-22 14:11:34.461</createDt><criticalRate>0.06</criticalRate><death>4</death><deathRate>0.55</deathRate><gubun>30-39</gubun><seq>5584</seq><updateDt>null</updateDt></item><item><confCase>7223</confCase><confCaseRate>14.04</confCaseRate><createDt>2020-12-22 14:11:34.461</createDt><criticalRate>0.08</criticalRate><death>6</death><deathRate>0.83</deathRate><gubun>40-49</gubun><seq>5583</seq><updateDt>null</updateDt></item><item><confCase>9582</confCase><confCaseRate>18.62</confCaseRate><createDt>2020-12-22 14:11:34.461</createDt><criticalRate>0.3</criticalRate><death>29</death><deathRate>4.02</deathRate><gubun>50-59</gubun><seq>5582</seq><updateDt>null</updateDt></item><item><confCase>8015</confCase><confCaseRate>15.58</confCaseRate><createDt>2020-12-22 14:11:34.461</createDt><criticalRate>1.1</criticalRate><death>88</death><deathRate>12.19</deathRate><gubun>60-69</gubun><seq>5581</seq><updateDt>null</updateDt></item><item><confCase>4065</confCase><confCaseRate>7.9</confCaseRate><createDt>2020-12-22 14:11:34.461</createDt><criticalRate>5.19</criticalRate><death>211</death><deathRate>29.22</deathRate><gubun>70-79</gubun><seq>5580</seq><updateDt>null</updateDt></item><item><confCase>2479</confCase><confCaseRate>4.82</confCaseRate><createDt>2020-12-22 14:11:34.461</createDt><criticalRate>15.49</criticalRate><death>384</death><deathRate>53.19</deathRate><gubun>80 이상</gubun><seq>5579</seq><updateDt>null</updateDt></item><item><confCase>26708</confCase><confCaseRate>51.9</confCaseRate><createDt>2020-12-22 14:11:34.46</createDt><criticalRate>1.34</criticalRate><death>357</death><deathRate>49.45</deathRate><gubun>여성</gubun><seq>5578</seq><updateDt>null</updateDt></item><item><confCase>24752</confCase><confCaseRate>48.1</confCaseRate><createDt>2020-12-22 14:11:34.46</createDt><criticalRate>1.47</criticalRate><death>365</death><deathRate>50.55</deathRate><gubun>남성</gubun><seq>5577</seq><updateDt>null</updateDt></item></items><numOfRows>10</numOfRows><pageNo>1</pageNo><totalCount>11</totalCount></body></response>"
      ]
     },
     "metadata": {},
     "execution_count": 20
    }
   ],
   "source": [
    "soup"
   ]
  },
  {
   "cell_type": "code",
   "execution_count": 21,
   "metadata": {},
   "outputs": [
    {
     "output_type": "execute_result",
     "data": {
      "text/plain": [
       "                       등록시간    확진자    확진률  사망자    사망률    치명률     구분    ID  \\\n",
       "0   2020-12-22 14:11:34.462   1715   3.33    0   0.00      0    0-9  5587   \n",
       "1   2020-12-22 14:11:34.462   3206   6.23    0   0.00      0  10-19  5586   \n",
       "2   2020-12-22 14:11:34.462   8657  16.82    0   0.00      0  20-29  5585   \n",
       "3   2020-12-22 14:11:34.461   6518  12.67    4   0.55   0.06  30-39  5584   \n",
       "4   2020-12-22 14:11:34.461   7223  14.04    6   0.83   0.08  40-49  5583   \n",
       "5   2020-12-22 14:11:34.461   9582  18.62   29   4.02    0.3  50-59  5582   \n",
       "6   2020-12-22 14:11:34.461   8015  15.58   88  12.19    1.1  60-69  5581   \n",
       "7   2020-12-22 14:11:34.461   4065    7.9  211  29.22   5.19  70-79  5580   \n",
       "8   2020-12-22 14:11:34.461   2479   4.82  384  53.19  15.49  80 이상  5579   \n",
       "9    2020-12-22 14:11:34.46  26708   51.9  357  49.45   1.34     여성  5578   \n",
       "10   2020-12-22 14:11:34.46  24752   48.1  365  50.55   1.47     남성  5577   \n",
       "\n",
       "    수정시간  \n",
       "0   null  \n",
       "1   null  \n",
       "2   null  \n",
       "3   null  \n",
       "4   null  \n",
       "5   null  \n",
       "6   null  \n",
       "7   null  \n",
       "8   null  \n",
       "9   null  \n",
       "10  null  "
      ],
      "text/html": "<div>\n<style scoped>\n    .dataframe tbody tr th:only-of-type {\n        vertical-align: middle;\n    }\n\n    .dataframe tbody tr th {\n        vertical-align: top;\n    }\n\n    .dataframe thead th {\n        text-align: right;\n    }\n</style>\n<table border=\"1\" class=\"dataframe\">\n  <thead>\n    <tr style=\"text-align: right;\">\n      <th></th>\n      <th>등록시간</th>\n      <th>확진자</th>\n      <th>확진률</th>\n      <th>사망자</th>\n      <th>사망률</th>\n      <th>치명률</th>\n      <th>구분</th>\n      <th>ID</th>\n      <th>수정시간</th>\n    </tr>\n  </thead>\n  <tbody>\n    <tr>\n      <th>0</th>\n      <td>2020-12-22 14:11:34.462</td>\n      <td>1715</td>\n      <td>3.33</td>\n      <td>0</td>\n      <td>0.00</td>\n      <td>0</td>\n      <td>0-9</td>\n      <td>5587</td>\n      <td>null</td>\n    </tr>\n    <tr>\n      <th>1</th>\n      <td>2020-12-22 14:11:34.462</td>\n      <td>3206</td>\n      <td>6.23</td>\n      <td>0</td>\n      <td>0.00</td>\n      <td>0</td>\n      <td>10-19</td>\n      <td>5586</td>\n      <td>null</td>\n    </tr>\n    <tr>\n      <th>2</th>\n      <td>2020-12-22 14:11:34.462</td>\n      <td>8657</td>\n      <td>16.82</td>\n      <td>0</td>\n      <td>0.00</td>\n      <td>0</td>\n      <td>20-29</td>\n      <td>5585</td>\n      <td>null</td>\n    </tr>\n    <tr>\n      <th>3</th>\n      <td>2020-12-22 14:11:34.461</td>\n      <td>6518</td>\n      <td>12.67</td>\n      <td>4</td>\n      <td>0.55</td>\n      <td>0.06</td>\n      <td>30-39</td>\n      <td>5584</td>\n      <td>null</td>\n    </tr>\n    <tr>\n      <th>4</th>\n      <td>2020-12-22 14:11:34.461</td>\n      <td>7223</td>\n      <td>14.04</td>\n      <td>6</td>\n      <td>0.83</td>\n      <td>0.08</td>\n      <td>40-49</td>\n      <td>5583</td>\n      <td>null</td>\n    </tr>\n    <tr>\n      <th>5</th>\n      <td>2020-12-22 14:11:34.461</td>\n      <td>9582</td>\n      <td>18.62</td>\n      <td>29</td>\n      <td>4.02</td>\n      <td>0.3</td>\n      <td>50-59</td>\n      <td>5582</td>\n      <td>null</td>\n    </tr>\n    <tr>\n      <th>6</th>\n      <td>2020-12-22 14:11:34.461</td>\n      <td>8015</td>\n      <td>15.58</td>\n      <td>88</td>\n      <td>12.19</td>\n      <td>1.1</td>\n      <td>60-69</td>\n      <td>5581</td>\n      <td>null</td>\n    </tr>\n    <tr>\n      <th>7</th>\n      <td>2020-12-22 14:11:34.461</td>\n      <td>4065</td>\n      <td>7.9</td>\n      <td>211</td>\n      <td>29.22</td>\n      <td>5.19</td>\n      <td>70-79</td>\n      <td>5580</td>\n      <td>null</td>\n    </tr>\n    <tr>\n      <th>8</th>\n      <td>2020-12-22 14:11:34.461</td>\n      <td>2479</td>\n      <td>4.82</td>\n      <td>384</td>\n      <td>53.19</td>\n      <td>15.49</td>\n      <td>80 이상</td>\n      <td>5579</td>\n      <td>null</td>\n    </tr>\n    <tr>\n      <th>9</th>\n      <td>2020-12-22 14:11:34.46</td>\n      <td>26708</td>\n      <td>51.9</td>\n      <td>357</td>\n      <td>49.45</td>\n      <td>1.34</td>\n      <td>여성</td>\n      <td>5578</td>\n      <td>null</td>\n    </tr>\n    <tr>\n      <th>10</th>\n      <td>2020-12-22 14:11:34.46</td>\n      <td>24752</td>\n      <td>48.1</td>\n      <td>365</td>\n      <td>50.55</td>\n      <td>1.47</td>\n      <td>남성</td>\n      <td>5577</td>\n      <td>null</td>\n    </tr>\n  </tbody>\n</table>\n</div>"
     },
     "metadata": {},
     "execution_count": 21
    }
   ],
   "source": [
    "createDt_list,confCase_list,confCaseRate_list,death_list,deathRate_list = [],[],[],[],[]\n",
    "gubun_list,criticalRate_list,seq_list,updateDt_list = [],[],[],[]\n",
    "items = soup.find_all('item')\n",
    "for item in items:\n",
    "    createDt_list.append(item.find('createDt').string if item.find('createDt') else '')\n",
    "    confCase_list.append(item.find('confCase').string if item.find('confCase') else '')\n",
    "    confCaseRate_list.append(item.find('confCaseRate').string if item.find('confCaseRate') else '')\n",
    "    death_list.append(item.find('death').string if item.find('death') else '')\n",
    "    deathRate_list.append(item.find('deathRate').string if item.find('deathRate') else '')\n",
    "    criticalRate_list.append(item.find('criticalRate').string if item.find('criticalRate') else '')\n",
    "    gubun_list.append(item.find('gubun').string if item.find('gubun') else '')\n",
    "    seq_list.append(item.find('seq').string if item.find('seq') else '')\n",
    "    updateDt_list.append(item.find('updateDt').string if item.find('updateDt') else '')\n",
    "\n",
    "df = pd.DataFrame({\n",
    "    '등록시간':createDt_list, '확진자':confCase_list, '확진률':confCaseRate_list,\n",
    "    '사망자':death_list, '사망률':deathRate_list, '치명률':criticalRate_list, \n",
    "    '구분':gubun_list, 'ID':seq_list, '수정시간':updateDt_list\n",
    "})\n",
    "df"
   ]
  },
  {
   "cell_type": "code",
   "execution_count": 22,
   "metadata": {},
   "outputs": [],
   "source": [
    "conn = sqlite3.connect('../db/covid.db')\n",
    "cur = conn.cursor()"
   ]
  },
  {
   "cell_type": "code",
   "execution_count": 23,
   "metadata": {},
   "outputs": [],
   "source": [
    "sql_table = '''create table if not exists agender (\n",
    "  agid integer not null primary key autoincrement,\n",
    "  stdDay text not null,\n",
    "  confCase int not null,\n",
    "  confCaseRate float not null,\n",
    "  death int not null,\n",
    "  deathRate float not null,\n",
    "  criticalRate float not null,\n",
    "  gubun text not null,\n",
    "  seq int,\n",
    "  updateDt text);\n",
    "'''\n",
    "cur.execute(sql_table)\n",
    "conn.commit()"
   ]
  },
  {
   "cell_type": "code",
   "execution_count": 24,
   "metadata": {},
   "outputs": [
    {
     "output_type": "display_data",
     "data": {
      "text/plain": "HBox(children=(HTML(value=''), FloatProgress(value=0.0, max=10.0), HTML(value='')))",
      "application/vnd.jupyter.widget-view+json": {
       "version_major": 2,
       "version_minor": 0,
       "model_id": "942cf59e1adb41bd829d2621ac1b97df"
      }
     },
     "metadata": {}
    },
    {
     "output_type": "stream",
     "name": "stdout",
     "text": [
      "3월: 1-0, 2-0, 3-0, 4-0, 5-0, 6-0, 7-0, 8-0, 9-0, 10-0, 11-0, 12-0, 13-0, 14-0, 15-0, 16-0, 17-0, 18-0, 19-0, 20-0, 21-0, 22-0, 23-0, 24-0, 25-0, 26-0, 27-0, 28-0, 29-0, 30-0, 31-0, \n",
      "4월: 1-0, 2-11, 3-0, 4-0, 5-0, 6-0, 7-12, 8-11, 9-11, 10-11, 11-11, 12-11, 13-11, 14-11, 15-11, 16-11, 17-11, 18-11, 19-11, 20-11, 21-11, 22-11, 23-11, 24-11, 25-11, 26-11, 27-11, 28-11, 29-11, 30-11, \n",
      "5월: 1-11, 2-11, 3-11, 4-11, 5-11, 6-11, 7-11, 8-11, 9-11, 10-11, 11-11, 12-11, 13-11, 14-11, 15-11, 16-11, 17-11, 18-11, 19-11, 20-11, 21-11, 22-0, 23-11, 24-11, 25-11, 26-11, 27-11, 28-11, 29-11, 30-11, 31-11, \n",
      "6월: 1-0, 2-11, 3-11, 4-11, 5-11, 6-11, 7-11, 8-11, 9-11, 10-11, 11-11, 12-11, 13-11, 14-11, 15-0, 16-11, 17-11, 18-11, 19-11, 20-11, 21-11, 22-11, 23-11, 24-11, 25-11, 26-11, 27-11, 28-11, 29-11, 30-11, \n",
      "7월: 1-11, 2-11, 3-11, 4-11, 5-11, 6-11, 7-11, 8-11, 9-11, 10-11, 11-11, 12-11, 13-11, 14-11, 15-11, 16-11, 17-11, 18-11, 19-11, 20-11, 21-11, 22-11, 23-11, 24-11, 25-11, 26-11, 27-11, 28-11, 29-11, 30-11, 31-11, \n",
      "8월: 1-11, 2-11, 3-11, 4-11, 5-11, 6-11, 7-11, 8-11, 9-11, 10-11, 11-11, 12-11, 13-11, 14-11, 15-11, 16-11, 17-11, 18-11, 19-11, 20-11, 21-11, 22-11, 23-11, 24-11, 25-11, 26-11, 27-11, 28-11, 29-11, 30-11, 31-11, \n",
      "9월: 1-11, 2-11, 3-11, 4-11, 5-11, 6-11, 7-11, 8-11, 9-11, 10-11, 11-11, 12-11, 13-11, 14-11, 15-11, 16-11, 17-11, 18-11, 19-11, 20-11, 21-11, 22-11, 23-11, 24-11, 25-11, 26-11, 27-11, 28-11, 29-11, 30-11, \n",
      "10월: 1-11, 2-11, 3-11, 4-11, 5-11, 6-11, 7-11, 8-11, 9-0, 10-11, 11-11, 12-11, 13-11, 14-11, 15-11, 16-11, 17-11, 18-11, 19-11, 20-11, 21-11, 22-11, 23-11, 24-11, 25-11, 26-11, 27-11, 28-11, 29-11, 30-11, 31-11, \n",
      "11월: 1-11, 2-11, 3-11, 4-11, 5-11, 6-22, 7-11, 8-11, 9-11, 10-11, 11-11, 12-11, 13-11, 14-11, 15-11, 16-11, 17-11, 18-11, 19-11, 20-11, 21-11, 22-11, 23-11, 24-11, 25-11, 26-11, 27-11, 28-11, 29-11, 30-11, \n",
      "12월: 1-11, 2-11, 3-11, 4-11, 5-11, 6-11, 7-11, 8-11, 9-11, 10-11, 11-11, 12-11, 13-11, 14-11, 15-11, 16-11, 17-11, 18-11, 19-11, 20-11, 21-11, \n",
      "\n"
     ]
    }
   ],
   "source": [
    "month_dict = {3:31, 4:30, 5:31, 6:30, 7:31, 8:31, 9:30, 10:31, 11:30, 12:21}\n",
    "for k, v in tqdm_notebook(month_dict.items()):\n",
    "    month = str(k) if k >= 10 else f'0{k}'\n",
    "    print(f'{k}월: ', end='')\n",
    "    for i in range(1, v+1):\n",
    "        day = str(i) if i >= 10 else f'0{i}'\n",
    "        print(f'{i}-', end='')\n",
    "        date = f'2020{month}{day}'\n",
    "        page = 1\n",
    "        url = f'{corona_url}?ServiceKey={govapi_key}&pageNo={page}&numOfRows=10&startCreateDt={date}&endCreateDt={date}'\n",
    "        soup = BeautifulSoup(requests.get(url).text, 'xml')\n",
    "\n",
    "        items = soup.find_all('item')\n",
    "        item_count = len(items)\n",
    "        print(f'{item_count}, ', end='')\n",
    "    print()"
   ]
  },
  {
   "cell_type": "code",
   "execution_count": 25,
   "metadata": {},
   "outputs": [],
   "source": [
    "sql_insert = '''insert into agender(stdDay, confCase, confCaseRate, death, deathRate,\n",
    "criticalRate, gubun, seq, updateDt) values(?,?,?,?,?,?,?,?,?);\n",
    "'''"
   ]
  },
  {
   "cell_type": "code",
   "execution_count": 26,
   "metadata": {},
   "outputs": [
    {
     "output_type": "display_data",
     "data": {
      "text/plain": "HBox(children=(HTML(value=''), FloatProgress(value=0.0, max=9.0), HTML(value='')))",
      "application/vnd.jupyter.widget-view+json": {
       "version_major": 2,
       "version_minor": 0,
       "model_id": "4b880c5ad7c84596b558fd7de332b275"
      }
     },
     "metadata": {}
    },
    {
     "output_type": "stream",
     "name": "stdout",
     "text": [
      "\n"
     ]
    }
   ],
   "source": [
    "month_dict = {4:30, 5:31, 6:30, 7:31, 8:31, 9:30, 10:31, 11:30, 12:21}\n",
    "for k, v in tqdm_notebook(month_dict.items()):\n",
    "    month = str(k) if k >= 10 else f'0{k}'\n",
    "    for i in range(1, v+1):\n",
    "        day = str(i) if i >= 10 else f'0{i}'\n",
    "        date = f'2020{month}{day}'\n",
    "        page = 1\n",
    "        url = f'{corona_url}?ServiceKey={govapi_key}&pageNo={page}&numOfRows=10&startCreateDt={date}&endCreateDt={date}'\n",
    "        soup = BeautifulSoup(requests.get(url).text, 'xml')\n",
    "\n",
    "        items = soup.find_all('item')\n",
    "        item_count = len(items)\n",
    "        if item_count == 0:\n",
    "            continue\n",
    "\n",
    "        for item in items:\n",
    "            createDt = item.find('createDt').string.split(' ')[0]\n",
    "            confCase = int(item.find('confCase').string)\n",
    "            confCaseRate = float(item.find('confCaseRate').string)\n",
    "            death = int(item.find('death').string)\n",
    "            deathRate = float(item.find('deathRate').string)\n",
    "            criticalRate = float(item.find('criticalRate').string)\n",
    "            gubun = item.find('gubun').string\n",
    "            seq = int(item.find('seq').string)\n",
    "            updateDt = item.find('updateDt').string\n",
    "\n",
    "            params = [createDt, confCase, confCaseRate, death, deathRate, criticalRate,\n",
    "                      gubun,seq,updateDt]\n",
    "            cur.execute(sql_insert, params)\n",
    "            conn.commit()"
   ]
  },
  {
   "cell_type": "code",
   "execution_count": 27,
   "metadata": {},
   "outputs": [],
   "source": [
    "cur.close()\n",
    "conn.close()"
   ]
  },
  {
   "cell_type": "code",
   "execution_count": null,
   "metadata": {},
   "outputs": [],
   "source": []
  }
 ]
}